{
 "cells": [
  {
   "cell_type": "code",
   "execution_count": null,
   "metadata": {},
   "outputs": [],
   "source": [
    "import torch\n",
    "import torch.nn as nn\n",
    "import torchvision\n",
    "import torchvision.transforms as transforms\n",
    "import pdb # for문 안에서 어떻게 진행되나 확인하는 것 -- about Debug\n",
    "\n",
    "import numpy as np \n",
    "import matplotlib.pyplot as plt\n",
    "\n",
    "# 모델 껍데기\n",
    "class ConvNet(nn.Module) :\n",
    "  def __init__(self, num_classes=10):\n",
    "    super(ConvNet, self).__init__()\n",
    "    # CL, ML, FL 등이 선형적으로 연결됨 --> sequential\n",
    "    # sequential 써도 되고... 따로 만들어도 되고\n",
    "    # 튜토리얼 : pytorch nn.conv2d 검색\n",
    "    self.layer1 = nn.Sequential(\n",
    "      nn.Conv2d(1,16,kernel_size=5,stride=1,padding=2),\n",
    "      nn.ReLU()\n",
    "    )# (28*28*16)\n",
    "    self.layer2 = nn.MaxPool2d(kernel_size=2,stride=2) # (14*14*16)\n",
    "    self.layer3 = nn.Sequential(\n",
    "      nn.Conv2d(16,32,kernel_size=5,stride=1,padding=2), # 위 conv에서 ch 늘린 만큼 채널 넣어준다\n",
    "      nn.ReLU()\n",
    "    )# (14*14*32)\n",
    "    self.layer4 = nn.MaxPool2d(kernel_size=2,stride=2) # (7*7*32)\n",
    "    # 여기서 부터는 max_pooling이 힘드니 바로 FC 써먹자|\n",
    "    self.layer5 = nn.Linear(7*7*32, num_classes) # 입력 차원, 출력 차원\n",
    "  \n",
    "  def forward(self, x):\n",
    "    # Debug 2. 여기서도 많이 씀\n",
    "    # pdb.set_trace()\n",
    "    out=self.layer1(x)\n",
    "    out=self.layer2(out)\n",
    "    out=self.layer3(out)\n",
    "    out=self.layer4(out)\n",
    "    out=out.reshape(out.size(0),-1) # 2차원을 1차원으로 펼치는 과정\n",
    "    out=self.layer5(out)\n",
    "    # print(out.shape)\n",
    "    return out"
   ]
  }
 ],
 "metadata": {
  "kernelspec": {
   "display_name": "Python 3",
   "language": "python",
   "name": "python3"
  },
  "language_info": {
   "codemirror_mode": {
    "name": "ipython",
    "version": 3
   },
   "file_extension": ".py",
   "mimetype": "text/x-python",
   "name": "python",
   "nbconvert_exporter": "python",
   "pygments_lexer": "ipython3",
   "version": "3.7.7"
  }
 },
 "nbformat": 4,
 "nbformat_minor": 4
}
