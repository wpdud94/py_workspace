{
 "cells": [
  {
   "cell_type": "markdown",
   "metadata": {},
   "source": [
    "# 2. 함수\n",
    "## Background\n",
    "- 함수\n",
    "- 모듈\n",
    "\n",
    "## Problem\n",
    "### 1. myGame 모듈(파일명 : myGame.py)을 만들고 그 안에 아래의 2개 함수를 선언하세요.\n",
    "#### 첫 번째 함수 - 랜덤한 숫자 6개를 받아 출력하는 lotto 함수를 구현해보세요\n",
    "- 함수 이름은 makeLotto(num)로 하세요.\n",
    "- random.randrange() 함수를 사용해서 1부터 45까지의 값을 발생시켜서 6개의 로또번호를 출력합니다.(중복은 제외하고 6개를 출력하세요)\n",
    "- ex) [1, 4, 25, 26, 30, 40]\n",
    "- 테스트 코드 내에서 함수의 인자 값으로 전달받은 값만큼 로또 게임을 출력하세요.\n",
    "- ex) 2를 인자값으로 전달받으면 로또 2게임을 생성합니다.\n",
    "- 게임 1 [1, 4, 25, 26, 30, 40]\n",
    "- 게임 2 [4, 7, 15, 23, 35, 41]\n",
    "\n",
    "#### 두 번째 함수 - 학점들을 입력받아서 그 학점들의 평균을 출력하는 함수를 구현해보세요.\n",
    "- 함수 이름은 meanGrade(grade)로 하세요.\n",
    "- 테스트 코드 내에서 함수의 인자 값으로 전달받은 학점들을 ','를 기준으로 나눠서 학점들의 평균을 계산하세요.\n",
    "- 학점에 따른 점수는 다음과 같습니다.\n",
    "- A+ : 4.5, A : 4.3, A- : 4.0, B+ : 3.5, B: 3.3, B-: 3.0, C : 2.5, D : 1.5\n",
    "- ex) \"A+,A-,B+\" 를 인자값으로 전달받으면 학점 평균을 계산해서 출력합니다.\n",
    "- 평균 : 4.0\n",
    "\n",
    "### 2. 선언된 함수를 다른 테스트 파일(TestModule1.ipynb)에서 import해서 기능을 테스트 해보세요.\n",
    "### 그 후 최종적으로 위의 두가지 함수 중 원하는 것을 골라서 실행시킬 수 있는 함수를 만들어보세요"
   ]
  }
 ],
 "metadata": {
  "kernelspec": {
   "display_name": "Python 3",
   "language": "python",
   "name": "python3"
  },
  "language_info": {
   "codemirror_mode": {
    "name": "ipython",
    "version": 3
   },
   "file_extension": ".py",
   "mimetype": "text/x-python",
   "name": "python",
   "nbconvert_exporter": "python",
   "pygments_lexer": "ipython3",
   "version": "3.7.7"
  }
 },
 "nbformat": 4,
 "nbformat_minor": 2
}
