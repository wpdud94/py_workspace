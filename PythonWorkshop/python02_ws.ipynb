{
 "cells": [
  {
   "cell_type": "markdown",
   "metadata": {},
   "source": [
    "# 1. 연봉 계산하기\n",
    "\n",
    "### 철수는 시급 15000원을 받으며 회사를 다니고 있습니다.<br>날마다 일하는 시간은 5일을 간격으로 반복되고, 매 달마다 일하는 날 수가 정해져 있습니다.<br>연말에 매달 월급의 10%의 합만큼 보너스를 받는다고 했을 때, 철수의 매 달의 월급과 연봉은 각각 얼마인가요?"
   ]
  },
  {
   "cell_type": "code",
   "execution_count": 2,
   "metadata": {},
   "outputs": [],
   "source": [
    "# hours - 5일을 간격으로 반복되는 근무시간, days - 달마다 일하는 일 수(1-12월)\n",
    "hours = [8,8,8,7,7]\n",
    "days = [23,18,24,23,24,22,23,22,23,22,20,10]"
   ]
  },
  {
   "cell_type": "code",
   "execution_count": 3,
   "metadata": {},
   "outputs": [
    {
     "name": "stdout",
     "output_type": "stream",
     "text": [
      "매달 월급 : [2640000, 2070000, 2745000, 2640000, 2745000, 2520000, 2640000, 2520000, 2640000, 2520000, 2280000, 1140000] \n",
      "연봉 : 32010000.0\n"
     ]
    }
   ],
   "source": []
  },
  {
   "cell_type": "markdown",
   "metadata": {},
   "source": [
    "# 2. 예금, 적금 계산하기\n",
    "\n",
    "### 철수는 위에서 1년동안 벌 돈을 보너스를 제외하고 전부 저축을 하려고 합니다.<br>매달 저축하는 적금의 경우에는 월리가 0.4%이고,<br>1년동안 번 돈을 한번에 저축하는 예금의 경우에는 월 복리가 0.2% 입니다.\n",
    "### 그렇다면 적금과 예금으로 얻을 수 있는 이득은 각각 얼마이고, 둘 중 어떤게 얼마나 더 이득인가요?"
   ]
  },
  {
   "cell_type": "code",
   "execution_count": 11,
   "metadata": {},
   "outputs": [
    {
     "name": "stdout",
     "output_type": "stream",
     "text": [
      "적금은 801827원 이득\n",
      "예금은 706133원 이득\n",
      "적금이 예금보다 95693 원 이득!\n"
     ]
    }
   ],
   "source": []
  }
 ],
 "metadata": {
  "kernelspec": {
   "display_name": "Python 3",
   "language": "python",
   "name": "python3"
  },
  "language_info": {
   "codemirror_mode": {
    "name": "ipython",
    "version": 3
   },
   "file_extension": ".py",
   "mimetype": "text/x-python",
   "name": "python",
   "nbconvert_exporter": "python",
   "pygments_lexer": "ipython3",
   "version": "3.7.6"
  }
 },
 "nbformat": 4,
 "nbformat_minor": 2
}
