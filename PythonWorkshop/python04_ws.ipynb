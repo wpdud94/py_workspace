{
 "cells": [
  {
   "cell_type": "markdown",
   "metadata": {},
   "source": [
    "# 방카슈랑스 이율 분석하기"
   ]
  },
  {
   "cell_type": "code",
   "execution_count": 1,
   "metadata": {},
   "outputs": [
    {
     "ename": "FileNotFoundError",
     "evalue": "[Errno 2] No such file or directory: './data/방카슈랑스.csv'",
     "output_type": "error",
     "traceback": [
      "\u001b[1;31m---------------------------------------------------------------------------\u001b[0m",
      "\u001b[1;31mFileNotFoundError\u001b[0m                         Traceback (most recent call last)",
      "\u001b[1;32m<ipython-input-1-6f8842143e15>\u001b[0m in \u001b[0;36m<module>\u001b[1;34m\u001b[0m\n\u001b[1;32m----> 1\u001b[1;33m \u001b[1;32mwith\u001b[0m \u001b[0mopen\u001b[0m\u001b[1;33m(\u001b[0m\u001b[1;34m\"./data/방카슈랑스.csv\"\u001b[0m\u001b[1;33m,\u001b[0m \u001b[1;34m'r'\u001b[0m\u001b[1;33m,\u001b[0m \u001b[1;33m)\u001b[0m \u001b[1;32mas\u001b[0m \u001b[0mfile\u001b[0m\u001b[1;33m:\u001b[0m\u001b[1;33m\u001b[0m\u001b[1;33m\u001b[0m\u001b[0m\n\u001b[0m\u001b[0;32m      2\u001b[0m     \u001b[0mbanca\u001b[0m \u001b[1;33m=\u001b[0m \u001b[0mfile\u001b[0m\u001b[1;33m.\u001b[0m\u001b[0mread\u001b[0m\u001b[1;33m(\u001b[0m\u001b[1;33m)\u001b[0m\u001b[1;33m\u001b[0m\u001b[1;33m\u001b[0m\u001b[0m\n\u001b[0;32m      3\u001b[0m \u001b[0mbanca\u001b[0m\u001b[1;33m\u001b[0m\u001b[1;33m\u001b[0m\u001b[0m\n",
      "\u001b[1;31mFileNotFoundError\u001b[0m: [Errno 2] No such file or directory: './data/방카슈랑스.csv'"
     ]
    }
   ],
   "source": [
    "with open(\"./data/방카슈랑스.csv\", 'r', ) as file:\n",
    "    banca = file.read()\n",
    "banca"
   ]
  },
  {
   "cell_type": "markdown",
   "metadata": {},
   "source": [
    "### 읽어온 방카슈랑스 csv 파일을 split 함수를 사용해서 다음과 같이 분리해 보세요."
   ]
  },
  {
   "cell_type": "code",
   "execution_count": 2,
   "metadata": {},
   "outputs": [
    {
     "data": {
      "text/plain": [
       "['교보생명,(무)교보First저축보험,2.53',\n",
       " '교보생명,연금저축 교보First연금보험,2.41',\n",
       " '교보생명,(무)바로받는연금보험,2.5',\n",
       " '교보라이프플래닛,(모바일) (무)라이프플래닛b어린이저축보험,3.0',\n",
       " '한화생명,(무)스마트V저축보험,2.6',\n",
       " '한화생명,(무)바로연금보험,2.5',\n",
       " '동부생명,(무)부자되는 동부저축보험,2.6',\n",
       " '동양생명,(무)Angel 행복저축보험,2.58',\n",
       " '동양생명,(무)Angel 저축보험,2.58',\n",
       " '미래에셋,리치플러스 저축보험(무),2.48',\n",
       " '삼성생명,(무)내리사랑연금보험,2.48',\n",
       " '삼성생명,(무)삼성에이스즉시연금보험,2.48',\n",
       " '삼성생명,(무)삼성New에이스저축보험,2.57',\n",
       " '삼성생명,연금저축삼성에이스골드연금보험 ,2.33',\n",
       " '삼성생명,무배당 연금저축 삼성 에이스 골드연금보험 ,2.51',\n",
       " '하나생명,(무)The새로운리치저축보험 ,2.23',\n",
       " '흥국생명,(무)드림저축보험,2.57',\n",
       " '흥국생명,(무)드림퍼펙트연금보험,2.48',\n",
       " 'AIA생명,(무)GOLDEN TIME연금보험(미국달러형) 10년형,2.78',\n",
       " 'AIA생명,(무)GOLDEN TIME연금보험(위안화형) 10년형,2.86',\n",
       " 'AIA생명,(무)마이달러 저축보험,2.57',\n",
       " 'IBK연금,(무)IBK평생플러스연금보험,2.65',\n",
       " 'IBK연금,(모바일) 무배당 IBK e-연금보험,2.65',\n",
       " 'IBK연금,(무)아이사랑연금보험,2.65',\n",
       " 'IBK연금,연금저축 유배당 IBK연금보험,2.35',\n",
       " 'IBK연금,연금저축 무배당 IBK연금보험,2.65',\n",
       " 'IBK연금,(모바일) 무배당 연금저축 IBK e-연금보험,2.65',\n",
       " 'ING생명,(무)ING스마트플랜연금보험,2.45',\n",
       " 'ING생명,(무)ING 모아모아 VIP 저축보험,2.57',\n",
       " 'KDB생명,(무)알뜰플러스저축보험,2.57',\n",
       " 'KDB생명,(무)알뜰양로저축보험,2.57',\n",
       " '농협손보,(무)헤아림NH다솜저축보험,2.5',\n",
       " '동부화재,(무)프로미라이프 골드플러스저축보험,2.4',\n",
       " '롯데손보,(무)롯데 뉴베리굿 저축보험,2.45',\n",
       " '한화손보,(무)프리미엄저축보험,2.4',\n",
       " '현대해상,무배당 현대하이드림저축보험,2.4',\n",
       " '흥국화재,(무)성공날개 저축보험,2.4',\n",
       " 'KB손보,(무)KB매직파워안심저축보험,2.4',\n",
       " 'MG손보,(무)뉴파워재테크저축보험,2.81']"
      ]
     },
     "execution_count": 2,
     "metadata": {},
     "output_type": "execute_result"
    }
   ],
   "source": [
    "\n",
    "\n",
    "banca"
   ]
  },
  {
   "cell_type": "markdown",
   "metadata": {},
   "source": [
    "## 위 list의 각 요소에 다시 split을 사용해 보험사, 상품명, 공시이율로 나누어 보세요."
   ]
  },
  {
   "cell_type": "code",
   "execution_count": 3,
   "metadata": {},
   "outputs": [
    {
     "data": {
      "text/plain": [
       "[['교보생명', '(무)교보First저축보험', '2.53'],\n",
       " ['교보생명', '연금저축 교보First연금보험', '2.41'],\n",
       " ['교보생명', '(무)바로받는연금보험', '2.5'],\n",
       " ['교보라이프플래닛', '(모바일) (무)라이프플래닛b어린이저축보험', '3.0'],\n",
       " ['한화생명', '(무)스마트V저축보험', '2.6'],\n",
       " ['한화생명', '(무)바로연금보험', '2.5'],\n",
       " ['동부생명', '(무)부자되는 동부저축보험', '2.6'],\n",
       " ['동양생명', '(무)Angel 행복저축보험', '2.58'],\n",
       " ['동양생명', '(무)Angel 저축보험', '2.58'],\n",
       " ['미래에셋', '리치플러스 저축보험(무)', '2.48'],\n",
       " ['삼성생명', '(무)내리사랑연금보험', '2.48'],\n",
       " ['삼성생명', '(무)삼성에이스즉시연금보험', '2.48'],\n",
       " ['삼성생명', '(무)삼성New에이스저축보험', '2.57'],\n",
       " ['삼성생명', '연금저축삼성에이스골드연금보험 ', '2.33'],\n",
       " ['삼성생명', '무배당 연금저축 삼성 에이스 골드연금보험 ', '2.51'],\n",
       " ['하나생명', '(무)The새로운리치저축보험 ', '2.23'],\n",
       " ['흥국생명', '(무)드림저축보험', '2.57'],\n",
       " ['흥국생명', '(무)드림퍼펙트연금보험', '2.48'],\n",
       " ['AIA생명', '(무)GOLDEN TIME연금보험(미국달러형) 10년형', '2.78'],\n",
       " ['AIA생명', '(무)GOLDEN TIME연금보험(위안화형) 10년형', '2.86'],\n",
       " ['AIA생명', '(무)마이달러 저축보험', '2.57'],\n",
       " ['IBK연금', '(무)IBK평생플러스연금보험', '2.65'],\n",
       " ['IBK연금', '(모바일) 무배당 IBK e-연금보험', '2.65'],\n",
       " ['IBK연금', '(무)아이사랑연금보험', '2.65'],\n",
       " ['IBK연금', '연금저축 유배당 IBK연금보험', '2.35'],\n",
       " ['IBK연금', '연금저축 무배당 IBK연금보험', '2.65'],\n",
       " ['IBK연금', '(모바일) 무배당 연금저축 IBK e-연금보험', '2.65'],\n",
       " ['ING생명', '(무)ING스마트플랜연금보험', '2.45'],\n",
       " ['ING생명', '(무)ING 모아모아 VIP 저축보험', '2.57'],\n",
       " ['KDB생명', '(무)알뜰플러스저축보험', '2.57'],\n",
       " ['KDB생명', '(무)알뜰양로저축보험', '2.57'],\n",
       " ['농협손보', '(무)헤아림NH다솜저축보험', '2.5'],\n",
       " ['동부화재', '(무)프로미라이프 골드플러스저축보험', '2.4'],\n",
       " ['롯데손보', '(무)롯데 뉴베리굿 저축보험', '2.45'],\n",
       " ['한화손보', '(무)프리미엄저축보험', '2.4'],\n",
       " ['현대해상', '무배당 현대하이드림저축보험', '2.4'],\n",
       " ['흥국화재', '(무)성공날개 저축보험', '2.4'],\n",
       " ['KB손보', '(무)KB매직파워안심저축보험', '2.4'],\n",
       " ['MG손보', '(무)뉴파워재테크저축보험', '2.81']]"
      ]
     },
     "execution_count": 3,
     "metadata": {},
     "output_type": "execute_result"
    }
   ],
   "source": [
    "\n",
    "\n",
    "banca"
   ]
  },
  {
   "cell_type": "markdown",
   "metadata": {},
   "source": [
    "## 함수 bestBanc(comp)를 다음과 같이 만들어보세요.\n",
    "### 한 보험사의 가장 이율이 높은 보험상품을 찾아주는 함수입니다.\n",
    "1. 매개변수 comp는 가입할 보험사의 이름입니다.\n",
    "2. 입력받은 보험사의 보험 중 이율이 가장 높은 것을 찾아 보험의 이름과 이율을 return 해주세요."
   ]
  },
  {
   "cell_type": "code",
   "execution_count": 8,
   "metadata": {},
   "outputs": [
    {
     "data": {
      "text/plain": [
       "(2.57, '(무)삼성New에이스저축보험')"
      ]
     },
     "execution_count": 8,
     "metadata": {},
     "output_type": "execute_result"
    }
   ],
   "source": [
    "\n",
    "\n",
    "bestBanc('삼성생명')"
   ]
  },
  {
   "cell_type": "markdown",
   "metadata": {},
   "source": [
    "## 함수 predGain(year, rate)를 다음과 같이 만들어 보세요.\n",
    "### 저축기간과 이율을 사용해 이득을 예측하는 함수입니다.\n",
    "1. 매개변수 year는 저축년수, rate는 이율입니다. 이율은 <b>연리</b>로 계산해주세요.\n",
    "2. 입력받은 year 만큼 년수가 지나면 얻을 수 있는 이득을 percentage 값으로 return 해주세요."
   ]
  },
  {
   "cell_type": "code",
   "execution_count": 2,
   "metadata": {},
   "outputs": [
    {
     "data": {
      "text/plain": [
       "'13%'"
      ]
     },
     "execution_count": 2,
     "metadata": {},
     "output_type": "execute_result"
    }
   ],
   "source": [
    "\n",
    "\n",
    "predGain(5, 2.57)"
   ]
  }
 ],
 "metadata": {
  "kernelspec": {
   "display_name": "Python 3",
   "language": "python",
   "name": "python3"
  },
  "language_info": {
   "codemirror_mode": {
    "name": "ipython",
    "version": 3
   },
   "file_extension": ".py",
   "mimetype": "text/x-python",
   "name": "python",
   "nbconvert_exporter": "python",
   "pygments_lexer": "ipython3",
   "version": "3.7.6"
  }
 },
 "nbformat": 4,
 "nbformat_minor": 2
}
