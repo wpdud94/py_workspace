{
 "cells": [
  {
   "cell_type": "markdown",
   "metadata": {},
   "source": [
    "## Numpy 개요"
   ]
  },
  {
   "cell_type": "code",
   "execution_count": null,
   "metadata": {},
   "outputs": [],
   "source": [
    "'''\n",
    "Numpy는 Numeric Python의 약자이다\n",
    "수학분야 관련된 통계작업 시 사용하는 파이썬의 가장 기본이 되는 라이브러리\n",
    "과학계산 컴퓨팅 작업과 데이터 분석에 필요한 작업이 가능\n",
    "\n",
    "특징\n",
    "리스트와 거의 흡사\n",
    "훨씬 더 빠르고 메모리 효율성이 높아서 성능 상 우위에 있다\n",
    "\n",
    "\n",
    "'''"
   ]
  },
  {
   "cell_type": "markdown",
   "metadata": {},
   "source": [
    "## Numpy 배열 생성하기"
   ]
  },
  {
   "cell_type": "markdown",
   "metadata": {},
   "source": [
    "### Numpy 배열과 리스트를 각각 생성... 대조"
   ]
  },
  {
   "cell_type": "code",
   "execution_count": 2,
   "metadata": {},
   "outputs": [
    {
     "data": {
      "text/plain": [
       "'\\n생성법\\n1) import 해서 쓴다\\n2) array() 사용\\n3) 랜덤함수 사용\\n\\n'"
      ]
     },
     "execution_count": 2,
     "metadata": {},
     "output_type": "execute_result"
    }
   ],
   "source": [
    "import numpy as np\n",
    "'''\n",
    "생성법\n",
    "1) import 해서 쓴다\n",
    "2) array() 사용\n",
    "3) 랜덤함수 사용\n",
    "\n",
    "'''"
   ]
  },
  {
   "cell_type": "code",
   "execution_count": 7,
   "metadata": {},
   "outputs": [
    {
     "name": "stdout",
     "output_type": "stream",
     "text": [
      "리스트 [4, 5, 6, 7]\n",
      "배열 [4 5 6 7]\n",
      "<class 'numpy.ndarray'>\n"
     ]
    }
   ],
   "source": [
    "# 1. array() 사용해서 np배열 생성\n",
    "'''\n",
    "1. 리스트는 [ ] 안에 출력결과가 있음(공). 요소 구분은 ','으로 됨(차)\n",
    "2. np배열은 [ ] 안에 출력결과가 있음(공). 요소 구분은 ' '으로 됨(차)\n",
    "3. np배열은 ndarray 객체 차입으로 나온다\n",
    "    ndarray 객체는 다차원 행렬구조를 지원하는 Numpy의 핵심 클래스이다\n",
    "'''\n",
    "\n",
    "myList=[4,5,6,7]\n",
    "print('리스트',myList)\n",
    "\n",
    "myArr=np.array(myList)\n",
    "print('배열',myArr)\n",
    "print(type(myArr))"
   ]
  },
  {
   "cell_type": "code",
   "execution_count": 17,
   "metadata": {},
   "outputs": [
    {
     "name": "stdout",
     "output_type": "stream",
     "text": [
      "[5, 6]\n",
      "[-5  6]\n",
      "[-5, 6]\n",
      "[-5  6]\n",
      "[4, 5, 6, 7]\n",
      "[ 4 -5  6  7]\n"
     ]
    }
   ],
   "source": [
    "# 2. 인덱싱과 슬라이싱\n",
    "'''\n",
    "1. 공 : 인덱싱과 슬라이싱 적용\n",
    "2. 차 : 인덱싱과 슬라이싱으로 하위 배열을 만들었을 때 \n",
    "        리스트는 동기화 x\n",
    "        배열은 동기화됨\n",
    "        --> 메모리 상 효율적\n",
    "'''\n",
    "myList\n",
    "myArr\n",
    "\n",
    "myL_sub=myList[1:3]\n",
    "print(myL_sub)\n",
    "\n",
    "myA_sub=myArr[1:3]\n",
    "print(myA_sub)\n",
    "\n",
    "myL_sub[0] = -5\n",
    "print(myL_sub)\n",
    "\n",
    "myA_sub[0] = -5\n",
    "print(myA_sub)\n",
    "\n",
    "print(myList)\n",
    "print(myArr)"
   ]
  },
  {
   "cell_type": "code",
   "execution_count": 81,
   "metadata": {},
   "outputs": [
    {
     "name": "stdout",
     "output_type": "stream",
     "text": [
      "[0.2812289  0.71388787 0.55864191 0.85099163 0.69363145]\n",
      "<class 'numpy.ndarray'>\n",
      "[1 1 1 0 1]\n",
      "<class 'numpy.ndarray'>\n",
      "[-0.28258962 -0.06177945 -0.64959258  0.23454257 -0.72948213 -1.80029067\n",
      "  0.01283327  0.13125493  0.9069943  -2.55607675]\n"
     ]
    }
   ],
   "source": [
    "# 3. 랜덤함수 사용\n",
    "# rand(), randint()\n",
    "# 배열로 출력됨\n",
    "\n",
    "a = np.random.rand(5) # 인자값만큼 난수를 만들어라\n",
    "print(a)\n",
    "print(type(a))\n",
    "\n",
    "b = np.random.randint(0,2,5) # 1~9 사이 난수를 5개 생성\n",
    "print(b)\n",
    "print(type(b))\n",
    "\n",
    "c = np.random.randn(10) # 가우시안 표준분포에서 가져옴\n",
    "print(c)"
   ]
  },
  {
   "cell_type": "code",
   "execution_count": 93,
   "metadata": {},
   "outputs": [
    {
     "data": {
      "text/plain": [
       "array(['1.0', '2.0', '3.5', '4.0'], dtype='<U3')"
      ]
     },
     "execution_count": 93,
     "metadata": {},
     "output_type": "execute_result"
    }
   ],
   "source": [
    "## 리스트와의 차이점\n",
    "'''\n",
    "배열은 하나의 자료형만 저장 가능\n",
    "즉, 숫자와 문자를 동시에 저장할 수 없다\n",
    "만약에 동시 저장이면 더 큰 자료형으로 저장\n",
    "제약 이유 : 내부 원소에 대한 접근과 반복문 실행을 빨리하기 위함\n",
    "\n",
    "나중에 배우게 될 Series에서 다시 한 번 언급됨...\n",
    "\n",
    "값의 타입을 명시할 수 있다... dtype\n",
    "정수 : int32, int64\n",
    "실수 : float32, float64\n",
    "문자 : str or 문자 섞으면 됨\n",
    "'''\n",
    "# 리스트는 서로 다른 자료형을 포함 가능\n",
    "L = [1,2,3,'4',5,6,7]\n",
    "L\n",
    "# 배열은 하나의 자료형으로만 가능\n",
    "# 섞이면 범위가 더 큰 자료형으로 출력\n",
    "A = np.array([1,2,3,'4',5,6,7])\n",
    "A\n",
    "A2 = np.array([1,2,3,4.0])\n",
    "A2\n",
    "# dtype으로 지정 가능\n",
    "A3 = np.array([1.0,2.0,3.5,4.0], dtype='str')\n",
    "A3"
   ]
  },
  {
   "cell_type": "markdown",
   "metadata": {},
   "source": [
    "## 배열 초기화"
   ]
  },
  {
   "cell_type": "code",
   "execution_count": 66,
   "metadata": {},
   "outputs": [
    {
     "name": "stdout",
     "output_type": "stream",
     "text": [
      "[0. 0. 0. 0. 0. 0. 0. 0. 0. 0.]\n",
      "[1. 1. 1. 1. 1. 1. 1. 1. 1. 1.]\n",
      "[3. 3. 3. 3. 3. 3. 3. 3. 3. 3.]\n",
      "[[1. 0. 0.]\n",
      " [0. 1. 0.]\n",
      " [0. 0. 1.]]\n",
      "[0 1 2]\n",
      "[[1 1 1 1 1]\n",
      " [1 1 1 1 1]\n",
      " [1 1 1 1 1]\n",
      " [1 1 1 1 1]\n",
      " [1 1 1 1 1]]\n"
     ]
    }
   ],
   "source": [
    "# 1. zeros() 0값으로 초기화\n",
    "az = np.zeros(10) # 0.으로 10개 초기화\n",
    "print(az)\n",
    "\n",
    "# 2. ones() 1값으로 초기화\n",
    "ao = np.ones(10) # 1.으로 10개 초기화\n",
    "print(ao)\n",
    "\n",
    "# 3. 위 함수 + n : n값으로 초기화 \n",
    "am = np.zeros(10)+3\n",
    "print(am)\n",
    "\n",
    "# 4. 단위행렬 : eye()\n",
    "ae = np.eye(3) # 3x3\n",
    "print(ae)\n",
    "\n",
    "# 5. arange(0,n,step) : 0~n-1 까지 출력\n",
    "print(np.arange(3))\n",
    "\n",
    "# 6. full()\n",
    "# shape = 행과열\n",
    "np.full?\n",
    "af = np.full((5,5),1,dtype='int32') # (행,렬)로 1채우기\n",
    "print(af)"
   ]
  },
  {
   "cell_type": "markdown",
   "metadata": {},
   "source": [
    "## Numpy배열의 속성과 기본함수\n",
    "### ndim(몇 차원), shape(행렬 형태, ?x?), reshape(행렬 형태 바꾸기, 데이터 크기는 같아야 함)\n",
    "### size, dtype, type"
   ]
  },
  {
   "cell_type": "code",
   "execution_count": 5,
   "metadata": {},
   "outputs": [
    {
     "data": {
      "text/plain": [
       "array([[1, 2, 3],\n",
       "       [4, 5, 6]])"
      ]
     },
     "execution_count": 5,
     "metadata": {},
     "output_type": "execute_result"
    }
   ],
   "source": [
    "# 1. dtype\n",
    "# arr1 = np.array([[1.0,2,3],[4,5,6]], dtype = 'int32')\n",
    "arr1 = np.array([[1.0,2,3],[4,5,6]], dtype = np.int32)\n",
    "arr1"
   ]
  },
  {
   "cell_type": "code",
   "execution_count": 24,
   "metadata": {},
   "outputs": [
    {
     "name": "stdout",
     "output_type": "stream",
     "text": [
      "<class 'numpy.ndarray'>\n",
      "2\n",
      "(2, 3)\n",
      "6\n",
      "******************************\n",
      "[[1. 2. 3.]\n",
      " [4. 5. 6.]]\n",
      "<class 'numpy.ndarray'>\n",
      "******************************\n",
      "[[ 0  1  2  3]\n",
      " [ 4  5  6  7]\n",
      " [ 8  9 10 11]\n",
      " [12 13 14 15]\n",
      " [16 17 18 19]\n",
      " [20 21 22 23]\n",
      " [24 25 26 27]\n",
      " [28 29 30 31]]\n"
     ]
    }
   ],
   "source": [
    "# 2. ndim : 몇 차원인지 알려줌\n",
    "print(type(arr1))\n",
    "print(np.ndim(arr1))\n",
    "\n",
    "# 3. shape : 몇 행, 몇 열인지 알려줌\n",
    "print(np.shape(arr1))\n",
    "\n",
    "# 4. size : 원소 개수 리턴\n",
    "print(np.size(arr1))\n",
    "\n",
    "print('*'*30)\n",
    "# 5. astype : arr1배열의 요소값 타입을 한 번에 바꿀 때 사용\n",
    "arr1_1=arr1.astype(np.float64)\n",
    "print(arr1_1)\n",
    "\n",
    "# 6. type : 객체 타입 보기\n",
    "print(type(arr1_1))\n",
    "\n",
    "print('*'*30)\n",
    "# 7. reshape: 행렬 형태 바꾸기. 단, 요소 개수는 같아야 한다\n",
    "arr2 = np.arange(32).reshape(8,4)\n",
    "print(arr2)"
   ]
  },
  {
   "cell_type": "markdown",
   "metadata": {},
   "source": [
    "## 랜덤함수 seed값 설정하기"
   ]
  },
  {
   "cell_type": "code",
   "execution_count": null,
   "metadata": {},
   "outputs": [],
   "source": [
    "'''\n",
    "Numpy의 random 모듈(서브패키지)에는 난수를 생성하는 다양한 함수 존재\n",
    "그 중에서 가장 많이 사용되는 3가지 정리\n",
    "\n",
    "1) rand(행,열) : 0~1 사이의 실수값을 반환\n",
    "2) randn(행,열) : 가우시안 정규분포값을 반환\n",
    "3) randint(low, high, size) : 인자값 범위에 맞는 정수 반환\n",
    "'''"
   ]
  },
  {
   "cell_type": "code",
   "execution_count": 48,
   "metadata": {},
   "outputs": [
    {
     "data": {
      "text/plain": [
       "array([[ 1.43832412, -0.99123764, -1.32119869, -0.71552319],\n",
       "       [-0.62082596, -0.15008363,  1.13753385,  2.02500379],\n",
       "       [ 1.78257974,  0.43586099,  0.44389839,  0.86956004],\n",
       "       [ 1.0981094 ,  1.59193597,  0.97299006,  0.47575401]])"
      ]
     },
     "execution_count": 48,
     "metadata": {},
     "output_type": "execute_result"
    }
   ],
   "source": [
    "arr3 = np.random.randn(4,4)\n",
    "arr3"
   ]
  },
  {
   "cell_type": "code",
   "execution_count": 71,
   "metadata": {},
   "outputs": [
    {
     "data": {
      "text/plain": [
       "array([[ 0,  0,  0,  1],\n",
       "       [ 0,  0, -2,  0],\n",
       "       [-1, -1,  0,  1],\n",
       "       [-1, -1,  0,  0]])"
      ]
     },
     "execution_count": 71,
     "metadata": {},
     "output_type": "execute_result"
    }
   ],
   "source": [
    "'''\n",
    "seed값\n",
    "::\n",
    "랜덤은 그때그때 다름\n",
    "랜덤이지만 고정값을 만들 때 사용\n",
    "\n",
    "특정한 시작 숫자를 제공을 통해서\n",
    "그래서 한 번 정해주면 계속 유지\n",
    "'''\n",
    "# 보통 음수 안 주고 0을 잘 줌\n",
    "np.random.seed(500)\n",
    "arr3 = np.random.randn(4,4)\n",
    "arr4=arr3.astype(np.int32)\n",
    "arr4\n"
   ]
  },
  {
   "cell_type": "code",
   "execution_count": null,
   "metadata": {},
   "outputs": [],
   "source": []
  },
  {
   "cell_type": "code",
   "execution_count": null,
   "metadata": {},
   "outputs": [],
   "source": []
  },
  {
   "cell_type": "code",
   "execution_count": null,
   "metadata": {},
   "outputs": [],
   "source": []
  },
  {
   "cell_type": "code",
   "execution_count": null,
   "metadata": {},
   "outputs": [],
   "source": []
  },
  {
   "cell_type": "code",
   "execution_count": null,
   "metadata": {},
   "outputs": [],
   "source": []
  },
  {
   "cell_type": "code",
   "execution_count": null,
   "metadata": {},
   "outputs": [],
   "source": []
  },
  {
   "cell_type": "code",
   "execution_count": null,
   "metadata": {},
   "outputs": [],
   "source": []
  }
 ],
 "metadata": {
  "kernelspec": {
   "display_name": "Python 3",
   "language": "python",
   "name": "python3"
  },
  "language_info": {
   "codemirror_mode": {
    "name": "ipython",
    "version": 3
   },
   "file_extension": ".py",
   "mimetype": "text/x-python",
   "name": "python",
   "nbconvert_exporter": "python",
   "pygments_lexer": "ipython3",
   "version": "3.7.6"
  }
 },
 "nbformat": 4,
 "nbformat_minor": 4
}
