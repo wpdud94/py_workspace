{
 "cells": [
  {
   "cell_type": "markdown",
   "metadata": {},
   "source": [
    "# 계단오르내리기 예제"
   ]
  },
  {
   "cell_type": "code",
   "execution_count": 1,
   "metadata": {},
   "outputs": [],
   "source": [
    "import numpy as np \n",
    "np.random.seed(888)"
   ]
  },
  {
   "cell_type": "code",
   "execution_count": 2,
   "metadata": {},
   "outputs": [
    {
     "data": {
      "text/plain": [
       "array([0, 0, 1, 1, 0, 1, 1, 0, 1, 0, 1, 1, 0, 1, 0, 0, 1, 1, 0, 0, 0, 1,\n",
       "       0, 0, 0, 0, 1, 0, 1, 1, 0, 0, 0, 1, 0, 0, 1, 1, 0, 0, 0, 0, 1, 1,\n",
       "       0, 0, 0, 0, 1, 1, 0, 1, 1, 0, 0, 0, 0, 1, 0, 0, 0, 0, 0, 1, 0, 1,\n",
       "       1, 0, 0, 1, 1, 1, 0, 0, 1, 0, 0, 0, 1, 0, 1, 0, 0, 1, 0, 0, 0, 0,\n",
       "       1, 1, 1, 1, 0, 0, 1, 0, 1, 0, 0, 0, 1, 1, 1, 0, 0, 1, 1, 0, 0, 1,\n",
       "       1, 0, 0, 0, 0, 1, 1, 0, 0, 0, 0, 1, 1, 0, 1, 0, 1, 0, 1, 0, 0, 0,\n",
       "       0, 1, 1, 1, 0, 1, 1, 0, 1, 1, 1, 1, 1, 0, 0, 1, 1, 1, 0, 1, 1, 1,\n",
       "       1, 0, 1, 1, 1, 0, 0, 0, 0, 1, 0, 1, 1, 0, 0, 1, 0, 1, 0, 0, 1, 1,\n",
       "       0, 0, 0, 1, 1, 0, 1, 0, 0, 0, 0, 1, 0, 0, 0, 1, 0, 1, 0, 0, 0, 1,\n",
       "       0, 0, 1, 0, 1, 1, 0, 1, 0, 0, 1, 0, 1, 1, 0, 0, 1, 1, 1, 0, 0, 1,\n",
       "       0, 0, 1, 1, 0, 1, 1, 0, 0, 0, 0, 0, 0, 1, 0, 0, 1, 1, 1, 1, 0, 1,\n",
       "       1, 1, 1, 1, 0, 0, 0, 0, 0, 0, 0, 1, 0, 0, 1, 1, 1, 1, 0, 0, 1, 1,\n",
       "       1, 1, 1, 0, 0, 0, 0, 0, 1, 1, 0, 0, 0, 0, 1, 1, 0, 0, 1, 1, 0, 1,\n",
       "       0, 0, 0, 1, 0, 1, 1, 1, 0, 0, 0, 0, 1, 0, 0, 1, 1, 0, 0, 0, 1, 1,\n",
       "       0, 0, 1, 0, 1, 1, 0, 1, 0, 1, 1, 0, 1, 0, 0, 0, 0, 1, 1, 0, 1, 0,\n",
       "       1, 1, 1, 0, 0, 1, 1, 1, 1, 0, 0, 0, 0, 1, 0, 1, 1, 1, 0, 1, 1, 0,\n",
       "       0, 0, 1, 0, 0, 0, 1, 1, 1, 1, 0, 1, 0, 0, 0, 0, 0, 1, 1, 1, 0, 1,\n",
       "       0, 0, 1, 1, 0, 1, 0, 0, 1, 0, 1, 1, 0, 1, 0, 0, 0, 1, 0, 0, 1, 1,\n",
       "       1, 0, 1, 1, 1, 0, 0, 1, 0, 1, 1, 0, 0, 1, 0, 1, 1, 0, 0, 0, 0, 1,\n",
       "       0, 0, 0, 0, 1, 1, 1, 1, 1, 0, 0, 1, 1, 1, 1, 0, 0, 1, 1, 1, 1, 1,\n",
       "       1, 0, 0, 0, 0, 0, 0, 1, 1, 1, 1, 0, 0, 1, 0, 1, 0, 1, 1, 1, 0, 1,\n",
       "       1, 0, 1, 1, 0, 1, 1, 0, 0, 1, 0, 1, 1, 0, 1, 0, 0, 0, 1, 0, 0, 0,\n",
       "       0, 0, 1, 1, 1, 1, 0, 1, 1, 0, 1, 0, 0, 1, 1, 0, 1, 1, 0, 0, 0, 0,\n",
       "       0, 1, 0, 1, 1, 1, 0, 1, 0, 1, 1, 0, 0, 1, 1, 0, 0, 1, 0, 1, 1, 0,\n",
       "       1, 1, 0, 0, 1, 0, 1, 1, 0, 0, 1, 1, 1, 1, 1, 0, 1, 1, 0, 0, 0, 0,\n",
       "       0, 0, 1, 0, 1, 0, 1, 1, 1, 0, 1, 1, 0, 0, 1, 1, 1, 1, 1, 1, 0, 1,\n",
       "       0, 1, 0, 0, 1, 0, 0, 1, 0, 0, 1, 0, 0, 0, 0, 1, 0, 1, 1, 0, 1, 0,\n",
       "       1, 1, 1, 0, 1, 0, 0, 1, 1, 1, 0, 1, 0, 0, 1, 0, 0, 1, 1, 0, 0, 1,\n",
       "       1, 1, 1, 0, 1, 1, 1, 1, 0, 1, 1, 0, 1, 0, 1, 1, 0, 1, 0, 0, 1, 1,\n",
       "       1, 0, 1, 1, 0, 1, 0, 0, 0, 1, 1, 1, 1, 0, 0, 1, 0, 0, 1, 1, 0, 0,\n",
       "       1, 0, 1, 0, 1, 1, 1, 0, 1, 1, 0, 0, 0, 1, 0, 1, 0, 0, 0, 1, 1, 1,\n",
       "       1, 1, 0, 1, 0, 1, 0, 0, 0, 0, 0, 0, 1, 0, 1, 1, 0, 0, 1, 1, 0, 0,\n",
       "       1, 0, 1, 0, 0, 1, 0, 0, 0, 1, 1, 0, 0, 0, 1, 0, 1, 1, 0, 1, 0, 1,\n",
       "       1, 0, 0, 1, 0, 1, 0, 1, 0, 1, 0, 0, 1, 0, 1, 0, 0, 1, 1, 1, 1, 1,\n",
       "       1, 1, 1, 0, 1, 1, 0, 0, 1, 0, 0, 0, 0, 1, 0, 0, 1, 0, 1, 1, 1, 0,\n",
       "       1, 1, 0, 1, 0, 1, 0, 0, 0, 1, 1, 0, 0, 1, 0, 0, 1, 1, 1, 1, 0, 1,\n",
       "       1, 0, 0, 0, 1, 1, 0, 1, 0, 0, 0, 1, 0, 1, 0, 1, 1, 0, 0, 0, 1, 1,\n",
       "       1, 1, 0, 1, 1, 0, 0, 1, 1, 1, 1, 1, 0, 1, 1, 0, 1, 1, 1, 0, 0, 1,\n",
       "       1, 0, 0, 0, 0, 0, 1, 0, 1, 1, 0, 1, 1, 0, 0, 1, 1, 1, 0, 0, 1, 1,\n",
       "       0, 0, 1, 1, 1, 0, 1, 1, 0, 1, 1, 1, 0, 0, 1, 0, 0, 0, 1, 0, 1, 1,\n",
       "       1, 0, 0, 0, 0, 1, 1, 0, 1, 1, 1, 1, 1, 0, 1, 0, 1, 0, 1, 1, 1, 0,\n",
       "       0, 0, 0, 0, 0, 1, 0, 0, 0, 1, 1, 1, 1, 0, 1, 0, 1, 0, 1, 1, 0, 0,\n",
       "       1, 1, 1, 1, 0, 0, 1, 0, 0, 1, 1, 0, 1, 1, 1, 0, 1, 1, 0, 1, 0, 0,\n",
       "       1, 1, 0, 0, 0, 0, 0, 1, 0, 1, 1, 0, 0, 1, 1, 0, 0, 0, 1, 0, 0, 1,\n",
       "       1, 0, 0, 1, 1, 0, 0, 1, 0, 0, 0, 1, 1, 0, 1, 0, 0, 1, 0, 1, 1, 0,\n",
       "       0, 0, 0, 0, 1, 1, 0, 1, 0, 1])"
      ]
     },
     "execution_count": 2,
     "metadata": {},
     "output_type": "execute_result"
    }
   ],
   "source": [
    "nsteps = 1000 \n",
    "\n",
    "# randint 함수를 사용하여 1000개의 랜덤값(0과 1 )을 만드세요.\n",
    "draws = np.random.randint(0,2,nsteps)\n",
    "\n",
    "\n",
    "draws"
   ]
  },
  {
   "cell_type": "code",
   "execution_count": 33,
   "metadata": {},
   "outputs": [
    {
     "data": {
      "text/plain": [
       "array([ -1,  -2,  -1,   0,  -1,   0,   1,   0,   1,   0,   1,   2,   1,\n",
       "         2,   1,   0,   1,   2,   1,   0,  -1,   0,  -1,  -2,  -3,  -4,\n",
       "        -3,  -4,  -3,  -2,  -3,  -4,  -5,  -4,  -5,  -6,  -5,  -4,  -5,\n",
       "        -6,  -7,  -8,  -7,  -6,  -7,  -8,  -9, -10,  -9,  -8,  -9,  -8,\n",
       "        -7,  -8,  -9, -10, -11, -10, -11, -12, -13, -14, -15, -14, -15,\n",
       "       -14, -13, -14, -15, -14, -13, -12, -13, -14, -13, -14, -15, -16,\n",
       "       -15, -16, -15, -16, -17, -16, -17, -18, -19, -20, -19, -18, -17,\n",
       "       -16, -17, -18, -17, -18, -17, -18, -19, -20, -19, -18, -17, -18,\n",
       "       -19, -18, -17, -18, -19, -18, -17, -18, -19, -20, -21, -20, -19,\n",
       "       -20, -21, -22, -23, -22, -21, -22, -21, -22, -21, -22, -21, -22,\n",
       "       -23, -24, -25, -24, -23, -22, -23, -22, -21, -22, -21, -20, -19,\n",
       "       -18, -17, -18, -19, -18, -17, -16, -17, -16, -15, -14, -13, -14,\n",
       "       -13, -12, -11, -12, -13, -14, -15, -14, -15, -14, -13, -14, -15,\n",
       "       -14, -15, -14, -15, -16, -15, -14, -15, -16, -17, -16, -15, -16,\n",
       "       -15, -16, -17, -18, -19, -18, -19, -20, -21, -20, -21, -20, -21,\n",
       "       -22, -23, -22, -23, -24, -23, -24, -23, -22, -23, -22, -23, -24,\n",
       "       -23, -24, -23, -22, -23, -24, -23, -22, -21, -22, -23, -22, -23,\n",
       "       -24, -23, -22, -23, -22, -21, -22, -23, -24, -25, -26, -27, -26,\n",
       "       -27, -28, -27, -26, -25, -24, -25, -24, -23, -22, -21, -20, -21,\n",
       "       -22, -23, -24, -25, -26, -27, -26, -27, -28, -27, -26, -25, -24,\n",
       "       -25, -26, -25, -24, -23, -22, -21, -22, -23, -24, -25, -26, -25,\n",
       "       -24, -25, -26, -27, -28, -27, -26, -27, -28, -27, -26, -27, -26,\n",
       "       -27, -28, -29, -28, -29, -28, -27, -26, -27, -28, -29, -30, -29,\n",
       "       -30, -31, -30, -29, -30, -31, -32, -31, -30, -31, -32, -31, -32,\n",
       "       -31, -30, -31, -30, -31, -30, -29, -30, -29, -30, -31, -32, -33,\n",
       "       -32, -31, -32, -31, -32, -31, -30, -29, -30, -31, -30, -29, -28,\n",
       "       -27, -28, -29, -30, -31, -30, -31, -30, -29, -28, -29, -28, -27,\n",
       "       -28, -29, -30, -29, -30, -31, -32, -31, -30, -29, -28, -29, -28,\n",
       "       -29, -30, -31, -32, -33, -32, -31, -30, -31, -30, -31, -32, -31,\n",
       "       -30, -31, -30, -31, -32, -31, -32, -31, -30, -31, -30, -31, -32,\n",
       "       -33, -32, -33, -34, -33, -32, -31, -32, -31, -30, -29, -30, -31,\n",
       "       -30, -31, -30, -29, -30, -31, -30, -31, -30, -29, -30, -31, -32,\n",
       "       -33, -32, -33, -34, -35, -36, -35, -34, -33, -32, -31, -32, -33,\n",
       "       -32, -31, -30, -29, -30, -31, -30, -29, -28, -27, -26, -25, -26,\n",
       "       -27, -28, -29, -30, -31, -30, -29, -28, -27, -28, -29, -28, -29,\n",
       "       -28, -29, -28, -27, -26, -27, -26, -25, -26, -25, -24, -25, -24,\n",
       "       -23, -24, -25, -24, -25, -24, -23, -24, -23, -24, -25, -26, -25,\n",
       "       -26, -27, -28, -29, -30, -29, -28, -27, -26, -27, -26, -25, -26,\n",
       "       -25, -26, -27, -26, -25, -26, -25, -24, -25, -26, -27, -28, -29,\n",
       "       -28, -29, -28, -27, -26, -27, -26, -27, -26, -25, -26, -27, -26,\n",
       "       -25, -26, -27, -26, -27, -26, -25, -26, -25, -24, -25, -26, -25,\n",
       "       -26, -25, -24, -25, -26, -25, -24, -23, -22, -21, -22, -21, -20,\n",
       "       -21, -22, -23, -24, -25, -26, -25, -26, -25, -26, -25, -24, -23,\n",
       "       -24, -23, -22, -23, -24, -23, -22, -21, -20, -19, -18, -19, -18,\n",
       "       -19, -18, -19, -20, -19, -20, -21, -20, -21, -22, -21, -22, -23,\n",
       "       -24, -25, -24, -25, -24, -23, -24, -23, -24, -23, -22, -21, -22,\n",
       "       -21, -22, -23, -22, -21, -20, -21, -20, -21, -22, -21, -22, -23,\n",
       "       -22, -21, -22, -23, -22, -21, -20, -19, -20, -19, -18, -17, -16,\n",
       "       -17, -16, -15, -16, -15, -16, -15, -14, -15, -14, -15, -16, -15,\n",
       "       -14, -13, -14, -13, -12, -13, -12, -13, -14, -15, -14, -13, -12,\n",
       "       -11, -12, -13, -12, -13, -14, -13, -12, -13, -14, -13, -14, -13,\n",
       "       -14, -13, -12, -11, -12, -11, -10, -11, -12, -13, -12, -13, -12,\n",
       "       -13, -14, -15, -14, -13, -12, -11, -10, -11, -10, -11, -10, -11,\n",
       "       -12, -13, -14, -15, -16, -15, -16, -15, -14, -15, -16, -15, -14,\n",
       "       -15, -16, -15, -16, -15, -16, -17, -16, -17, -18, -19, -18, -17,\n",
       "       -18, -19, -20, -19, -20, -19, -18, -19, -18, -19, -18, -17, -18,\n",
       "       -19, -18, -19, -18, -19, -18, -19, -18, -19, -20, -19, -20, -19,\n",
       "       -20, -21, -20, -19, -18, -17, -16, -15, -14, -13, -14, -13, -12,\n",
       "       -13, -14, -13, -14, -15, -16, -17, -16, -17, -18, -17, -18, -17,\n",
       "       -16, -15, -16, -15, -14, -15, -14, -15, -14, -15, -16, -17, -16,\n",
       "       -15, -16, -17, -16, -17, -18, -17, -16, -15, -14, -15, -14, -13,\n",
       "       -14, -15, -16, -15, -14, -15, -14, -15, -16, -17, -16, -17, -16,\n",
       "       -17, -16, -15, -16, -17, -18, -17, -16, -15, -14, -15, -14, -13,\n",
       "       -14, -15, -14, -13, -12, -11, -10, -11, -10,  -9, -10,  -9,  -8,\n",
       "        -7,  -8,  -9,  -8,  -7,  -8,  -9, -10, -11, -12, -11, -12, -11,\n",
       "       -10, -11, -10,  -9, -10, -11, -10,  -9,  -8,  -9, -10,  -9,  -8,\n",
       "        -9, -10,  -9,  -8,  -7,  -8,  -7,  -6,  -7,  -6,  -5,  -4,  -5,\n",
       "        -6,  -5,  -6,  -7,  -8,  -7,  -8,  -7,  -6,  -5,  -6,  -7,  -8,\n",
       "        -9,  -8,  -7,  -8,  -7,  -6,  -5,  -4,  -3,  -4,  -3,  -4,  -3,\n",
       "        -4,  -3,  -2,  -1,  -2,  -3,  -4,  -5,  -6,  -7,  -6,  -7,  -8,\n",
       "        -9,  -8,  -7,  -6,  -5,  -6,  -5,  -6,  -5,  -6,  -5,  -4,  -5,\n",
       "        -6,  -5,  -4,  -3,  -2,  -3,  -4,  -3,  -4,  -5,  -4,  -3,  -4,\n",
       "        -3,  -2,  -1,  -2,  -1,   0,  -1,   0,  -1,  -2,  -1,   0,  -1,\n",
       "        -2,  -3,  -4,  -5,  -4,  -5,  -4,  -3,  -4,  -5,  -4,  -3,  -4,\n",
       "        -5,  -6,  -5,  -6,  -7,  -6,  -5,  -6,  -7,  -6,  -5,  -6,  -7,\n",
       "        -6,  -7,  -8,  -9,  -8,  -7,  -8,  -7,  -8,  -9,  -8,  -9,  -8,\n",
       "        -7,  -8,  -9, -10, -11, -12, -11, -10, -11, -10, -11, -10])"
      ]
     },
     "execution_count": 33,
     "metadata": {},
     "output_type": "execute_result"
    }
   ],
   "source": [
    "# steps은 앞의 draws 값이 0보다 크면 1, 0보다 작거나 같으면 -1으로 만든 새로운 벡터(특정 함수 활용)\n",
    "# walk는 계단을 오르거나 내려간 값의 누적합 \n",
    "steps = np.where(draws>0,1,-1)\n",
    "\n",
    "# print('steps',steps)\n",
    "walk = np.cumsum(steps)\n",
    "walk = walk.astype('int')\n",
    "walk\n",
    "#print(walk)"
   ]
  },
  {
   "cell_type": "code",
   "execution_count": 10,
   "metadata": {},
   "outputs": [
    {
     "data": {
      "text/plain": [
       "-36"
      ]
     },
     "execution_count": 10,
     "metadata": {},
     "output_type": "execute_result"
    }
   ],
   "source": [
    "#walk의 최소값 \n",
    "\n",
    "walkmin = np.min(walk)\n",
    "walkmin\n"
   ]
  },
  {
   "cell_type": "code",
   "execution_count": 12,
   "metadata": {},
   "outputs": [
    {
     "data": {
      "text/plain": [
       "2"
      ]
     },
     "execution_count": 12,
     "metadata": {},
     "output_type": "execute_result"
    }
   ],
   "source": [
    "#wark의 최대값 \n",
    "\n",
    "walkmax = np.max(walk)\n",
    "walkmax\n"
   ]
  },
  {
   "cell_type": "code",
   "execution_count": 46,
   "metadata": {},
   "outputs": [
    {
     "name": "stdout",
     "output_type": "stream",
     "text": [
      "(array([ 47,  55,  56,  57,  58,  59,  60,  61,  62,  63,  64,  65,  66,\n",
      "        67,  68,  69,  70,  71,  72,  73,  74,  75,  76,  77,  78,  79,\n",
      "        80,  81,  82,  83,  84,  85,  86,  87,  88,  89,  90,  91,  92,\n",
      "        93,  94,  95,  96,  97,  98,  99, 100, 101, 102, 103, 104, 105,\n",
      "       106, 107, 108, 109, 110, 111, 112, 113, 114, 115, 116, 117, 118,\n",
      "       119, 120, 121, 122, 123, 124, 125, 126, 127, 128, 129, 130, 131,\n",
      "       132, 133, 134, 135, 136, 137, 138, 139, 140, 141, 142, 143, 144,\n",
      "       145, 146, 147, 148, 149, 150, 151, 152, 153, 154, 155, 156, 157,\n",
      "       158, 159, 160, 161, 162, 163, 164, 165, 166, 167, 168, 169, 170,\n",
      "       171, 172, 173, 174, 175, 176, 177, 178, 179, 180, 181, 182, 183,\n",
      "       184, 185, 186, 187, 188, 189, 190, 191, 192, 193, 194, 195, 196,\n",
      "       197, 198, 199, 200, 201, 202, 203, 204, 205, 206, 207, 208, 209,\n",
      "       210, 211, 212, 213, 214, 215, 216, 217, 218, 219, 220, 221, 222,\n",
      "       223, 224, 225, 226, 227, 228, 229, 230, 231, 232, 233, 234, 235,\n",
      "       236, 237, 238, 239, 240, 241, 242, 243, 244, 245, 246, 247, 248,\n",
      "       249, 250, 251, 252, 253, 254, 255, 256, 257, 258, 259, 260, 261,\n",
      "       262, 263, 264, 265, 266, 267, 268, 269, 270, 271, 272, 273, 274,\n",
      "       275, 276, 277, 278, 279, 280, 281, 282, 283, 284, 285, 286, 287,\n",
      "       288, 289, 290, 291, 292, 293, 294, 295, 296, 297, 298, 299, 300,\n",
      "       301, 302, 303, 304, 305, 306, 307, 308, 309, 310, 311, 312, 313,\n",
      "       314, 315, 316, 317, 318, 319, 320, 321, 322, 323, 324, 325, 326,\n",
      "       327, 328, 329, 330, 331, 332, 333, 334, 335, 336, 337, 338, 339,\n",
      "       340, 341, 342, 343, 344, 345, 346, 347, 348, 349, 350, 351, 352,\n",
      "       353, 354, 355, 356, 357, 358, 359, 360, 361, 362, 363, 364, 365,\n",
      "       366, 367, 368, 369, 370, 371, 372, 373, 374, 375, 376, 377, 378,\n",
      "       379, 380, 381, 382, 383, 384, 385, 386, 387, 388, 389, 390, 391,\n",
      "       392, 393, 394, 395, 396, 397, 398, 399, 400, 401, 402, 403, 404,\n",
      "       405, 406, 407, 408, 409, 410, 411, 412, 413, 414, 415, 416, 417,\n",
      "       418, 419, 420, 421, 422, 423, 424, 425, 426, 427, 428, 429, 430,\n",
      "       431, 432, 433, 434, 435, 436, 437, 438, 439, 440, 441, 442, 443,\n",
      "       444, 445, 446, 447, 448, 449, 450, 451, 452, 453, 454, 455, 456,\n",
      "       457, 458, 459, 460, 461, 462, 463, 464, 465, 466, 467, 468, 469,\n",
      "       470, 471, 472, 473, 474, 475, 476, 477, 478, 479, 480, 481, 482,\n",
      "       483, 484, 485, 486, 487, 488, 489, 490, 491, 492, 493, 494, 495,\n",
      "       496, 497, 498, 499, 500, 501, 502, 503, 504, 505, 506, 507, 508,\n",
      "       509, 510, 511, 512, 513, 514, 515, 516, 517, 518, 519, 520, 521,\n",
      "       522, 523, 524, 525, 526, 527, 528, 529, 530, 531, 532, 533, 534,\n",
      "       535, 536, 537, 538, 539, 540, 541, 542, 543, 544, 545, 546, 547,\n",
      "       548, 549, 550, 551, 552, 553, 554, 555, 556, 557, 558, 559, 560,\n",
      "       561, 562, 563, 564, 565, 566, 567, 568, 569, 570, 571, 572, 573,\n",
      "       574, 575, 576, 577, 578, 579, 580, 581, 582, 583, 584, 585, 586,\n",
      "       587, 588, 589, 590, 591, 592, 593, 594, 595, 596, 597, 598, 599,\n",
      "       600, 601, 602, 603, 604, 605, 606, 607, 608, 609, 610, 611, 612,\n",
      "       613, 614, 615, 616, 617, 618, 619, 620, 621, 622, 623, 624, 625,\n",
      "       626, 627, 628, 629, 630, 631, 632, 633, 634, 635, 636, 637, 638,\n",
      "       639, 640, 641, 642, 643, 644, 645, 646, 647, 648, 649, 650, 651,\n",
      "       652, 653, 654, 655, 656, 657, 658, 659, 660, 661, 662, 663, 664,\n",
      "       665, 666, 667, 668, 669, 670, 671, 672, 673, 674, 675, 676, 677,\n",
      "       678, 679, 680, 681, 682, 683, 684, 685, 686, 687, 688, 689, 690,\n",
      "       691, 692, 693, 694, 695, 696, 697, 698, 699, 700, 701, 702, 703,\n",
      "       704, 705, 706, 707, 708, 709, 710, 711, 712, 713, 714, 715, 716,\n",
      "       717, 718, 719, 720, 721, 722, 723, 724, 725, 726, 727, 728, 729,\n",
      "       730, 731, 732, 733, 734, 735, 736, 737, 738, 739, 740, 741, 742,\n",
      "       743, 744, 745, 746, 747, 748, 749, 750, 751, 752, 753, 754, 755,\n",
      "       756, 757, 758, 759, 760, 761, 762, 763, 764, 765, 766, 767, 768,\n",
      "       769, 770, 771, 772, 773, 774, 775, 776, 777, 778, 779, 780, 781,\n",
      "       782, 783, 784, 785, 786, 787, 788, 789, 790, 791, 792, 793, 794,\n",
      "       795, 796, 797, 798, 799, 800, 801, 802, 803, 804, 805, 806, 807,\n",
      "       808, 809, 810, 811, 812, 813, 814, 815, 816, 817, 818, 819, 820,\n",
      "       821, 822, 823, 824, 825, 826, 827, 829, 839, 840, 841, 842, 843,\n",
      "       844, 845, 846, 847, 849, 850, 851, 855, 859, 991, 992, 993, 994,\n",
      "       995, 996, 997, 998, 999], dtype=int64),)\n"
     ]
    },
    {
     "data": {
      "text/plain": [
       "47"
      ]
     },
     "execution_count": 46,
     "metadata": {},
     "output_type": "execute_result"
    }
   ],
   "source": [
    "# 1. 계단의 처음 위치에서 10칸이상 떨어진 시점을 구하자.\n",
    "#    가. 최초로 10 혹은 -10인 시점을 구한다. \n",
    "#    나. boolean 배열에서 최대값의 처음 색인을 반환하는 함수를 사용\n",
    "\n",
    "## 1\n",
    "first_10 = 0\n",
    "for i in range(len(walk)):\n",
    "    #print(walk[i])\n",
    "    if(walk[i]<=-10 or walk[i]>=10):\n",
    "        first_10=i\n",
    "        break\n",
    "first_10\n",
    "\n",
    "## 2\n",
    "walk_sub=np.where(walk<=-10)\n",
    "print(walk_sub)\n",
    "walk_sub[0][0]\n",
    "\n",
    "## 3\n",
    "(np.abs(walk)>=10).argmax()"
   ]
  },
  {
   "cell_type": "markdown",
   "metadata": {},
   "source": [
    "## Visualization"
   ]
  },
  {
   "cell_type": "code",
   "execution_count": 54,
   "metadata": {},
   "outputs": [
    {
     "data": {
      "image/png": "[encoded data removed]",
      "text/plain": [
       "<Figure size 720x432 with 1 Axes>"
      ]
     },
     "metadata": {
      "needs_background": "light"
     },
     "output_type": "display_data"
    }
   ],
   "source": [
    "import matplotlib.pyplot as plt\n",
    "plt.figure(figsize=(10,6))\n",
    "plt.plot(walk)\n",
    "plt.savefig('walk.png')\n",
    "plt.show()"
   ]
  },
  {
   "cell_type": "code",
   "execution_count": null,
   "metadata": {},
   "outputs": [],
   "source": []
  },
  {
   "cell_type": "code",
   "execution_count": null,
   "metadata": {},
   "outputs": [],
   "source": []
  },
  {
   "cell_type": "code",
   "execution_count": null,
   "metadata": {},
   "outputs": [],
   "source": []
  },
  {
   "cell_type": "code",
   "execution_count": null,
   "metadata": {},
   "outputs": [],
   "source": []
  }
 ],
 "metadata": {
  "kernelspec": {
   "display_name": "Python 3",
   "language": "python",
   "name": "python3"
  },
  "language_info": {
   "codemirror_mode": {
    "name": "ipython",
    "version": 3
   },
   "file_extension": ".py",
   "mimetype": "text/x-python",
   "name": "python",
   "nbconvert_exporter": "python",
   "pygments_lexer": "ipython3",
   "version": "3.7.6"
  }
 },
 "nbformat": 4,
 "nbformat_minor": 2
}
