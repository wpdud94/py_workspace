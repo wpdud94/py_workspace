{
 "cells": [
  {
   "cell_type": "markdown",
   "metadata": {},
   "source": [
    "## Numpy 배열 인덱싱 & 슬라이싱"
   ]
  },
  {
   "cell_type": "code",
   "execution_count": 6,
   "metadata": {},
   "outputs": [
    {
     "data": {
      "text/plain": [
       "array([0, 1, 2, 3, 4])"
      ]
     },
     "execution_count": 6,
     "metadata": {},
     "output_type": "execute_result"
    }
   ],
   "source": [
    "import numpy as np\n",
    "narray = np.arange(5)"
   ]
  },
  {
   "cell_type": "code",
   "execution_count": 17,
   "metadata": {},
   "outputs": [
    {
     "name": "stdout",
     "output_type": "stream",
     "text": [
      "1\n",
      "4\n",
      "[1 2 3 4]\n",
      "[0 1 2 3 4]\n",
      "[2 3]\n"
     ]
    }
   ],
   "source": [
    "# 두번째 요소 출력\n",
    "print(narray[1])\n",
    "# 마지막 요소\n",
    "print(narray[-1])\n",
    "# 1~4까지 출력\n",
    "print(narray[1:])\n",
    "# 전부\n",
    "print(narray[:])\n",
    "# 2,3만\n",
    "print(narray[2:4])"
   ]
  },
  {
   "cell_type": "code",
   "execution_count": null,
   "metadata": {},
   "outputs": [],
   "source": [
    "'''\n",
    "2차원 배열에서의 인덱싱, 슬라이싱\n",
    "인덱스 : [행idx,열idx] == [행][열]\n",
    "[:] 모든 행과 모든 열 포함\n",
    "'''"
   ]
  },
  {
   "cell_type": "code",
   "execution_count": 23,
   "metadata": {},
   "outputs": [
    {
     "data": {
      "text/plain": [
       "array([[ 8,  3,  7, 15],\n",
       "       [16, 10,  2,  2],\n",
       "       [ 2, 14,  2, 17],\n",
       "       [16, 15,  4, 11]])"
      ]
     },
     "execution_count": 23,
     "metadata": {},
     "output_type": "execute_result"
    }
   ],
   "source": [
    "# 매트릭스에서 인덱싱, 슬라이싱 사용\n",
    "np.random.seed(100)\n",
    "narray1 = np.random.randint(0,20,16).reshape(4,4)\n",
    "narray1"
   ]
  },
  {
   "cell_type": "code",
   "execution_count": 50,
   "metadata": {},
   "outputs": [
    {
     "name": "stdout",
     "output_type": "stream",
     "text": [
      "[16 10  2  2]\n",
      "[16 10  2  2]\n",
      "[16 10  2  2]\n",
      "[[16 10  2  2]]\n",
      "[16 10  2  2]\n",
      "******************************\n",
      "(4, 4)\n",
      "[[15]\n",
      " [ 2]\n",
      " [17]\n",
      " [11]]\n",
      "[15  2 17 11]\n",
      "[[ 8  3]\n",
      " [16 10]\n",
      " [ 2 14]\n",
      " [16 15]]\n"
     ]
    }
   ],
   "source": [
    "### 문제1\n",
    "#### narray1 객체에서 첫 행의 7 가져오기\n",
    "narray1[0,2]\n",
    "narray1[0][2]\n",
    "\n",
    "# 문제2 : 2행 [16~2,2] 가져오기\n",
    "print(narray1[1,0:4])\n",
    "print(narray1[1,0:])\n",
    "print(narray1[1,:])\n",
    "print(narray1[1:2,:]) # 2차원 출력\n",
    "print(narray1[1])\n",
    "\n",
    "print('*'*30)\n",
    "# 문제 3 : 전체행에 대해서 4번째 열만 다 가져오려면\n",
    "print(np.shape(narray1))\n",
    "print(narray1[:,3:]) # 2차원\n",
    "print(narray1[:,3])\n",
    "\n",
    "# 4. 전체 행에 대해서 1,2번째 열만 가져오기\n",
    "print(narray1[:,:2])"
   ]
  },
  {
   "cell_type": "markdown",
   "metadata": {},
   "source": [
    "## 인덱싱과 조건 슬라이싱 (중요)"
   ]
  },
  {
   "cell_type": "code",
   "execution_count": 79,
   "metadata": {},
   "outputs": [],
   "source": [
    "np.random.seed(0)\n",
    "arr3 = np.random.randn(4,4)"
   ]
  },
  {
   "cell_type": "code",
   "execution_count": 62,
   "metadata": {},
   "outputs": [
    {
     "name": "stdout",
     "output_type": "stream",
     "text": [
      "13\n",
      "[1.76405235 0.40015721 0.97873798 2.2408932  1.86755799 0.95008842\n",
      " 0.4105985  0.14404357 1.45427351 0.76103773 0.12167502 0.44386323\n",
      " 0.33367433]\n"
     ]
    },
    {
     "data": {
      "text/plain": [
       "array([[1.76405235, 0.40015721, 0.97873798, 2.2408932 ],\n",
       "       [1.86755799, 0.        , 0.95008842, 0.        ],\n",
       "       [0.        , 0.4105985 , 0.14404357, 1.45427351],\n",
       "       [0.76103773, 0.12167502, 0.44386323, 0.33367433]])"
      ]
     },
     "execution_count": 62,
     "metadata": {},
     "output_type": "execute_result"
    }
   ],
   "source": [
    "# 1. 논리연산자 사용\n",
    "print(np.size(arr3[arr3>0]))\n",
    "print(arr3[arr3>0])\n",
    "\n",
    "# 2. 0보다 작은 값들을 0으로 치환\n",
    "arr3[arr3<0]=0 # 원본도 바뀌니까 가능\n",
    "arr3"
   ]
  },
  {
   "cell_type": "code",
   "execution_count": 65,
   "metadata": {},
   "outputs": [
    {
     "data": {
      "text/plain": [
       "array([[ 1.76405235,  0.40015721,  0.97873798,  2.2408932 ],\n",
       "       [ 1.86755799, -1.        ,  0.95008842, -1.        ],\n",
       "       [-1.        ,  0.4105985 ,  0.14404357,  1.45427351],\n",
       "       [ 0.76103773,  0.12167502,  0.44386323,  0.33367433]])"
      ]
     },
     "execution_count": 65,
     "metadata": {},
     "output_type": "execute_result"
    }
   ],
   "source": [
    "#3. where 함수\n",
    "'''\n",
    "arr3>0 크면 arr3 그대로 리턴\n",
    "arr3<0 작으면 -1 리턴\n",
    "'''\n",
    "arr3_1=np.where(arr3!=0,arr3,-1) # 사망연산자 생각 (조건, 트루면 , 폴스면 )\n",
    "arr3_1"
   ]
  },
  {
   "cell_type": "code",
   "execution_count": 70,
   "metadata": {},
   "outputs": [
    {
     "name": "stdout",
     "output_type": "stream",
     "text": [
      "[3 4 5 6]\n"
     ]
    }
   ],
   "source": [
    "# 매커니즘 : 하나하나 돌면서 boolean 연산을 함\n",
    "a=np.array([[1,2],[3,4],[5,6]])\n",
    "bool_a = (a>2)\n",
    "bool_a\n",
    "\n",
    "# a의 요소로 넣으면 추린 것만 리턴됨\n",
    "print(a[a>2])"
   ]
  },
  {
   "cell_type": "markdown",
   "metadata": {},
   "source": [
    "## Numpy 통계함수"
   ]
  },
  {
   "cell_type": "code",
   "execution_count": 80,
   "metadata": {},
   "outputs": [
    {
     "data": {
      "text/plain": [
       "array([[18,  3, 17, 19],\n",
       "       [19, 19, 14,  7],\n",
       "       [ 0,  1,  9,  0],\n",
       "       [10,  3, 11, 18]])"
      ]
     },
     "execution_count": 80,
     "metadata": {},
     "output_type": "execute_result"
    }
   ],
   "source": [
    "arr4 = np.random.randint(0,20,16).reshape(4,4)\n",
    "arr4"
   ]
  },
  {
   "cell_type": "code",
   "execution_count": 90,
   "metadata": {},
   "outputs": [
    {
     "name": "stdout",
     "output_type": "stream",
     "text": [
      "168\n",
      "[47 26 51 44]\n",
      "[1 1 0 0]\n"
     ]
    }
   ],
   "source": [
    "'''\n",
    "Numpy 계열 통계함수\n",
    "sum(), mean(), min(), max(), argmin(), argmax(), cumsum() : 누적합\n",
    "'''\n",
    "# 1. sum()\n",
    "print(np.sum(arr4))\n",
    "# np.sum?\n",
    "# axis 속성 : None = 전부다, 0 = 모든행/세로, 1 = 모든열/가로\n",
    "\n",
    "print(np.sum(arr4,axis=0))\n",
    "'''\n",
    "axis = 0\n",
    "모든 행 다 검색\n",
    "그 중에서 가장 큰 값의 인덱스 검색\n",
    "'''\n",
    "print(np.argmax(arr4,axis=0))"
   ]
  },
  {
   "cell_type": "code",
   "execution_count": null,
   "metadata": {},
   "outputs": [],
   "source": []
  },
  {
   "cell_type": "code",
   "execution_count": null,
   "metadata": {},
   "outputs": [],
   "source": []
  },
  {
   "cell_type": "code",
   "execution_count": null,
   "metadata": {},
   "outputs": [],
   "source": []
  },
  {
   "cell_type": "code",
   "execution_count": null,
   "metadata": {},
   "outputs": [],
   "source": []
  },
  {
   "cell_type": "code",
   "execution_count": null,
   "metadata": {},
   "outputs": [],
   "source": []
  },
  {
   "cell_type": "code",
   "execution_count": null,
   "metadata": {},
   "outputs": [],
   "source": []
  },
  {
   "cell_type": "code",
   "execution_count": null,
   "metadata": {},
   "outputs": [],
   "source": []
  },
  {
   "cell_type": "code",
   "execution_count": null,
   "metadata": {},
   "outputs": [],
   "source": []
  }
 ],
 "metadata": {
  "kernelspec": {
   "display_name": "Python 3",
   "language": "python",
   "name": "python3"
  },
  "language_info": {
   "codemirror_mode": {
    "name": "ipython",
    "version": 3
   },
   "file_extension": ".py",
   "mimetype": "text/x-python",
   "name": "python",
   "nbconvert_exporter": "python",
   "pygments_lexer": "ipython3",
   "version": "3.7.6"
  }
 },
 "nbformat": 4,
 "nbformat_minor": 4
}
