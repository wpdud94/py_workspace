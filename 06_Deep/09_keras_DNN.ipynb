{
 "cells": [
  {
   "cell_type": "code",
   "execution_count": 20,
   "metadata": {},
   "outputs": [],
   "source": [
    "import keras\n",
    "from keras import models, layers\n",
    "from keras import datasets\n",
    "from keras.utils import np_utils # one hot encdoing -- torch.max 부분 대체\n",
    "import numpy as np\n",
    "import matplotlib.pyplot as plt"
   ]
  },
  {
   "cell_type": "code",
   "execution_count": 21,
   "metadata": {},
   "outputs": [],
   "source": [
    "# 1. Data Loading\n",
    "(X_train, y_train),(X_test, y_test) = datasets.fashion_mnist.load_data()"
   ]
  },
  {
   "cell_type": "code",
   "execution_count": 22,
   "metadata": {},
   "outputs": [
    {
     "name": "stdout",
     "output_type": "stream",
     "text": [
      "(28, 28)\n",
      "(60000, 28, 28)\n",
      "(60000,)\n"
     ]
    },
    {
     "data": {
      "text/plain": [
       "<matplotlib.image.AxesImage at 0x24b14486bc8>"
      ]
     },
     "execution_count": 22,
     "metadata": {},
     "output_type": "execute_result"
    },
    {
     "data": {
      "image/png": "[encoded data removed]",
      "text/plain": [
       "<Figure size 432x288 with 1 Axes>"
      ]
     },
     "metadata": {
      "needs_background": "light"
     },
     "output_type": "display_data"
    }
   ],
   "source": [
    "print(X_train[0].shape)\n",
    "print(X_train.shape)\n",
    "print(y_train.shape)\n",
    "plt.figure()\n",
    "plt.imshow(X_train[0])\n",
    "plt.imshow(X_train[1], cmap='gray') # 1채널인데 cmap입힌 개념으로 보면 됨"
   ]
  },
  {
   "cell_type": "code",
   "execution_count": 23,
   "metadata": {},
   "outputs": [
    {
     "name": "stdout",
     "output_type": "stream",
     "text": [
      "(60000, 784)\n",
      "(10000, 784)\n"
     ]
    }
   ],
   "source": [
    "# 2-1. preprocessing : flatten\n",
    "L, W, H = X_train.shape\n",
    "X_train = X_train.reshape(-1,W*H)\n",
    "X_test = X_test.reshape(-1,W*H)\n",
    "\n",
    "print(X_train.shape)\n",
    "print(X_test.shape)"
   ]
  },
  {
   "cell_type": "code",
   "execution_count": 24,
   "metadata": {},
   "outputs": [
    {
     "data": {
      "text/plain": [
       "array([0.28627451, 0.        , 0.        , 0.00392157, 0.01568627])"
      ]
     },
     "execution_count": 24,
     "metadata": {},
     "output_type": "execute_result"
    }
   ],
   "source": [
    "# 2-2. preprocessing : scaling\n",
    "X_train = X_train/255\n",
    "X_test = X_test/255\n",
    "\n",
    "X_train[0][100:105]"
   ]
  },
  {
   "cell_type": "code",
   "execution_count": 25,
   "metadata": {},
   "outputs": [
    {
     "data": {
      "text/plain": [
       "array([0., 0., 0., 0., 0., 0., 0., 0., 0., 1.], dtype=float32)"
      ]
     },
     "execution_count": 25,
     "metadata": {},
     "output_type": "execute_result"
    }
   ],
   "source": [
    "# 2-3. preprocessing : one-hot-encoding\n",
    "Y_train=np_utils.to_categorical(y_train)\n",
    "Y_test=np_utils.to_categorical(y_test)\n",
    "\n",
    "Y_train[0]"
   ]
  },
  {
   "cell_type": "code",
   "execution_count": 32,
   "metadata": {},
   "outputs": [],
   "source": [
    "# 3. Model Generation\n",
    "model = models.Sequential()"
   ]
  },
  {
   "cell_type": "code",
   "execution_count": 63,
   "metadata": {},
   "outputs": [],
   "source": [
    "model.add(layers.Dense(100, activation='relu', input_shape=(W*H,)))\n",
    "model.add(layers.Dropout(0.5)) # 50% 끊기\n",
    "model.add(layers.Dense(50, activation='relu'))\n",
    "model.add(layers.Dropout(0.25)) # 25% 감소\n",
    "model.add(layers.Dense(10, activation='softmax'))"
   ]
  },
  {
   "cell_type": "code",
   "execution_count": 64,
   "metadata": {},
   "outputs": [],
   "source": [
    "# 4. loss, optimizer\n",
    "model.compile('adam','categorical_crossentropy',metrics=['accuracy'])"
   ]
  },
  {
   "cell_type": "code",
   "execution_count": 65,
   "metadata": {},
   "outputs": [
    {
     "name": "stdout",
     "output_type": "stream",
     "text": [
      "Epoch 1/20\n",
      "60000/60000 [==============================] - 3s 48us/step - loss: 0.5586 - accuracy: 0.8778\n",
      "Epoch 2/20\n",
      "60000/60000 [==============================] - 2s 38us/step - loss: 0.2792 - accuracy: 0.9256\n",
      "Epoch 3/20\n",
      "60000/60000 [==============================] - 2s 40us/step - loss: 0.2521 - accuracy: 0.9298\n",
      "Epoch 4/20\n",
      "60000/60000 [==============================] - 2s 38us/step - loss: 0.2330 - accuracy: 0.9328\n",
      "Epoch 5/20\n",
      "60000/60000 [==============================] - 2s 38us/step - loss: 0.2253 - accuracy: 0.9331\n",
      "Epoch 6/20\n",
      "60000/60000 [==============================] - 2s 41us/step - loss: 0.2222 - accuracy: 0.9321\n",
      "Epoch 7/20\n",
      "60000/60000 [==============================] - 2s 39us/step - loss: 0.2038 - accuracy: 0.9367\n",
      "Epoch 8/20\n",
      "60000/60000 [==============================] - 2s 40us/step - loss: 0.2089 - accuracy: 0.9354\n",
      "Epoch 9/20\n",
      "60000/60000 [==============================] - 2s 38us/step - loss: 0.1991 - accuracy: 0.9361\n",
      "Epoch 10/20\n",
      "60000/60000 [==============================] - 2s 40us/step - loss: 0.1934 - accuracy: 0.9386\n",
      "Epoch 11/20\n",
      "60000/60000 [==============================] - 2s 38us/step - loss: 0.1982 - accuracy: 0.9374\n",
      "Epoch 12/20\n",
      "60000/60000 [==============================] - 2s 38us/step - loss: 0.1883 - accuracy: 0.9387\n",
      "Epoch 13/20\n",
      "60000/60000 [==============================] - 2s 41us/step - loss: 0.1830 - accuracy: 0.9408\n",
      "Epoch 14/20\n",
      "60000/60000 [==============================] - 2s 38us/step - loss: 0.1785 - accuracy: 0.9415\n",
      "Epoch 15/20\n",
      "60000/60000 [==============================] - 2s 41us/step - loss: 0.1820 - accuracy: 0.9413\n",
      "Epoch 16/20\n",
      "60000/60000 [==============================] - 2s 38us/step - loss: 0.1758 - accuracy: 0.9423\n",
      "Epoch 17/20\n",
      "60000/60000 [==============================] - 2s 41us/step - loss: 0.1684 - accuracy: 0.9449\n",
      "Epoch 18/20\n",
      "60000/60000 [==============================] - 2s 38us/step - loss: 0.1738 - accuracy: 0.9431\n",
      "Epoch 19/20\n",
      "60000/60000 [==============================] - 2s 38us/step - loss: 0.1701 - accuracy: 0.9438\n",
      "Epoch 20/20\n",
      "60000/60000 [==============================] - 2s 41us/step - loss: 0.1706 - accuracy: 0.9435\n"
     ]
    },
    {
     "data": {
      "text/plain": [
       "<keras.callbacks.callbacks.History at 0x24b2dbd0308>"
      ]
     },
     "execution_count": 65,
     "metadata": {},
     "output_type": "execute_result"
    }
   ],
   "source": [
    "# 5.학습\n",
    "model.fit(X_train, Y_train, epochs=20,batch_size=100)"
   ]
  },
  {
   "cell_type": "code",
   "execution_count": 66,
   "metadata": {},
   "outputs": [
    {
     "name": "stdout",
     "output_type": "stream",
     "text": [
      "10000/10000 [==============================] - 0s 20us/step\n",
      "Loss : 0.43726120367646215, Accuracy : 0.8845999836921692\n"
     ]
    }
   ],
   "source": [
    "# 6. 평가\n",
    "model_eval = model.evaluate(X_test,Y_test, batch_size=100)\n",
    "print('Loss : {}, Accuracy : {}' .format(*model_eval))\n",
    "\n",
    "# prunnung 전 : 0.345, 0.8870\n",
    "# prunnung 후 : 0.437, 0.8450"
   ]
  },
  {
   "cell_type": "code",
   "execution_count": 67,
   "metadata": {},
   "outputs": [],
   "source": [
    "# 9. 시각화\n",
    "# fit 트레이닝할 때 로그 메세지들을 다 모아서 리턴 == history\n",
    "import matplotlib.pyplot as plt\n",
    "\n",
    "def plot_loss(history):\n",
    "    plt.plot(history.history['loss'])\n",
    "    plt.plot(history.history['val_loss'])\n",
    "    plt.title('Model Loss')\n",
    "    plt.legend(['training', 'validation'])\n",
    "\n",
    "def plot_acc(history):\n",
    "    plt.plot(history.history['accuracy'])\n",
    "    plt.plot(history.history['val_accuracy'])\n",
    "    plt.title('Model acc')\n",
    "    plt.legend(['training', 'validation'])\n",
    "\n",
    "\n",
    "\n"
   ]
  },
  {
   "cell_type": "code",
   "execution_count": 68,
   "metadata": {},
   "outputs": [
    {
     "name": "stdout",
     "output_type": "stream",
     "text": [
      "Train on 48000 samples, validate on 12000 samples\n",
      "Epoch 1/10\n",
      "48000/48000 [==============================] - 2s 42us/step - loss: 0.1520 - accuracy: 0.9481 - val_loss: 0.2433 - val_accuracy: 0.9212\n",
      "Epoch 2/10\n",
      "48000/48000 [==============================] - 2s 44us/step - loss: 0.1549 - accuracy: 0.9465 - val_loss: 0.1780 - val_accuracy: 0.9380\n",
      "Epoch 3/10\n",
      "48000/48000 [==============================] - 2s 41us/step - loss: 0.1525 - accuracy: 0.9484 - val_loss: 0.1796 - val_accuracy: 0.9385\n",
      "Epoch 4/10\n",
      "48000/48000 [==============================] - 2s 41us/step - loss: 0.1434 - accuracy: 0.9513 - val_loss: 0.1789 - val_accuracy: 0.9403\n",
      "Epoch 5/10\n",
      "48000/48000 [==============================] - 2s 45us/step - loss: 0.1440 - accuracy: 0.9498 - val_loss: 0.1838 - val_accuracy: 0.9415\n",
      "Epoch 6/10\n",
      "48000/48000 [==============================] - 2s 41us/step - loss: 0.1473 - accuracy: 0.9498 - val_loss: 0.1858 - val_accuracy: 0.9379\n",
      "Epoch 7/10\n",
      "48000/48000 [==============================] - 2s 44us/step - loss: 0.1412 - accuracy: 0.9510 - val_loss: 0.1871 - val_accuracy: 0.9397\n",
      "Epoch 8/10\n",
      "48000/48000 [==============================] - 2s 41us/step - loss: 0.1448 - accuracy: 0.9514 - val_loss: 0.1995 - val_accuracy: 0.9329\n",
      "Epoch 9/10\n",
      "48000/48000 [==============================] - 2s 41us/step - loss: 0.1338 - accuracy: 0.9538 - val_loss: 0.1926 - val_accuracy: 0.9394\n",
      "Epoch 10/10\n",
      "48000/48000 [==============================] - 2s 46us/step - loss: 0.1343 - accuracy: 0.9542 - val_loss: 0.2528 - val_accuracy: 0.9183\n"
     ]
    }
   ],
   "source": [
    "history = model.fit(X_train,Y_train, epochs=10, batch_size = 100, validation_split= 0.2)"
   ]
  },
  {
   "cell_type": "code",
   "execution_count": 69,
   "metadata": {},
   "outputs": [
    {
     "data": {
      "image/png": "[encoded data removed]",
      "text/plain": [
       "<Figure size 432x288 with 1 Axes>"
      ]
     },
     "metadata": {
      "needs_background": "light"
     },
     "output_type": "display_data"
    }
   ],
   "source": [
    "plot_loss(history)"
   ]
  },
  {
   "cell_type": "code",
   "execution_count": 70,
   "metadata": {},
   "outputs": [
    {
     "data": {
      "image/png": "[encoded data removed]",
      "text/plain": [
       "<Figure size 432x288 with 1 Axes>"
      ]
     },
     "metadata": {
      "needs_background": "light"
     },
     "output_type": "display_data"
    }
   ],
   "source": [
    "plot_acc(history)"
   ]
  },
  {
   "cell_type": "markdown",
   "metadata": {},
   "source": [
    "### Image Data Plotting"
   ]
  },
  {
   "cell_type": "code",
   "execution_count": 46,
   "metadata": {},
   "outputs": [
    {
     "name": "stdout",
     "output_type": "stream",
     "text": [
      "(60000, 784)\n"
     ]
    }
   ],
   "source": []
  },
  {
   "cell_type": "code",
   "execution_count": 52,
   "metadata": {},
   "outputs": [
    {
     "data": {
      "text/plain": [
       "<matplotlib.image.AxesImage at 0x24b147c1f08>"
      ]
     },
     "execution_count": 52,
     "metadata": {},
     "output_type": "execute_result"
    },
    {
     "data": {
      "image/png": "[encoded data removed]",
      "text/plain": [
       "<Figure size 432x288 with 1 Axes>"
      ]
     },
     "metadata": {
      "needs_background": "light"
     },
     "output_type": "display_data"
    }
   ],
   "source": [
    "plt.figure()\n",
    "plt.imshow(X_train[60000-200].reshape(W,H), cmap='gray')"
   ]
  },
  {
   "cell_type": "code",
   "execution_count": 62,
   "metadata": {},
   "outputs": [
    {
     "data": {
      "image/png": "[encoded data removed]",
      "text/plain": [
       "<Figure size 648x432 with 10 Axes>"
      ]
     },
     "metadata": {},
     "output_type": "display_data"
    }
   ],
   "source": [
    "row = 2\n",
    "col = 5\n",
    "\n",
    "grid = range(10)\n",
    "fig, axs=plt.subplots(nrows = row, ncols = col, figsize=(9,6), subplot_kw = {'xticks':[ ],'yticks':[ ]})\n",
    "\n",
    "# axs # 이미지 확인을 위한 객체\n",
    "\n",
    "for ax, index in zip(axs.flat, grid):\n",
    "    ax.imshow(X_train[index].reshape(28,28), cmap='gray')\n",
    "    \n",
    "plt.show()\n"
   ]
  },
  {
   "cell_type": "code",
   "execution_count": null,
   "metadata": {},
   "outputs": [],
   "source": []
  },
  {
   "cell_type": "code",
   "execution_count": null,
   "metadata": {},
   "outputs": [],
   "source": []
  },
  {
   "cell_type": "code",
   "execution_count": null,
   "metadata": {},
   "outputs": [],
   "source": []
  },
  {
   "cell_type": "code",
   "execution_count": null,
   "metadata": {},
   "outputs": [],
   "source": []
  },
  {
   "cell_type": "code",
   "execution_count": null,
   "metadata": {},
   "outputs": [],
   "source": []
  },
  {
   "cell_type": "code",
   "execution_count": null,
   "metadata": {},
   "outputs": [],
   "source": []
  },
  {
   "cell_type": "code",
   "execution_count": null,
   "metadata": {},
   "outputs": [],
   "source": []
  },
  {
   "cell_type": "code",
   "execution_count": null,
   "metadata": {},
   "outputs": [],
   "source": []
  },
  {
   "cell_type": "code",
   "execution_count": null,
   "metadata": {},
   "outputs": [],
   "source": []
  },
  {
   "cell_type": "code",
   "execution_count": null,
   "metadata": {},
   "outputs": [],
   "source": []
  }
 ],
 "metadata": {
  "kernelspec": {
   "display_name": "Python 3",
   "language": "python",
   "name": "python3"
  },
  "language_info": {
   "codemirror_mode": {
    "name": "ipython",
    "version": 3
   },
   "file_extension": ".py",
   "mimetype": "text/x-python",
   "name": "python",
   "nbconvert_exporter": "python",
   "pygments_lexer": "ipython3",
   "version": "3.7.7"
  }
 },
 "nbformat": 4,
 "nbformat_minor": 4
}
