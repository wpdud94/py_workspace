{
 "cells": [
  {
   "cell_type": "code",
   "execution_count": 1,
   "metadata": {},
   "outputs": [],
   "source": [
    "# pytorch Framework 불러오기\n",
    "import torch\n",
    "# pytorchvision 은 Image Processing에 특화된 라이브러리\n",
    "import torchvision\n",
    "# nn subset : Neural Net에 관한 특화된 라이브러리\n",
    "import torch.nn as nn\n",
    "# Image Augmentation 관련 라이브러리\n",
    "import torchvision.transforms as transforms\n",
    "import numpy as np"
   ]
  },
  {
   "cell_type": "markdown",
   "metadata": {},
   "source": [
    "### Create Tensor ... Generating NN"
   ]
  },
  {
   "cell_type": "code",
   "execution_count": 33,
   "metadata": {},
   "outputs": [
    {
     "name": "stdout",
     "output_type": "stream",
     "text": [
      "x,y,b = 1.0,2.0,3.0\n"
     ]
    }
   ],
   "source": [
    "x = torch.tensor(1.,requires_grad=True)\n",
    "w = torch.tensor(2.,requires_grad=True)\n",
    "b = torch.tensor(3.,requires_grad=True)\n",
    "\n",
    "print('x,y,b = {},{},{}'.format(x,w,b))"
   ]
  },
  {
   "cell_type": "code",
   "execution_count": 34,
   "metadata": {},
   "outputs": [
    {
     "name": "stdout",
     "output_type": "stream",
     "text": [
      "tensor(2.) tensor(1.) tensor(1.)\n"
     ]
    }
   ],
   "source": [
    "y = w*x + b # 1차원... y=2x+3\n",
    "\n",
    "y.backward() # 미분됨\n",
    "\n",
    "print(x.grad, w.grad, b.grad)"
   ]
  },
  {
   "cell_type": "markdown",
   "metadata": {},
   "source": [
    "### Create Tensor... 2차원"
   ]
  },
  {
   "cell_type": "code",
   "execution_count": 216,
   "metadata": {},
   "outputs": [
    {
     "name": "stdout",
     "output_type": "stream",
     "text": [
      "Parameter containing:\n",
      "tensor([[ 0.0461, -0.0439,  0.5520],\n",
      "        [ 0.4119, -0.4851,  0.1800]], requires_grad=True)\n",
      "Parameter containing:\n",
      "tensor([-0.4903,  0.3460], requires_grad=True)\n"
     ]
    },
    {
     "data": {
      "text/plain": [
       "<generator object Module.parameters at 0x00000213E94EE1C8>"
      ]
     },
     "execution_count": 216,
     "metadata": {},
     "output_type": "execute_result"
    }
   ],
   "source": [
    "x = torch.randn(10,3)\n",
    "y = torch.randn(10,2)\n",
    "\n",
    "# 1. NN 구성\n",
    "# x*w+b=y 라는 Linear를 그린다... 이때 shape 지정이 중요\n",
    "linear=nn.Linear(3,2) # w는 (3,2) b는 (10,3)\n",
    "print(linear.weight) # 내부적으로 transpose 되어서 나옴\n",
    "print(linear.bias) # (10,2)가 아닌 1행만 나옴... 행이 다 같기 때문에\n",
    "\n",
    "linear.parameters() # 학습주체(Parameter)들을 packing해서 가지고 있음"
   ]
  },
  {
   "cell_type": "code",
   "execution_count": 218,
   "metadata": {},
   "outputs": [
    {
     "name": "stdout",
     "output_type": "stream",
     "text": [
      "loss before backpropagation::  2.1032\n",
      "dL/dw = tensor([[ 0.2010, -0.8274,  2.5154],\n",
      "        [ 1.3399, -2.1158,  2.2961]]), dL/db = tensor([-0.4912,  0.3995]) \n",
      "loss after backpropagation::  2.0106\n"
     ]
    }
   ],
   "source": [
    "# 2. Loss 힘수 정의\n",
    "# 연속변수니까 MSE로 사용\n",
    "loss_function = nn.MSELoss()\n",
    "\n",
    "# 3. 학습 모델 정의 ... SGD\n",
    "# 학습주체(param) 및 hyper param들을 지정\n",
    "optimizer = torch.optim.SGD(linear.parameters(), lr=0.01)\n",
    "\n",
    "# 4. 예측\n",
    "pred = linear(x) # model에 x 입력하면 예측값이 나옴\n",
    "\n",
    "# 5. 첫 Loss 값과 Loss 함수 도출\n",
    "loss=loss_function(pred, y)\n",
    "print('loss before backpropagation:: ', round(loss.item(),4)) # 값만 뽑기\n",
    "\n",
    "# 6. Backpropagation_SGD\n",
    "loss.backward()\n",
    "print('dL/dw = {}, dL/db = {} ' .format(linear.weight.grad,linear.bias.grad))\n",
    "\n",
    "# 7. 기울기를 바탕으로 param 재조정\n",
    "optimizer.step() # 수정된 값으로 실질적인 학습 시작... 하강\n",
    "\n",
    "# 8. 반복효과\n",
    "pred = linear(x)\n",
    "loss=loss_function(pred, y)\n",
    "print('loss after backpropagation:: ', round(loss.item(),4))"
   ]
  },
  {
   "cell_type": "code",
   "execution_count": 220,
   "metadata": {},
   "outputs": [
    {
     "data": {
      "text/plain": [
       "[Parameter containing:\n",
       " tensor([[ 0.0430, -0.0314,  0.5142],\n",
       "         [ 0.3918, -0.4532,  0.1455]], requires_grad=True),\n",
       " Parameter containing:\n",
       " tensor([-0.4830,  0.3400], requires_grad=True)]"
      ]
     },
     "execution_count": 220,
     "metadata": {},
     "output_type": "execute_result"
    }
   ],
   "source": [
    "list(linear.parameters())"
   ]
  },
  {
   "cell_type": "code",
   "execution_count": null,
   "metadata": {},
   "outputs": [],
   "source": []
  },
  {
   "cell_type": "code",
   "execution_count": null,
   "metadata": {},
   "outputs": [],
   "source": []
  },
  {
   "cell_type": "code",
   "execution_count": null,
   "metadata": {},
   "outputs": [],
   "source": []
  },
  {
   "cell_type": "code",
   "execution_count": null,
   "metadata": {},
   "outputs": [],
   "source": []
  },
  {
   "cell_type": "code",
   "execution_count": null,
   "metadata": {},
   "outputs": [],
   "source": []
  },
  {
   "cell_type": "code",
   "execution_count": null,
   "metadata": {},
   "outputs": [],
   "source": []
  },
  {
   "cell_type": "code",
   "execution_count": null,
   "metadata": {},
   "outputs": [],
   "source": []
  },
  {
   "cell_type": "code",
   "execution_count": null,
   "metadata": {},
   "outputs": [],
   "source": []
  },
  {
   "cell_type": "code",
   "execution_count": null,
   "metadata": {},
   "outputs": [],
   "source": []
  },
  {
   "cell_type": "code",
   "execution_count": null,
   "metadata": {},
   "outputs": [],
   "source": []
  },
  {
   "cell_type": "code",
   "execution_count": null,
   "metadata": {},
   "outputs": [],
   "source": []
  },
  {
   "cell_type": "code",
   "execution_count": null,
   "metadata": {},
   "outputs": [],
   "source": []
  },
  {
   "cell_type": "code",
   "execution_count": null,
   "metadata": {},
   "outputs": [],
   "source": []
  },
  {
   "cell_type": "code",
   "execution_count": null,
   "metadata": {},
   "outputs": [],
   "source": []
  },
  {
   "cell_type": "code",
   "execution_count": null,
   "metadata": {},
   "outputs": [],
   "source": []
  },
  {
   "cell_type": "code",
   "execution_count": null,
   "metadata": {},
   "outputs": [],
   "source": []
  },
  {
   "cell_type": "code",
   "execution_count": null,
   "metadata": {},
   "outputs": [],
   "source": []
  },
  {
   "cell_type": "code",
   "execution_count": null,
   "metadata": {},
   "outputs": [],
   "source": []
  },
  {
   "cell_type": "code",
   "execution_count": null,
   "metadata": {},
   "outputs": [],
   "source": []
  },
  {
   "cell_type": "code",
   "execution_count": null,
   "metadata": {},
   "outputs": [],
   "source": []
  },
  {
   "cell_type": "code",
   "execution_count": null,
   "metadata": {},
   "outputs": [],
   "source": []
  },
  {
   "cell_type": "code",
   "execution_count": null,
   "metadata": {},
   "outputs": [],
   "source": []
  },
  {
   "cell_type": "code",
   "execution_count": null,
   "metadata": {},
   "outputs": [],
   "source": []
  },
  {
   "cell_type": "code",
   "execution_count": null,
   "metadata": {},
   "outputs": [],
   "source": []
  },
  {
   "cell_type": "code",
   "execution_count": null,
   "metadata": {},
   "outputs": [],
   "source": []
  },
  {
   "cell_type": "code",
   "execution_count": null,
   "metadata": {},
   "outputs": [],
   "source": []
  },
  {
   "cell_type": "code",
   "execution_count": null,
   "metadata": {},
   "outputs": [],
   "source": []
  },
  {
   "cell_type": "code",
   "execution_count": null,
   "metadata": {},
   "outputs": [],
   "source": []
  },
  {
   "cell_type": "code",
   "execution_count": null,
   "metadata": {},
   "outputs": [],
   "source": []
  },
  {
   "cell_type": "code",
   "execution_count": null,
   "metadata": {},
   "outputs": [],
   "source": []
  }
 ],
 "metadata": {
  "kernelspec": {
   "display_name": "Python 3",
   "language": "python",
   "name": "python3"
  },
  "language_info": {
   "codemirror_mode": {
    "name": "ipython",
    "version": 3
   },
   "file_extension": ".py",
   "mimetype": "text/x-python",
   "name": "python",
   "nbconvert_exporter": "python",
   "pygments_lexer": "ipython3",
   "version": "3.7.7"
  }
 },
 "nbformat": 4,
 "nbformat_minor": 4
}
