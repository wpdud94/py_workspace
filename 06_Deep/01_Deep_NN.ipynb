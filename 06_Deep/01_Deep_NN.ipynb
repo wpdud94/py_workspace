{
 "cells": [
  {
   "cell_type": "markdown",
   "metadata": {},
   "source": [
    "### Pytorch에서의 Gradient Descent"
   ]
  },
  {
   "cell_type": "code",
   "execution_count": 2,
   "metadata": {},
   "outputs": [
    {
     "data": {
      "text/plain": [
       "'\\n우리는 ML 과정에서 선형회귀(Linear Regression)에 대해 간단히 살펴봄\\n이번에는 파이토치를 이용해서 선형회귀를 위한 연산 그래프를 만들고\\n경사하강법을 이해하는 코드를 다시 작성해 봅니다.\\n\\n파이토치에서는 데이터의 기본단위로 Tensor를 사용합니다\\nTensor란? Numpy에서 np.array([1,2,3]) 와 동일\\n이러한 텐서를 연산의 기본단위로 사용한다.\\n\\n텐서를 생성하는 방법으로는\\n1) torch.tensor()\\n'"
      ]
     },
     "execution_count": 2,
     "metadata": {},
     "output_type": "execute_result"
    }
   ],
   "source": [
    "'''\n",
    "우리는 ML 과정에서 선형회귀(Linear Regression)에 대해 간단히 살펴봄\n",
    "이번에는 파이토치를 이용해서 선형회귀를 위한 연산 그래프를 만들고\n",
    "경사하강법을 이해하는 코드를 다시 작성해 봅니다.\n",
    "\n",
    "파이토치에서는 데이터의 기본단위로 Tensor를 사용합니다\n",
    "Tensor란? Numpy에서 np.array([1,2,3]) 와 동일\n",
    "이러한 텐서를 연산의 기본단위로 사용한다.\n",
    "\n",
    "텐서를 생성하는 방법으로는\n",
    "1) torch.tensor()\n",
    "2) addtensor ()\n",
    "등등이 있다\n",
    "'''"
   ]
  },
  {
   "cell_type": "code",
   "execution_count": 28,
   "metadata": {},
   "outputs": [],
   "source": [
    "# pytorch Framework 불러오기\n",
    "import torch\n",
    "# pytorchvision 은 Image Processing에 특화된 라이브러리\n",
    "import torchvision\n",
    "# nn subset : Neural Net에 관한 특화된 라이브러리\n",
    "import torch.nn as nn\n",
    "# Image Augmentation 관련 라이브러리\n",
    "import torchvision.transforms as transforms\n",
    "import numpy as np"
   ]
  },
  {
   "cell_type": "code",
   "execution_count": 14,
   "metadata": {},
   "outputs": [
    {
     "data": {
      "text/plain": [
       "tensor([[1., 2., 3.],\n",
       "        [4., 5., 6.]])"
      ]
     },
     "execution_count": 14,
     "metadata": {},
     "output_type": "execute_result"
    }
   ],
   "source": [
    "# 2행 3열의 행렬을 0에 가까운 값으로 자동으로 초기화된 채로 나옴\n",
    "X = torch.Tensor(2,3)\n",
    "X\n",
    "X.shape\n",
    "X.size()\n",
    "\n",
    "# 직접 값 넣기\n",
    "X = torch.Tensor([[1,2,3,],[4,5,6]])\n",
    "X"
   ]
  },
  {
   "cell_type": "code",
   "execution_count": 26,
   "metadata": {},
   "outputs": [
    {
     "name": "stdout",
     "output_type": "stream",
     "text": [
      "loss = 25.0\n",
      "tensor([ 8., 12.]) None\n"
     ]
    }
   ],
   "source": [
    "'''\n",
    "tensor() 사용하기\n",
    "::\n",
    "함수의 인자값으로 data.dtype, device, requires_grad 등이 있다\n",
    "dtype : 데이터 타입 지정\n",
    "device : 텐서를 어느 기기에 올릴 것인가를 지정... CPU or GPU\n",
    "- 연산이 커지면 (DNN, CNN을 가면) GPU를 사용해야 한다\n",
    "requires_grad : 텐서의 기울기를 지정할지의 여부... 기본값(False)\n",
    "- 미분사용 여부\n",
    "- Backpropagation 여부\n",
    "- False : Test Model... 이미 학습한 걸... 자원을 덜 쓰겠다\n",
    "- True : Training Model\n",
    "'''\n",
    "x = torch.tensor(data=[2.0,3], requires_grad = True)\n",
    "# x = torch.tensor(data=[2.0,3])\n",
    "x\n",
    "y = x**2\n",
    "y\n",
    "# 1. 예측\n",
    "pred = 2*y+3\n",
    "pred\n",
    "\n",
    "target = torch.tensor([3.0,4])\n",
    "# 2. Loss 구하기\n",
    "loss = torch.sum(torch.abs(pred-target)) # (11-3)+(21-4) = 25\n",
    "print('loss = {}' .format(loss))\n",
    "\n",
    "# 3. 가장 가파른 기울기로 하강하는 Weight를 찾기\n",
    "# 가장 낮은 loss값을 결정하는 Weight를 찾기... 편미분...backpropagation\n",
    "# requires_grad = False면 안 돌아감\n",
    "loss.backward()\n",
    "\n",
    "'''\n",
    "x.grad ----> dy/dw = x ()\n",
    "w.grad ----> dy/dx = w ()\n",
    "'''\n",
    "print(x.grad, pred.grad)"
   ]
  },
  {
   "cell_type": "markdown",
   "metadata": {},
   "source": [
    "### Tensor Type - tensor(), as_tensor()\n",
    "####    numpy 배열을 Tensor type으로 바꾸기"
   ]
  },
  {
   "cell_type": "code",
   "execution_count": 90,
   "metadata": {},
   "outputs": [
    {
     "name": "stdout",
     "output_type": "stream",
     "text": [
      "[[1 2]\n",
      " [3 4]]\n",
      "int32\n",
      "<class 'numpy.ndarray'>\n",
      "******************************\n",
      "torch.int32\n",
      "<class 'torch.Tensor'>\n",
      "******************************\n",
      "torch.int32\n",
      "<class 'torch.Tensor'>\n",
      "******************************\n",
      "int32\n",
      "<class 'numpy.ndarray'>\n"
     ]
    },
    {
     "name": "stderr",
     "output_type": "stream",
     "text": [
      "C:\\kjy\\anaconda3\\lib\\site-packages\\ipykernel_launcher.py:17: UserWarning: To copy construct from a tensor, it is recommended to use sourceTensor.clone().detach() or sourceTensor.clone().detach().requires_grad_(True), rather than torch.tensor(sourceTensor).\n"
     ]
    }
   ],
   "source": [
    "'''\n",
    "pytorch의 tensor 는 np의 array이와 같다\n",
    "'''\n",
    "#1.변환\n",
    "li = np.array([[1,2,],[3,4]])\n",
    "print(li)\n",
    "print(li.dtype)\n",
    "print(type(li))\n",
    "print('*'*30)\n",
    "li = torch.tensor(li)\n",
    "print(li.dtype)\n",
    "print(type(li))\n",
    "\n",
    "#2.\n",
    "li_as_torch = torch.as_tensor(li)\n",
    "print('*'*30)\n",
    "li = torch.tensor(li_as_torch)\n",
    "print(li_as_torch.dtype)\n",
    "print(type(li_as_torch))\n",
    "print('*'*30)\n",
    "# 반대로 tensor --> np.array로 변형\n",
    "# torch.numpy() 사용\n",
    "li=li.numpy()\n",
    "print(li.dtype)\n",
    "print(type(li))"
   ]
  },
  {
   "cell_type": "code",
   "execution_count": null,
   "metadata": {},
   "outputs": [],
   "source": []
  },
  {
   "cell_type": "code",
   "execution_count": null,
   "metadata": {},
   "outputs": [],
   "source": []
  },
  {
   "cell_type": "code",
   "execution_count": null,
   "metadata": {},
   "outputs": [],
   "source": []
  },
  {
   "cell_type": "code",
   "execution_count": null,
   "metadata": {},
   "outputs": [],
   "source": []
  },
  {
   "cell_type": "code",
   "execution_count": null,
   "metadata": {},
   "outputs": [],
   "source": []
  },
  {
   "cell_type": "code",
   "execution_count": null,
   "metadata": {},
   "outputs": [],
   "source": []
  },
  {
   "cell_type": "code",
   "execution_count": null,
   "metadata": {},
   "outputs": [],
   "source": []
  },
  {
   "cell_type": "code",
   "execution_count": null,
   "metadata": {},
   "outputs": [],
   "source": []
  },
  {
   "cell_type": "code",
   "execution_count": null,
   "metadata": {},
   "outputs": [],
   "source": []
  },
  {
   "cell_type": "code",
   "execution_count": null,
   "metadata": {},
   "outputs": [],
   "source": []
  },
  {
   "cell_type": "code",
   "execution_count": null,
   "metadata": {},
   "outputs": [],
   "source": []
  },
  {
   "cell_type": "code",
   "execution_count": null,
   "metadata": {},
   "outputs": [],
   "source": []
  },
  {
   "cell_type": "code",
   "execution_count": null,
   "metadata": {},
   "outputs": [],
   "source": []
  },
  {
   "cell_type": "code",
   "execution_count": null,
   "metadata": {},
   "outputs": [],
   "source": []
  },
  {
   "cell_type": "code",
   "execution_count": null,
   "metadata": {},
   "outputs": [],
   "source": []
  },
  {
   "cell_type": "code",
   "execution_count": null,
   "metadata": {},
   "outputs": [],
   "source": []
  },
  {
   "cell_type": "code",
   "execution_count": null,
   "metadata": {},
   "outputs": [],
   "source": []
  },
  {
   "cell_type": "code",
   "execution_count": null,
   "metadata": {},
   "outputs": [],
   "source": []
  },
  {
   "cell_type": "code",
   "execution_count": null,
   "metadata": {},
   "outputs": [],
   "source": []
  }
 ],
 "metadata": {
  "kernelspec": {
   "display_name": "Python 3",
   "language": "python",
   "name": "python3"
  },
  "language_info": {
   "codemirror_mode": {
    "name": "ipython",
    "version": 3
   },
   "file_extension": ".py",
   "mimetype": "text/x-python",
   "name": "python",
   "nbconvert_exporter": "python",
   "pygments_lexer": "ipython3",
   "version": "3.7.7"
  }
 },
 "nbformat": 4,
 "nbformat_minor": 4
}
