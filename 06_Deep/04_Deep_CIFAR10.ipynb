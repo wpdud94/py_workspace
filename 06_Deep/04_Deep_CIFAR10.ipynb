{
 "cells": [
  {
   "cell_type": "code",
   "execution_count": 22,
   "metadata": {},
   "outputs": [],
   "source": [
    "import torch\n",
    "import torchvision\n",
    "import torch.nn as nn\n",
    "import torchvision.transforms as transforms\n",
    "import matplotlib.pyplot as plt\n",
    "import numpy as np"
   ]
  },
  {
   "cell_type": "markdown",
   "metadata": {},
   "source": [
    "### CIFAR10 Dataset Loading and Show Image\n",
    "    이 코드에서는 CIFAR10 데이터셋을 로딩하는 2가지 방법에 대해서 알아본다"
   ]
  },
  {
   "cell_type": "code",
   "execution_count": 23,
   "metadata": {},
   "outputs": [
    {
     "name": "stdout",
     "output_type": "stream",
     "text": [
      "Files already downloaded and verified\n"
     ]
    }
   ],
   "source": [
    "# 오픈소스 불러오기: torchvision.datasets\n",
    "# 인자값(경로, Train Dataset만을 받을 거냐, 중요... 있다가 설명, 다운할래?)\n",
    "# 압축도 알아서 풂\n",
    "train_dataset=torchvision.datasets.CIFAR10(root='../../data/',\n",
    "                             train=True,\n",
    "                             transform=transforms.ToTensor(),\n",
    "                             download=True)"
   ]
  },
  {
   "cell_type": "code",
   "execution_count": 29,
   "metadata": {},
   "outputs": [
    {
     "name": "stdout",
     "output_type": "stream",
     "text": [
      "image : tensor([[[0.2314, 0.1686, 0.1961,  ..., 0.6196, 0.5961, 0.5804],\n",
      "         [0.0627, 0.0000, 0.0706,  ..., 0.4824, 0.4667, 0.4784],\n",
      "         [0.0980, 0.0627, 0.1922,  ..., 0.4627, 0.4706, 0.4275],\n",
      "         ...,\n",
      "         [0.8157, 0.7882, 0.7765,  ..., 0.6275, 0.2196, 0.2078],\n",
      "         [0.7059, 0.6784, 0.7294,  ..., 0.7216, 0.3804, 0.3255],\n",
      "         [0.6941, 0.6588, 0.7020,  ..., 0.8471, 0.5922, 0.4824]],\n",
      "\n",
      "        [[0.2431, 0.1804, 0.1882,  ..., 0.5176, 0.4902, 0.4863],\n",
      "         [0.0784, 0.0000, 0.0314,  ..., 0.3451, 0.3255, 0.3412],\n",
      "         [0.0941, 0.0275, 0.1059,  ..., 0.3294, 0.3294, 0.2863],\n",
      "         ...,\n",
      "         [0.6667, 0.6000, 0.6314,  ..., 0.5216, 0.1216, 0.1333],\n",
      "         [0.5451, 0.4824, 0.5647,  ..., 0.5804, 0.2431, 0.2078],\n",
      "         [0.5647, 0.5059, 0.5569,  ..., 0.7216, 0.4627, 0.3608]],\n",
      "\n",
      "        [[0.2471, 0.1765, 0.1686,  ..., 0.4235, 0.4000, 0.4039],\n",
      "         [0.0784, 0.0000, 0.0000,  ..., 0.2157, 0.1961, 0.2235],\n",
      "         [0.0824, 0.0000, 0.0314,  ..., 0.1961, 0.1961, 0.1647],\n",
      "         ...,\n",
      "         [0.3765, 0.1333, 0.1020,  ..., 0.2745, 0.0275, 0.0784],\n",
      "         [0.3765, 0.1647, 0.1176,  ..., 0.3686, 0.1333, 0.1333],\n",
      "         [0.4549, 0.3686, 0.3412,  ..., 0.5490, 0.3294, 0.2824]]]) \n",
      " label 6\n",
      "image size : torch.Size([3, 32, 32]) \n",
      " image shape : torch.Size([3, 32, 32])\n"
     ]
    }
   ],
   "source": [
    "# 다운받은 데이터 이미지를 실제로 출력해보자\n",
    "# print(train_dataset[0])\n",
    "'''\n",
    "Transform 모듈\n",
    "(1) Scaling\n",
    "::\n",
    "0~255 값이 아닌 0~1 값임을 확인할 수 있다\n",
    "transform.ToTensor() 덕분 : 모든 값을 255로 나눈다 == scaling 한다\n",
    "숫자가 커지면\n",
    "1) 연산 속도가 느려짐\n",
    "2) Overfitting 문제(극적으로 변동하기 때문에 분산값이 큼) --> 데이터 불안정\n",
    "==> 무조건 해줘야 함\n",
    "\n",
    "(2) Tensor Type으로 변형\n",
    "\n",
    "(3) Augmentation\n",
    "'''\n",
    "\n",
    "# 이미지와 라벨 분리\n",
    "image, label = train_dataset[0]\n",
    "print('image : {} \\n label {}' .format (image,label)) # 채널이 먼저 나옴\n",
    "print('image size : {} \\n image shape : {}' .format(image.shape, image.size()))"
   ]
  },
  {
   "cell_type": "code",
   "execution_count": 30,
   "metadata": {},
   "outputs": [
    {
     "data": {
      "text/plain": [
       "<matplotlib.image.AxesImage at 0x251b9c77a08>"
      ]
     },
     "execution_count": 30,
     "metadata": {},
     "output_type": "execute_result"
    },
    {
     "data": {
      "image/png": "[encoded data removed]",
      "text/plain": [
       "<Figure size 432x288 with 1 Axes>"
      ]
     },
     "metadata": {
      "needs_background": "light"
     },
     "output_type": "display_data"
    }
   ],
   "source": [
    "# Image를 이미지로 출력\n",
    "image = image.numpy()\n",
    "# shape에서 채널을 맨 뒤로 보내야 한다... 32 * 32 3\n",
    "image = np.moveaxis(image, 0 ,-1)\n",
    "plt.imshow(image)"
   ]
  },
  {
   "cell_type": "code",
   "execution_count": 37,
   "metadata": {},
   "outputs": [
    {
     "name": "stdout",
     "output_type": "stream",
     "text": [
      "782\n"
     ]
    }
   ],
   "source": [
    "# 실제 파일 불러오기\n",
    "'''\n",
    "위에서는 로컬로 불러들인 것\n",
    "\n",
    "메모리 상으로 불러들이기\n",
    "batch_size =n: N개 데이터를 n개 나누어 불러들인다\n",
    "- 여기서는 N/n = 781.25개\n",
    "- 남는 것은?\n",
    "drop_last = False (기본값) : 남으면 한 번 더 돈다\n",
    "'''\n",
    "train_loader=torch.utils.data.DataLoader(dataset=train_dataset,\n",
    "                            batch_size=64,\n",
    "                            shuffle=True)\n",
    "\n",
    "cnt = 0\n",
    "for images, labels in train_loader: # 782번 돈다\n",
    "    # Training Code\n",
    "    '''\n",
    "    1. model, Loss 정의\n",
    "    2. model에 param 입력(Forward)\n",
    "    3. Loss 도출\n",
    "    4. backward()\n",
    "    5. step()\n",
    "    '''\n",
    "    cnt += 1\n",
    "print(cnt)"
   ]
  },
  {
   "cell_type": "code",
   "execution_count": null,
   "metadata": {},
   "outputs": [],
   "source": []
  },
  {
   "cell_type": "code",
   "execution_count": null,
   "metadata": {},
   "outputs": [],
   "source": []
  },
  {
   "cell_type": "code",
   "execution_count": null,
   "metadata": {},
   "outputs": [],
   "source": []
  },
  {
   "cell_type": "code",
   "execution_count": null,
   "metadata": {},
   "outputs": [],
   "source": []
  },
  {
   "cell_type": "code",
   "execution_count": null,
   "metadata": {},
   "outputs": [],
   "source": []
  },
  {
   "cell_type": "code",
   "execution_count": null,
   "metadata": {},
   "outputs": [],
   "source": []
  },
  {
   "cell_type": "code",
   "execution_count": null,
   "metadata": {},
   "outputs": [],
   "source": []
  },
  {
   "cell_type": "code",
   "execution_count": null,
   "metadata": {},
   "outputs": [],
   "source": []
  },
  {
   "cell_type": "code",
   "execution_count": null,
   "metadata": {},
   "outputs": [],
   "source": []
  },
  {
   "cell_type": "code",
   "execution_count": null,
   "metadata": {},
   "outputs": [],
   "source": []
  },
  {
   "cell_type": "code",
   "execution_count": null,
   "metadata": {},
   "outputs": [],
   "source": []
  },
  {
   "cell_type": "code",
   "execution_count": null,
   "metadata": {},
   "outputs": [],
   "source": []
  },
  {
   "cell_type": "code",
   "execution_count": null,
   "metadata": {},
   "outputs": [],
   "source": []
  },
  {
   "cell_type": "code",
   "execution_count": null,
   "metadata": {},
   "outputs": [],
   "source": []
  },
  {
   "cell_type": "code",
   "execution_count": null,
   "metadata": {},
   "outputs": [],
   "source": []
  },
  {
   "cell_type": "code",
   "execution_count": null,
   "metadata": {},
   "outputs": [],
   "source": []
  }
 ],
 "metadata": {
  "kernelspec": {
   "display_name": "Python 3",
   "language": "python",
   "name": "python3"
  },
  "language_info": {
   "codemirror_mode": {
    "name": "ipython",
    "version": 3
   },
   "file_extension": ".py",
   "mimetype": "text/x-python",
   "name": "python",
   "nbconvert_exporter": "python",
   "pygments_lexer": "ipython3",
   "version": "3.7.7"
  }
 },
 "nbformat": 4,
 "nbformat_minor": 4
}
