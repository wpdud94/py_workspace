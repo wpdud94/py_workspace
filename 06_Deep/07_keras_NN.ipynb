{
 "cells": [
  {
   "cell_type": "code",
   "execution_count": 11,
   "metadata": {},
   "outputs": [],
   "source": [
    "import keras\n",
    "from keras import models, layers\n",
    "import numpy as np"
   ]
  },
  {
   "cell_type": "code",
   "execution_count": 9,
   "metadata": {},
   "outputs": [
    {
     "name": "stdout",
     "output_type": "stream",
     "text": [
      "[0 1 2 3 4] \n",
      "[1 3 5 7 9]\n"
     ]
    }
   ],
   "source": [
    "# 1. Data Loading\n",
    "x= np.array([0,1,2,3,4])\n",
    "y = 2*x+1\n",
    "\n",
    "print('{} \\n{}' .format(x,y))"
   ]
  },
  {
   "cell_type": "code",
   "execution_count": 16,
   "metadata": {},
   "outputs": [],
   "source": [
    "# 2. Model Generationg\n",
    "'''\n",
    "연속된 layer model\n",
    "add: model 속성 추가\n",
    "FCN : layers.Dense(units = 히든 레이어의 개수, input_shape=(1,) = 입력 크기) --> \n",
    "\n",
    "'''\n",
    "model = models.Sequential()\n",
    "model.add(layers.Dense(1,input_shape=(1,)))\n",
    "# layers.Dense?"
   ]
  },
  {
   "cell_type": "code",
   "execution_count": 27,
   "metadata": {},
   "outputs": [],
   "source": [
    "# 3. Loss, optimizer 정의\n",
    "'''\n",
    "compile\n",
    "'''\n",
    "model.compile(optimizer=keras.optimizers.sgd(0.01), loss='mse', metrics=['accuracy'])"
   ]
  },
  {
   "cell_type": "code",
   "execution_count": 29,
   "metadata": {},
   "outputs": [
    {
     "data": {
      "text/plain": [
       "<keras.callbacks.callbacks.History at 0x23bf30f41c8>"
      ]
     },
     "execution_count": 29,
     "metadata": {},
     "output_type": "execute_result"
    }
   ],
   "source": [
    "# 4. 학습\n",
    "model.fit(x[:4],y[:4],epochs=100, shuffle=True, verbose=0) # verbose : tracing"
   ]
  },
  {
   "cell_type": "code",
   "execution_count": 37,
   "metadata": {},
   "outputs": [
    {
     "name": "stdout",
     "output_type": "stream",
     "text": [
      "Y Value : [7 9] \n",
      "Prediction : [6.9912486 8.981131 ]\n"
     ]
    }
   ],
   "source": [
    "# 5. 예측\n",
    "print('Y Value : {} \\nPrediction : {}' .format(y[3:],model.predict(x[3:]).flatten()))"
   ]
  },
  {
   "cell_type": "code",
   "execution_count": 44,
   "metadata": {},
   "outputs": [
    {
     "name": "stdout",
     "output_type": "stream",
     "text": [
      "2/2 [==============================] - 0s 0us/step\n",
      "<class 'list'>\n"
     ]
    }
   ],
   "source": [
    "# 6. Evalutaion\n",
    "loss_function = model.evaluate(x[3:],y[3:])\n",
    "print(loss_function) # [loss, accuracy] 리턴 but 각각 받지 못 함"
   ]
  },
  {
   "cell_type": "code",
   "execution_count": 43,
   "metadata": {},
   "outputs": [
    {
     "name": "stdout",
     "output_type": "stream",
     "text": [
      "2/2 [==============================] - 0s 318us/step\n",
      "Loss : 0.00021632056450471282, Accuracy : 1.0\n"
     ]
    }
   ],
   "source": [
    "eval_model = model.evaluate(x[3:],y[3:])\n",
    "print('Loss : {}, Accuracy : {}' .format(*eval_model))"
   ]
  }
 ],
 "metadata": {
  "kernelspec": {
   "display_name": "Python 3",
   "language": "python",
   "name": "python3"
  },
  "language_info": {
   "codemirror_mode": {
    "name": "ipython",
    "version": 3
   },
   "file_extension": ".py",
   "mimetype": "text/x-python",
   "name": "python",
   "nbconvert_exporter": "python",
   "pygments_lexer": "ipython3",
   "version": "3.7.7"
  }
 },
 "nbformat": 4,
 "nbformat_minor": 4
}
