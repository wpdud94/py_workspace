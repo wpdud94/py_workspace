{
 "cells": [
  {
   "cell_type": "markdown",
   "metadata": {},
   "source": [
    "# GBM\n",
    "####    Gradient Boosting Machine\n",
    "####    DecisionTree --> Ensemble\n",
    "####    Ensemble 종류와 그를 사용하는 ML\n",
    "####    1) Bagging 알고리즘 --> Random Forest Machine\n",
    "####    2) Boosting 알고리즘 --> Gradient Boosting Machine"
   ]
  },
  {
   "cell_type": "code",
   "execution_count": null,
   "metadata": {},
   "outputs": [],
   "source": [
    "'''\n",
    "Gradient Machine 특징\n",
    "::\n",
    "모델을 학습하고 결과를 예측\n",
    "Week Learner(잘못된 학습결과)에 따라서\n",
    "데이터(속성)의 가중치를 조절해 가며 학습하는 알고리즘\n",
    "\n",
    "이때 속성들의 가중치를 업데이트하는 방법으로 \n",
    "경사하강법(Gradient Descent) 사용된다\n",
    "이때 미분, 편미분이 사용된다\n",
    "\n",
    "그렇기 때문에 Gradient Machine에서는 이전에 볼 수 없었던\n",
    "Hyper Parameter 값들도 늘어난다\n",
    "그 중에 가장 대표적인 Hyper Parameter는\n",
    "learning_rate\n",
    "'''"
   ]
  },
  {
   "cell_type": "code",
   "execution_count": 3,
   "metadata": {},
   "outputs": [],
   "source": [
    "from sklearn.datasets import load_breast_cancer\n",
    "from sklearn.ensemble import GradientBoostingClassifier\n",
    "from sklearn.model_selection import train_test_split\n",
    "import matplotlib.pyplot as plt\n",
    "import numpy as np\n",
    "import pandas as pd"
   ]
  },
  {
   "cell_type": "markdown",
   "metadata": {},
   "source": [
    "## 1. Data Load"
   ]
  },
  {
   "cell_type": "code",
   "execution_count": 4,
   "metadata": {},
   "outputs": [],
   "source": [
    "cancer = load_breast_cancer()"
   ]
  },
  {
   "cell_type": "markdown",
   "metadata": {},
   "source": [
    "## 2. split"
   ]
  },
  {
   "cell_type": "code",
   "execution_count": 5,
   "metadata": {},
   "outputs": [],
   "source": [
    "X_train, X_test, y_train, y_test = train_test_split(cancer.data, cancer.target)"
   ]
  },
  {
   "cell_type": "markdown",
   "metadata": {},
   "source": [
    "## 3. Model 생성 및 학습"
   ]
  },
  {
   "cell_type": "code",
   "execution_count": 9,
   "metadata": {},
   "outputs": [
    {
     "data": {
      "text/plain": [
       "GradientBoostingClassifier(random_state=0)"
      ]
     },
     "execution_count": 9,
     "metadata": {},
     "output_type": "execute_result"
    }
   ],
   "source": [
    "gbc=GradientBoostingClassifier(random_state=0)\n",
    "gbc.fit(X_train,y_train)\n"
   ]
  },
  {
   "cell_type": "markdown",
   "metadata": {},
   "source": [
    "## 4. predict"
   ]
  },
  {
   "cell_type": "code",
   "execution_count": 10,
   "metadata": {},
   "outputs": [
    {
     "name": "stdout",
     "output_type": "stream",
     "text": [
      "훈련세트 데이터 정확도 : 1.000000\n",
      "테스트 데이터 정확도 : 0.965035\n"
     ]
    }
   ],
   "source": [
    "print('훈련세트 데이터 정확도 : {:3f}' .format(gbc.score(X_train, y_train))) # 1.0\n",
    "print('테스트 데이터 정확도 : {:3f}' .format(gbc.score(X_test, y_test))) # 0.965"
   ]
  },
  {
   "cell_type": "code",
   "execution_count": null,
   "metadata": {},
   "outputs": [],
   "source": [
    "# Overfitting에 이정도 규모에서 97% 정도는 나와야 함"
   ]
  },
  {
   "cell_type": "markdown",
   "metadata": {},
   "source": [
    "## 5. Hyper Parameter 조정"
   ]
  },
  {
   "cell_type": "code",
   "execution_count": 23,
   "metadata": {},
   "outputs": [
    {
     "name": "stdout",
     "output_type": "stream",
     "text": [
      "훈련세트 데이터 정확도 : 0.995305\n",
      "테스트 데이터 정확도 : 0.930070\n"
     ]
    }
   ],
   "source": [
    "gbc=GradientBoostingClassifier(random_state=0, learning_rate=0.01)\n",
    "gbc.fit(X_train,y_train)\n",
    "\n",
    "print('훈련세트 데이터 정확도 : {:3f}' .format(gbc.score(X_train, y_train))) # 1.0\n",
    "print('테스트 데이터 정확도 : {:3f}' .format(gbc.score(X_test, y_test))) # 0.965"
   ]
  },
  {
   "cell_type": "markdown",
   "metadata": {},
   "source": [
    "## Grid Search"
   ]
  },
  {
   "cell_type": "code",
   "execution_count": null,
   "metadata": {},
   "outputs": [],
   "source": [
    "'''\n",
    "우리가 지정해준 몇 가지 잠재적인 parameter 후보군들의 조합 중에서\n",
    "가장 Best의 조합을 찾아준다\n",
    "\n",
    "다시 말해서\n",
    "우리가 하나하나 일일이 parameter들을 대입해 가며\n",
    "작업하는 부분을 Grid Search가 대신 해준다\n",
    "\n",
    "이 라이브러리를 sklearn에서 제공한다\n",
    "\n",
    "하지만 Grid Search의 가장 큰 단점은\n",
    "지정해준 parameter 후보군의 개수에 비례해 시간이 늘어나기 때문에\n",
    "생각보다 매우 긴 시간이 소요된다\n",
    "\n",
    "Grid Search는 sklearn 패키지에서 model_selection에 있다\n",
    "'''"
   ]
  },
  {
   "cell_type": "code",
   "execution_count": null,
   "metadata": {},
   "outputs": [],
   "source": []
  },
  {
   "cell_type": "code",
   "execution_count": null,
   "metadata": {},
   "outputs": [],
   "source": []
  },
  {
   "cell_type": "code",
   "execution_count": null,
   "metadata": {},
   "outputs": [],
   "source": []
  },
  {
   "cell_type": "code",
   "execution_count": null,
   "metadata": {},
   "outputs": [],
   "source": []
  },
  {
   "cell_type": "code",
   "execution_count": null,
   "metadata": {},
   "outputs": [],
   "source": []
  },
  {
   "cell_type": "code",
   "execution_count": null,
   "metadata": {},
   "outputs": [],
   "source": []
  }
 ],
 "metadata": {
  "kernelspec": {
   "display_name": "Python 3",
   "language": "python",
   "name": "python3"
  },
  "language_info": {
   "codemirror_mode": {
    "name": "ipython",
    "version": 3
   },
   "file_extension": ".py",
   "mimetype": "text/x-python",
   "name": "python",
   "nbconvert_exporter": "python",
   "pygments_lexer": "ipython3",
   "version": "3.7.7"
  }
 },
 "nbformat": 4,
 "nbformat_minor": 4
}
