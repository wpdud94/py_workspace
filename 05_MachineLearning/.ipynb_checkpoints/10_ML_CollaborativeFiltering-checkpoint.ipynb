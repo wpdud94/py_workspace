{
 "cells": [
  {
   "cell_type": "markdown",
   "metadata": {},
   "source": [
    "## 협업 필터링 (Collaborative Filtering) 구현하기 \n",
    "\n",
    "이번 수업에서는 추천 시스템(Recommender System)에서 널리 사용되는 협업 필터링(이하 Collaborative Filtering)의 원리를 알아보고 이를 구현해보겠습니다. 추천 시스템은 사용자(이하 사용자)가 특정 물건이나 서비스(이하 상품)에 대한 선호 여부나 선호도를 예측하는 시스템을 의미합니다. 추천 시스템은 아마존과 같은 이커머스부터 페이스북과 같은 SNS, 유튜브, 넷플릭스 등과 같은 동영상 플랫폼까지 다양한 분야에서 두루 활용되고 있습니다.\n",
    "\n",
    "Collaborative Filtering에는 사용자에게 상품을 추천을 방법이 크게 두 가지가 있습니다. 1. 사용자가 선호하는 상품과 유사한 다른 상품 을 추천(상품 기반)하거나 2. 사용자와 유사한 다른 사용자가 선호하는 상품을 추천(사용자 기반)합니다. 사용자 기반 기법이 먼저 등장한 전통적인 알고리즘이고 상품 기반 방식은 이후 아마존(Amazon)이 제안한 기법입니다. 상품 기반 기법이 더 많은 기업들에서 사용되고 있다고 합니다.\n",
    "\n",
    "사용자 기반 방식이 갖는 문제는 우선 **1. 계산 복잡성 문제**와 **2. 희소성 문제**가 대표적입니다. 아마존과 같이 거대 이커머스 회사들은 수백만 명의 사용자와 수백만 개의 상품을 관리해야하는데 사용자 기반 방식을 사용하는 경우 사용자가 추가될 때마다 나머지 모든 사용자와의 유사도를 연산해야한다는 문제점이 있습니다. 상품 기반 방식을 사용하는 경우에 미리 구해 놓은 상품 간 유사도를 활용할 수 있기 때문에 이러한 문제점이 어느 정도 해결됩니다! 물론 상품 기반 방식도 상품과 사용자가 계속 추가되므로 일정 기간마다 새롭게 유사도를 구해야하지만 사용자 기반 방식보다는 훨씬 계산 복잡성이 작습니다. 그리고 계산 복잡성 문제가 해결되는 대신 이 거대한 행렬을 저장할 공간이 따로 확보되어야한다는 점을 굳이 단점으로 뽑을 수 있습니다. 데이터 희소성 문제는 협업 필터링 알고리즘의 본질적인 취약한 점이지만 사용자가 많은 상품을 평가한 경우는 보통 없어서 이런 경우 사용자간의 유사도를 연산하는 것 자체가 어렵기 때문에 보통 사용자 기반 방식이 더 취약합니다.\n",
    "\n",
    "\n",
    "상품 / 사용자 기반 기법은 전반적으로 다음과 같은 흐름으로 동작합니다.\n",
    "\n",
    "1. 우선 사용자 $u$가 내릴 상품 $i$에 대한 평점(rating)을 추정하고자 합니다. 상품 $i$ / 사용자 $u$와 나머지 모든 상품 / 사용자의 유사도를 연산합니다.\n",
    "2. 유사도가 높은 k개 상품 / 사용자를 선택합니다. 이를 이웃이라고 부르겠습니다.\n",
    "3. 상품 기반 혹은 사용자 기반 기법에 따라 아래 단계를 수행하며 평점을 예측합니다.\n",
    "    - 상품 기반 : 이웃 상품에 내린 사용자 $u$의 평점(rating)을 상품 $i$와의 유사도에 따라 가중 평균을 구합니다. \n",
    "    - 사용자 기반 : 이웃 사용자가 상품 $i$에 내린 평점(rating)을 사용자 $u$와의 유사도에 따라 가중 평균을 구합니다.\n",
    "4. 아직 평점(rating)이 없는 항목에 대해 모든 평점(rating)을 예측합니다. 평점(rating) 예측 값 상위 n개 상품을 추천합니다.\n",
    "\n",
    "이러한 머신러닝 알고리즘을 잘 이해하는 방법은, 알고리즘을 파이썬과 같은 프로그래밍 언어로 직접 구현해보는 것입니다. 그러므로 이번 시간에는 주어진 데이터와 문제를 Collaborative Filtering을 활용하여 풀되, [surprise](http://surpriselib.com/)와 같은 추천 시스템 패키지를 사용하지 않고 파이썬으로 직접 구현해서 풀어보는 시간을 가질 것입니다."
   ]
  },
  {
   "cell_type": "code",
   "execution_count": 79,
   "metadata": {},
   "outputs": [],
   "source": [
    "import numpy as np\n",
    "import pandas as pd\n",
    "import matplotlib.pyplot as plt"
   ]
  },
  {
   "cell_type": "code",
   "execution_count": 80,
   "metadata": {},
   "outputs": [],
   "source": [
    "data = pd.read_csv(\"../data/ratings.csv\", encoding='utf-8')"
   ]
  },
  {
   "cell_type": "code",
   "execution_count": 81,
   "metadata": {},
   "outputs": [
    {
     "data": {
      "text/html": [
       "<div>\n",
       "<style scoped>\n",
       "    .dataframe tbody tr th:only-of-type {\n",
       "        vertical-align: middle;\n",
       "    }\n",
       "\n",
       "    .dataframe tbody tr th {\n",
       "        vertical-align: top;\n",
       "    }\n",
       "\n",
       "    .dataframe thead th {\n",
       "        text-align: right;\n",
       "    }\n",
       "</style>\n",
       "<table border=\"1\" class=\"dataframe\">\n",
       "  <thead>\n",
       "    <tr style=\"text-align: right;\">\n",
       "      <th></th>\n",
       "      <th>사람</th>\n",
       "      <th>책</th>\n",
       "      <th>평점</th>\n",
       "    </tr>\n",
       "  </thead>\n",
       "  <tbody>\n",
       "    <tr>\n",
       "      <th>0</th>\n",
       "      <td>민지</td>\n",
       "      <td>백설공주</td>\n",
       "      <td>5.0</td>\n",
       "    </tr>\n",
       "    <tr>\n",
       "      <th>1</th>\n",
       "      <td>민지</td>\n",
       "      <td>신데렐라</td>\n",
       "      <td>4.0</td>\n",
       "    </tr>\n",
       "    <tr>\n",
       "      <th>2</th>\n",
       "      <td>민지</td>\n",
       "      <td>어린왕자</td>\n",
       "      <td>1.0</td>\n",
       "    </tr>\n",
       "    <tr>\n",
       "      <th>3</th>\n",
       "      <td>민지</td>\n",
       "      <td>흥부전</td>\n",
       "      <td>3.0</td>\n",
       "    </tr>\n",
       "    <tr>\n",
       "      <th>4</th>\n",
       "      <td>현우</td>\n",
       "      <td>노인과바다</td>\n",
       "      <td>3.0</td>\n",
       "    </tr>\n",
       "  </tbody>\n",
       "</table>\n",
       "</div>"
      ],
      "text/plain": [
       "   사람      책   평점\n",
       "0  민지   백설공주  5.0\n",
       "1  민지   신데렐라  4.0\n",
       "2  민지   어린왕자  1.0\n",
       "3  민지    흥부전  3.0\n",
       "4  현우  노인과바다  3.0"
      ]
     },
     "execution_count": 81,
     "metadata": {},
     "output_type": "execute_result"
    }
   ],
   "source": [
    "data.shape\n",
    "data.head()"
   ]
  },
  {
   "cell_type": "code",
   "execution_count": 82,
   "metadata": {},
   "outputs": [
    {
     "data": {
      "text/html": [
       "<div>\n",
       "<style scoped>\n",
       "    .dataframe tbody tr th:only-of-type {\n",
       "        vertical-align: middle;\n",
       "    }\n",
       "\n",
       "    .dataframe tbody tr th {\n",
       "        vertical-align: top;\n",
       "    }\n",
       "\n",
       "    .dataframe thead th {\n",
       "        text-align: right;\n",
       "    }\n",
       "</style>\n",
       "<table border=\"1\" class=\"dataframe\">\n",
       "  <thead>\n",
       "    <tr style=\"text-align: right;\">\n",
       "      <th>책</th>\n",
       "      <th>노인과바다</th>\n",
       "      <th>백설공주</th>\n",
       "      <th>신데렐라</th>\n",
       "      <th>어린왕자</th>\n",
       "      <th>콩쥐팥쥐</th>\n",
       "      <th>흥부전</th>\n",
       "    </tr>\n",
       "    <tr>\n",
       "      <th>사람</th>\n",
       "      <th></th>\n",
       "      <th></th>\n",
       "      <th></th>\n",
       "      <th></th>\n",
       "      <th></th>\n",
       "      <th></th>\n",
       "    </tr>\n",
       "  </thead>\n",
       "  <tbody>\n",
       "    <tr>\n",
       "      <th>민수</th>\n",
       "      <td>3.0</td>\n",
       "      <td>4.0</td>\n",
       "      <td>4.0</td>\n",
       "      <td>3.0</td>\n",
       "      <td>4.0</td>\n",
       "      <td>NaN</td>\n",
       "    </tr>\n",
       "    <tr>\n",
       "      <th>민지</th>\n",
       "      <td>NaN</td>\n",
       "      <td>5.0</td>\n",
       "      <td>4.0</td>\n",
       "      <td>1.0</td>\n",
       "      <td>NaN</td>\n",
       "      <td>3.0</td>\n",
       "    </tr>\n",
       "    <tr>\n",
       "      <th>지민</th>\n",
       "      <td>4.0</td>\n",
       "      <td>1.0</td>\n",
       "      <td>NaN</td>\n",
       "      <td>5.0</td>\n",
       "      <td>2.0</td>\n",
       "      <td>3.0</td>\n",
       "    </tr>\n",
       "    <tr>\n",
       "      <th>지연</th>\n",
       "      <td>5.0</td>\n",
       "      <td>NaN</td>\n",
       "      <td>3.0</td>\n",
       "      <td>4.0</td>\n",
       "      <td>3.0</td>\n",
       "      <td>3.0</td>\n",
       "    </tr>\n",
       "    <tr>\n",
       "      <th>현우</th>\n",
       "      <td>3.0</td>\n",
       "      <td>NaN</td>\n",
       "      <td>2.0</td>\n",
       "      <td>NaN</td>\n",
       "      <td>1.0</td>\n",
       "      <td>2.0</td>\n",
       "    </tr>\n",
       "  </tbody>\n",
       "</table>\n",
       "</div>"
      ],
      "text/plain": [
       "책   노인과바다  백설공주  신데렐라  어린왕자  콩쥐팥쥐  흥부전\n",
       "사람                                    \n",
       "민수    3.0   4.0   4.0   3.0   4.0  NaN\n",
       "민지    NaN   5.0   4.0   1.0   NaN  3.0\n",
       "지민    4.0   1.0   NaN   5.0   2.0  3.0\n",
       "지연    5.0   NaN   3.0   4.0   3.0  3.0\n",
       "현우    3.0   NaN   2.0   NaN   1.0  2.0"
      ]
     },
     "execution_count": 82,
     "metadata": {},
     "output_type": "execute_result"
    }
   ],
   "source": [
    "'''\n",
    "협업필터링은 다음과 같은 형태의 데이터를 사용해야 한다\n",
    "DataFrame --> Pivot_table() 이용해서 협업필터링에 사용할 데이터로 재가공\n",
    "Index : 사용자...무엇을 중심으로 할지\n",
    "columns  : 아이템\n",
    "value --> 평점, 구매횟수, 조회이력수(평점이 없다면 다음순으로 대체한다)\n",
    "'''\n",
    "ratings = data.pivot_table(values='평점', index='사람', columns='책')\n",
    "ratings.head()"
   ]
  },
  {
   "cell_type": "code",
   "execution_count": 83,
   "metadata": {},
   "outputs": [],
   "source": [
    "'''\n",
    "NaN : 평점을 매기지 않은 것\n",
    "따라서 제껴야한다\n",
    "'''\n",
    "# 예제\n",
    "u = np.array([np.nan,4.,3])\n",
    "v = np.array([3,2,4])\n",
    "\n",
    "mask = np.isfinite(u) & np.isfinite(v) # nan = false로 출력, 그외 true로 출력하는 라이브러리\n",
    "u = u[mask]\n",
    "v= v[mask]"
   ]
  },
  {
   "cell_type": "code",
   "execution_count": 84,
   "metadata": {},
   "outputs": [
    {
     "data": {
      "text/plain": [
       "0.8944271909999159"
      ]
     },
     "execution_count": 84,
     "metadata": {},
     "output_type": "execute_result"
    }
   ],
   "source": [
    "# 코사인 유사도\n",
    "# 분자\n",
    "uvdot = (u*v).sum()\n",
    "\n",
    "# 분모1\n",
    "norm1=(u**2).sum() # 각 요소에 대해 제곱하고 합함. np라서 가능\n",
    "norm2=(v**2).sum()\n",
    "\n",
    "score = uvdot/(np.sqrt(norm1)*np.sqrt(norm2))\n",
    "score"
   ]
  },
  {
   "cell_type": "code",
   "execution_count": 85,
   "metadata": {},
   "outputs": [],
   "source": [
    "# 함수화\n",
    "def get_cossine_similarity(u,v) :\n",
    "    mask = np.isfinite(u) & np.isfinite(v) # nan = false로 출력, 그외 true로 출력하는 라이브러리\n",
    "    u = u[mask]\n",
    "    v= v[mask]\n",
    "    \n",
    "    uvdot = (u*v).sum()\n",
    "\n",
    "    # 분모1\n",
    "    norm1=(u**2).sum() # 각 요소에 대해 제곱하고 합함. np라서 가능\n",
    "    norm2=(v**2).sum()\n",
    "\n",
    "    score = uvdot/(np.sqrt(norm1)*np.sqrt(norm2))\n",
    "    return score"
   ]
  },
  {
   "cell_type": "code",
   "execution_count": 86,
   "metadata": {},
   "outputs": [
    {
     "data": {
      "text/plain": [
       "0.8944271909999159"
      ]
     },
     "execution_count": 86,
     "metadata": {},
     "output_type": "execute_result"
    }
   ],
   "source": [
    "get_cossine_similarity(u,v)"
   ]
  },
  {
   "cell_type": "code",
   "execution_count": 87,
   "metadata": {},
   "outputs": [
    {
     "name": "stdout",
     "output_type": "stream",
     "text": [
      "책\n",
      "노인과바다    3.0\n",
      "백설공주     4.0\n",
      "신데렐라     4.0\n",
      "어린왕자     3.0\n",
      "콩쥐팥쥐     4.0\n",
      "흥부전      NaN\n",
      "Name: 민수, dtype: float64 책\n",
      "노인과바다    NaN\n",
      "백설공주     5.0\n",
      "신데렐라     4.0\n",
      "어린왕자     1.0\n",
      "콩쥐팥쥐     NaN\n",
      "흥부전      3.0\n",
      "Name: 민지, dtype: float64\n"
     ]
    },
    {
     "data": {
      "text/plain": [
       "0.9398272507881658"
      ]
     },
     "execution_count": 87,
     "metadata": {},
     "output_type": "execute_result"
    }
   ],
   "source": [
    "# 민수와 민지에 대해\n",
    "u = ratings.loc['민수']\n",
    "v = ratings.loc['민지']\n",
    "print(u,v)\n",
    "get_cossine_similarity(u,v)"
   ]
  },
  {
   "cell_type": "code",
   "execution_count": 88,
   "metadata": {},
   "outputs": [
    {
     "data": {
      "text/plain": [
       "0.8765230646861664"
      ]
     },
     "execution_count": 88,
     "metadata": {},
     "output_type": "execute_result"
    }
   ],
   "source": [
    "# 민수와 현우\n",
    "v=ratings.loc['현우']\n",
    "get_cossine_similarity(u,v)"
   ]
  },
  {
   "cell_type": "code",
   "execution_count": 89,
   "metadata": {},
   "outputs": [
    {
     "data": {
      "text/plain": [
       "Index(['민수', '민지', '지민', '지연', '현우'], dtype='object', name='사람')"
      ]
     },
     "execution_count": 89,
     "metadata": {},
     "output_type": "execute_result"
    }
   ],
   "source": [
    "ratings.index"
   ]
  },
  {
   "cell_type": "markdown",
   "metadata": {},
   "source": [
    "### 모든 사람의 유사도 검색"
   ]
  },
  {
   "cell_type": "code",
   "execution_count": 90,
   "metadata": {},
   "outputs": [],
   "source": [
    "'''\n",
    "조합을 만든다\n",
    "itertools를 이용해서 dataset에 있는 모든 살마들의 유사도를 검색한다\n",
    "itertools는 조합, 순열 다룰 때 사용하는 모듈\n",
    "'''\n",
    "from itertools import product\n",
    "def get_cossine_similarity_table(ratings):\n",
    "    index_combinations=list(product(ratings.index, repeat=2)) # repeat = n 씩 조합한다\n",
    "    index_combinations\n",
    "\n",
    "    similartiy_list = []\n",
    "    for uname, vname in index_combinations:\n",
    "        u ,v= ratings.loc[uname],ratings.loc[vname]\n",
    "        score=get_cossine_similarity(u,v)\n",
    "        similartiy = { #Json 형식\n",
    "            'u':uname,\n",
    "            'v':vname,\n",
    "            'score':round(score,4)\n",
    "        }\n",
    "        similartiy_list.append(similartiy)\n",
    "    similartiy_list = pd.DataFrame(similartiy_list)\n",
    "    similartiy_table = pd.pivot_table(similartiy_list, index='u',columns='v',values='score')\n",
    "    return similartiy_table"
   ]
  },
  {
   "cell_type": "code",
   "execution_count": 91,
   "metadata": {},
   "outputs": [
    {
     "data": {
      "text/html": [
       "<div>\n",
       "<style scoped>\n",
       "    .dataframe tbody tr th:only-of-type {\n",
       "        vertical-align: middle;\n",
       "    }\n",
       "\n",
       "    .dataframe tbody tr th {\n",
       "        vertical-align: top;\n",
       "    }\n",
       "\n",
       "    .dataframe thead th {\n",
       "        text-align: right;\n",
       "    }\n",
       "</style>\n",
       "<table border=\"1\" class=\"dataframe\">\n",
       "  <thead>\n",
       "    <tr style=\"text-align: right;\">\n",
       "      <th>v</th>\n",
       "      <th>민수</th>\n",
       "      <th>민지</th>\n",
       "      <th>지민</th>\n",
       "      <th>지연</th>\n",
       "      <th>현우</th>\n",
       "    </tr>\n",
       "    <tr>\n",
       "      <th>u</th>\n",
       "      <th></th>\n",
       "      <th></th>\n",
       "      <th></th>\n",
       "      <th></th>\n",
       "      <th></th>\n",
       "    </tr>\n",
       "  </thead>\n",
       "  <tbody>\n",
       "    <tr>\n",
       "      <th>민수</th>\n",
       "      <td>1.0000</td>\n",
       "      <td>0.9398</td>\n",
       "      <td>0.8132</td>\n",
       "      <td>0.9390</td>\n",
       "      <td>0.8765</td>\n",
       "    </tr>\n",
       "    <tr>\n",
       "      <th>민지</th>\n",
       "      <td>0.9398</td>\n",
       "      <td>1.0000</td>\n",
       "      <td>0.5429</td>\n",
       "      <td>0.8408</td>\n",
       "      <td>0.9899</td>\n",
       "    </tr>\n",
       "    <tr>\n",
       "      <th>지민</th>\n",
       "      <td>0.8132</td>\n",
       "      <td>0.5429</td>\n",
       "      <td>1.0000</td>\n",
       "      <td>0.9744</td>\n",
       "      <td>0.9926</td>\n",
       "    </tr>\n",
       "    <tr>\n",
       "      <th>지연</th>\n",
       "      <td>0.9390</td>\n",
       "      <td>0.8408</td>\n",
       "      <td>0.9744</td>\n",
       "      <td>1.0000</td>\n",
       "      <td>0.9806</td>\n",
       "    </tr>\n",
       "    <tr>\n",
       "      <th>현우</th>\n",
       "      <td>0.8765</td>\n",
       "      <td>0.9899</td>\n",
       "      <td>0.9926</td>\n",
       "      <td>0.9806</td>\n",
       "      <td>1.0000</td>\n",
       "    </tr>\n",
       "  </tbody>\n",
       "</table>\n",
       "</div>"
      ],
      "text/plain": [
       "v       민수      민지      지민      지연      현우\n",
       "u                                         \n",
       "민수  1.0000  0.9398  0.8132  0.9390  0.8765\n",
       "민지  0.9398  1.0000  0.5429  0.8408  0.9899\n",
       "지민  0.8132  0.5429  1.0000  0.9744  0.9926\n",
       "지연  0.9390  0.8408  0.9744  1.0000  0.9806\n",
       "현우  0.8765  0.9899  0.9926  0.9806  1.0000"
      ]
     },
     "execution_count": 91,
     "metadata": {},
     "output_type": "execute_result"
    }
   ],
   "source": [
    "get_cossine_similarity_table(ratings)"
   ]
  },
  {
   "cell_type": "markdown",
   "metadata": {},
   "source": [
    "### 평점 예측하기"
   ]
  },
  {
   "cell_type": "code",
   "execution_count": 92,
   "metadata": {},
   "outputs": [
    {
     "data": {
      "text/plain": [
       "'\\n민지가 노인과바다에 대한 평점이 없다\\n\\n민지의 노인과바다에 대한 평점 예측\\n\\nuname, bookname --> pred\\n1) 민지와 가장 높은 유사도를 보이는 사람이 누군인지 파악\\n2) 다른 이웃 사용자들의 bookname에 대한 평점 정보를 알아야 한다\\n'"
      ]
     },
     "execution_count": 92,
     "metadata": {},
     "output_type": "execute_result"
    }
   ],
   "source": [
    "'''\n",
    "민지가 노인과바다에 대한 평점이 없다\n",
    "\n",
    "민지의 노인과바다에 대한 평점 예측\n",
    "\n",
    "uname, bookname --> pred\n",
    "1) 민지와 가장 높은 유사도를 보이는 사람이 누군인지 파악\n",
    "2) 다른 이웃 사용자들의 bookname에 대한 평점 정보를 알아야 한다\n",
    "'''"
   ]
  },
  {
   "cell_type": "code",
   "execution_count": 103,
   "metadata": {},
   "outputs": [],
   "source": [
    "def pred_score(bookname, uname,ratings):\n",
    "    # 2)\n",
    "    neighbors_ratings=ratings[bookname].drop(index=uname)\n",
    "\n",
    "    # 유사도 가져오기 \n",
    "    sim_table=get_cossine_similarity_table(ratings)[uname].drop(index=uname)\n",
    "\n",
    "    norminator = (neighbors_ratings * sim_table).sum()\n",
    "    denominator = sim_table.sum()\n",
    "    pred_score = norminator / denominator\n",
    "    return round(pred_score,2)"
   ]
  },
  {
   "cell_type": "code",
   "execution_count": 104,
   "metadata": {},
   "outputs": [
    {
     "data": {
      "text/plain": [
       "3.67"
      ]
     },
     "execution_count": 104,
     "metadata": {},
     "output_type": "execute_result"
    }
   ],
   "source": [
    "pred_score('노인과바다','민지',ratings)"
   ]
  },
  {
   "cell_type": "code",
   "execution_count": 105,
   "metadata": {},
   "outputs": [
    {
     "data": {
      "text/html": [
       "<div>\n",
       "<style scoped>\n",
       "    .dataframe tbody tr th:only-of-type {\n",
       "        vertical-align: middle;\n",
       "    }\n",
       "\n",
       "    .dataframe tbody tr th {\n",
       "        vertical-align: top;\n",
       "    }\n",
       "\n",
       "    .dataframe thead th {\n",
       "        text-align: right;\n",
       "    }\n",
       "</style>\n",
       "<table border=\"1\" class=\"dataframe\">\n",
       "  <thead>\n",
       "    <tr style=\"text-align: right;\">\n",
       "      <th>책</th>\n",
       "      <th>노인과바다</th>\n",
       "      <th>백설공주</th>\n",
       "      <th>신데렐라</th>\n",
       "      <th>어린왕자</th>\n",
       "      <th>콩쥐팥쥐</th>\n",
       "      <th>흥부전</th>\n",
       "    </tr>\n",
       "    <tr>\n",
       "      <th>사람</th>\n",
       "      <th></th>\n",
       "      <th></th>\n",
       "      <th></th>\n",
       "      <th></th>\n",
       "      <th></th>\n",
       "      <th></th>\n",
       "    </tr>\n",
       "  </thead>\n",
       "  <tbody>\n",
       "    <tr>\n",
       "      <th>민수</th>\n",
       "      <td>3.0</td>\n",
       "      <td>4.0</td>\n",
       "      <td>4.0</td>\n",
       "      <td>3.0</td>\n",
       "      <td>4.0</td>\n",
       "      <td>NaN</td>\n",
       "    </tr>\n",
       "    <tr>\n",
       "      <th>민지</th>\n",
       "      <td>NaN</td>\n",
       "      <td>5.0</td>\n",
       "      <td>4.0</td>\n",
       "      <td>1.0</td>\n",
       "      <td>NaN</td>\n",
       "      <td>3.0</td>\n",
       "    </tr>\n",
       "    <tr>\n",
       "      <th>지민</th>\n",
       "      <td>4.0</td>\n",
       "      <td>1.0</td>\n",
       "      <td>NaN</td>\n",
       "      <td>5.0</td>\n",
       "      <td>2.0</td>\n",
       "      <td>3.0</td>\n",
       "    </tr>\n",
       "    <tr>\n",
       "      <th>지연</th>\n",
       "      <td>5.0</td>\n",
       "      <td>NaN</td>\n",
       "      <td>3.0</td>\n",
       "      <td>4.0</td>\n",
       "      <td>3.0</td>\n",
       "      <td>3.0</td>\n",
       "    </tr>\n",
       "    <tr>\n",
       "      <th>현우</th>\n",
       "      <td>3.0</td>\n",
       "      <td>NaN</td>\n",
       "      <td>2.0</td>\n",
       "      <td>NaN</td>\n",
       "      <td>1.0</td>\n",
       "      <td>2.0</td>\n",
       "    </tr>\n",
       "  </tbody>\n",
       "</table>\n",
       "</div>"
      ],
      "text/plain": [
       "책   노인과바다  백설공주  신데렐라  어린왕자  콩쥐팥쥐  흥부전\n",
       "사람                                    \n",
       "민수    3.0   4.0   4.0   3.0   4.0  NaN\n",
       "민지    NaN   5.0   4.0   1.0   NaN  3.0\n",
       "지민    4.0   1.0   NaN   5.0   2.0  3.0\n",
       "지연    5.0   NaN   3.0   4.0   3.0  3.0\n",
       "현우    3.0   NaN   2.0   NaN   1.0  2.0"
      ]
     },
     "execution_count": 105,
     "metadata": {},
     "output_type": "execute_result"
    }
   ],
   "source": [
    "ratings"
   ]
  },
  {
   "cell_type": "code",
   "execution_count": 106,
   "metadata": {},
   "outputs": [
    {
     "data": {
      "text/plain": [
       "3.26"
      ]
     },
     "execution_count": 106,
     "metadata": {},
     "output_type": "execute_result"
    }
   ],
   "source": [
    "pred_score('어린왕자','현우',ratings)"
   ]
  },
  {
   "cell_type": "markdown",
   "metadata": {},
   "source": [
    "### 모든 사용자와 상품에 대한 평점 검색"
   ]
  },
  {
   "cell_type": "code",
   "execution_count": 107,
   "metadata": {},
   "outputs": [
    {
     "data": {
      "text/plain": [
       "(Index(['민수', '민지', '지민', '지연', '현우'], dtype='object', name='사람'),\n",
       " Index(['노인과바다', '백설공주', '신데렐라', '어린왕자', '콩쥐팥쥐', '흥부전'], dtype='object', name='책'))"
      ]
     },
     "execution_count": 107,
     "metadata": {},
     "output_type": "execute_result"
    }
   ],
   "source": [
    "'''\n",
    "NaN을 예측치로 채우겠다\n",
    "'''\n",
    "ratings.index, ratings.columns"
   ]
  },
  {
   "cell_type": "code",
   "execution_count": 111,
   "metadata": {},
   "outputs": [],
   "source": [
    "ratings_combinations = list(product(ratings.index, ratings.columns))\n",
    "rating_list = []\n",
    "for uname, book_name in ratings_combiantions:\n",
    "    "
   ]
  },
  {
   "cell_type": "code",
   "execution_count": null,
   "metadata": {},
   "outputs": [],
   "source": []
  },
  {
   "cell_type": "code",
   "execution_count": null,
   "metadata": {},
   "outputs": [],
   "source": []
  },
  {
   "cell_type": "code",
   "execution_count": null,
   "metadata": {},
   "outputs": [],
   "source": []
  },
  {
   "cell_type": "code",
   "execution_count": null,
   "metadata": {},
   "outputs": [],
   "source": []
  },
  {
   "cell_type": "code",
   "execution_count": null,
   "metadata": {},
   "outputs": [],
   "source": []
  },
  {
   "cell_type": "code",
   "execution_count": null,
   "metadata": {},
   "outputs": [],
   "source": []
  },
  {
   "cell_type": "code",
   "execution_count": null,
   "metadata": {},
   "outputs": [],
   "source": []
  },
  {
   "cell_type": "code",
   "execution_count": null,
   "metadata": {},
   "outputs": [],
   "source": []
  },
  {
   "cell_type": "markdown",
   "metadata": {},
   "source": [
    "## Notation\n",
    "\n",
    "$r_{ui}$를 사용자 $u$가 상품 $i$에 내린 ratings, $I_{uv}$ 를 사용자 $u$와 사용자 $v$가 모두 평가한 상품 집합, $U_{ij}$를 상품 $i$와 상품 $j$를 모두 평가한 사용자 집합이라고 표기하겠습니다."
   ]
  },
  {
   "cell_type": "markdown",
   "metadata": {},
   "source": [
    "## Calculate Similarity \n",
    "\n",
    "#### 사용자 기반(User-based)  기법\n",
    "\n",
    "1. 사용자 \"민지\"와 나머지 모든 사용자의 유사도를 연산합니다. \"민지\"-\"현우\", \"민지\"-\"민수\", \"민지\"-\"지민\", \"민지\"-\"지연\"의 유사도를 연산합니다.\n",
    "\n",
    "<table>\n",
    "  <thead>\n",
    "    <tr style=\"text-align: right;\">\n",
    "      <th>사용자</th>\n",
    "      <th>유사도</th>\n",
    "    </tr>\n",
    "  </thead>\n",
    "  <tbody>\n",
    "    <tr>\n",
    "      <td>현우</td>\n",
    "      <td>0.7261</td>\n",
    "    </tr>\n",
    "    <tr>\n",
    "      <th>민수</th>\n",
    "      <td>0.9547</td>\n",
    "    </tr>\n",
    "    <tr>\n",
    "      <td>지민</td>\n",
    "      <td>0.5985</td>\n",
    "    </tr>\n",
    "    <tr>\n",
    "      <th>지연</th>\n",
    "      <td>0.8541</td>\n",
    "    </tr>\n",
    "  </tbody>\n",
    "</table>\n",
    "\n",
    "#### 상품 기반 (Item-based) 기법\n",
    "\n",
    "1. 상품 \"노인과바다\"와 나머지 모든 상품의 유사도를 연사합니다. \"노인과바다\"-\"백설공주\", \"노인과바다\"-\"신데렐라\", \"노인과바다\"-\"어린왕자\", \"노인과바다\"-\"콩쥐팥쥐\", \"노인과바다\"-\"흥부전\"의 유사도를 연산합니다.\n",
    "\n",
    "<table>\n",
    "  <thead>\n",
    "    <tr style=\"text-align: right;\">\n",
    "      <th>상품</th>\n",
    "      <th>유사도</th>\n",
    "    </tr>\n",
    "  </thead>\n",
    "  <tbody>\n",
    "    <tr>\n",
    "      <td>백설공주</td>\n",
    "      <td>0.7761</td>\n",
    "    </tr>\n",
    "    <tr>\n",
    "      <td>신데렐라</td>\n",
    "      <td>0.8794</td>\n",
    "    </tr>\n",
    "    <tr>\n",
    "      <th>어린왕자</th>\n",
    "      <td>0.9830</td>\n",
    "    </tr>\n",
    "    <tr>\n",
    "      <td>콩쥐팥쥐</td>\n",
    "      <td>0.9032</td>\n",
    "    </tr>\n",
    "    <tr>\n",
    "      <th>흥부전</th>\n",
    "      <td>0.9949</td>\n",
    "    </tr>\n",
    "  </tbody>\n",
    "</table>\n",
    "\n",
    "\n",
    "그렇다면 임의의 두 사용자 혹은 임의의 두 상품, 즉 두 값이 얼마나 유사한지를 어떻게 판단할 수 있을까요? 우리가 알고 있는 가장 대표적인 방법으로 두 데이터가 얼마나 가까운지를 유클리디안 거리(Euclidean Distance)를 활용하여 측정해볼 수도 있습니다. \n",
    "\n",
    "이 외에도 다양한 유사도 메트릭을 사용하여 유사한 정도를 파악하는 것이 가능합니다. 주로 유사도 측정을 위하여 피어슨 상관계수(Pearson Correlation Coefficient), 스피어만 순위 상관계수(Sprearman Rank Correlation Coefficient), 켄달의 타우(Kendall's Tau), 코사인 유사도(Cosine Similarity), 자카드 유사도(Jaccard Coefficient) 등을 활용합니다.\n",
    "\n",
    "이번 과제에서는 자주 쓰이는 피어슨 상관계수(Pearson Correlation Coefficient)에 대하여 더 자세하게 알아보고 이를 직접 구현해보겠습니다. "
   ]
  },
  {
   "cell_type": "code",
   "execution_count": null,
   "metadata": {},
   "outputs": [],
   "source": []
  },
  {
   "cell_type": "code",
   "execution_count": null,
   "metadata": {},
   "outputs": [],
   "source": []
  },
  {
   "cell_type": "code",
   "execution_count": null,
   "metadata": {},
   "outputs": [],
   "source": []
  }
 ],
 "metadata": {
  "kernelspec": {
   "display_name": "Python 3",
   "language": "python",
   "name": "python3"
  },
  "language_info": {
   "codemirror_mode": {
    "name": "ipython",
    "version": 3
   },
   "file_extension": ".py",
   "mimetype": "text/x-python",
   "name": "python",
   "nbconvert_exporter": "python",
   "pygments_lexer": "ipython3",
   "version": "3.7.7"
  }
 },
 "nbformat": 4,
 "nbformat_minor": 4
}
