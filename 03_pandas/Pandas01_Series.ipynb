{
 "cells": [
  {
   "cell_type": "code",
   "execution_count": null,
   "metadata": {},
   "outputs": [],
   "source": []
  },
  {
   "cell_type": "code",
   "execution_count": 1,
   "metadata": {},
   "outputs": [],
   "source": [
    "'''\n",
    "Pandas는 Panel Datas의 약자\n",
    "파이썬을 이용한 데이터분석에서 가장 많이 사용되는 라이브러리\n",
    "Numpy를 기반으로 만들어짐\n",
    "1) Series - 벡터구조\n",
    "2) DataFrame - 매트릭스구조\n",
    "3) Panel : 우리의 대상 아님\n",
    "::\n",
    "우리가 앞으로 가져다 쓸 데이터는 거의 다 이차원 배열구조\n",
    "테이블 형식의 데이터... 엑셀\n",
    "\n",
    "Q1. 왜 엑셀을 바로 가져다가 데이터 분석에 사용하지 않습니까?\n",
    "- 엑셀은 프로그램이 아니다\n",
    "- 데이터분석을 위한 강력한 라이브러리를 쓸 수 없다\n",
    "- Python은 데이터 분석을 위한 강력한 라이브러리가 존재\n",
    "'''"
   ]
  },
  {
   "cell_type": "markdown",
   "metadata": {},
   "source": [
    "## Series\n",
    "### 시리즈 생성, 구조확인"
   ]
  },
  {
   "cell_type": "code",
   "execution_count": 2,
   "metadata": {},
   "outputs": [],
   "source": [
    "import numpy as np\n",
    "import pandas as pd\n",
    "from pandas import Series, DataFrame\n",
    "import matplotlib.pyplot as plt"
   ]
  },
  {
   "cell_type": "code",
   "execution_count": 3,
   "metadata": {},
   "outputs": [],
   "source": [
    "# 1. 시리즈 생성\n",
    "ser1 = Series?"
   ]
  },
  {
   "cell_type": "code",
   "execution_count": 4,
   "metadata": {},
   "outputs": [
    {
     "name": "stdout",
     "output_type": "stream",
     "text": [
      "Index(['a', 'b', 'c', 'd', 'e'], dtype='object')\n",
      "[15 10 13 13 17]\n"
     ]
    }
   ],
   "source": [
    "# 시리즈는 인덱스를 명시적으로 지정하지 않으면 자동으로 0~N-1까지의 정수로 지정\n",
    "np.random.seed(0)\n",
    "ser1 = Series(np.random.randint(10,20,5), index=list('abcde'))\n",
    "ser1\n",
    "# index 속성 : 인덱스만 ndarray로 출력\n",
    "print(ser1.index)\n",
    "# values 속성 : 값만 ndarray출력\n",
    "print(ser1.values)\n",
    "# dtype 속성 : np배열 기반이므로 동일한 자료형만 담을 수 있다"
   ]
  },
  {
   "cell_type": "markdown",
   "metadata": {},
   "source": [
    "### 시리즈 값 조회하기"
   ]
  },
  {
   "cell_type": "code",
   "execution_count": 5,
   "metadata": {},
   "outputs": [
    {
     "name": "stdout",
     "output_type": "stream",
     "text": [
      "b    10\n",
      "c    13\n",
      "d    13\n",
      "dtype: int32\n",
      "b    10\n",
      "c    13\n",
      "d    13\n",
      "dtype: int32\n"
     ]
    }
   ],
   "source": [
    "'''\n",
    "단일값, 여러값을 선택할 때\n",
    "1) 인덱스로 지정 -- [1:4] ---> 마지막 숫자 포함 안 함\n",
    "2) 라벨로 지정 -- ['a':'c'] ---> 마지막 라벨 포함\n",
    "'''\n",
    "print(ser1[1:4])\n",
    "print(ser1['b':'d'])"
   ]
  },
  {
   "cell_type": "markdown",
   "metadata": {},
   "source": [
    "### 응용 조회"
   ]
  },
  {
   "cell_type": "code",
   "execution_count": 6,
   "metadata": {},
   "outputs": [
    {
     "name": "stdout",
     "output_type": "stream",
     "text": [
      "a    15\n",
      "b    10\n",
      "c    13\n",
      "d    13\n",
      "e    17\n",
      "dtype: int32\n",
      "e    17\n",
      "d    13\n",
      "c    13\n",
      "b    10\n",
      "a    15\n",
      "dtype: int32\n",
      "a    15\n",
      "b    10\n",
      "c    13\n",
      "d    13\n",
      "e    17\n",
      "dtype: int32\n",
      "a    15\n",
      "c    13\n",
      "e    17\n",
      "dtype: int32\n"
     ]
    }
   ],
   "source": [
    "ser1_1 = ser1[:] # 전체\n",
    "print(ser1_1)\n",
    "\n",
    "ser1_1=ser1[::-1] # 역순\n",
    "print(ser1_1)\n",
    "\n",
    "ser1_1=ser1[::1]\n",
    "print(ser1_1)\n",
    "\n",
    "ser1_1=ser1[::2] # step2\n",
    "print(ser1_1)"
   ]
  },
  {
   "cell_type": "markdown",
   "metadata": {},
   "source": [
    "### 시리즈 간 연산과 누락데이터(결측값, null, NaN) 처리"
   ]
  },
  {
   "cell_type": "code",
   "execution_count": 7,
   "metadata": {},
   "outputs": [
    {
     "name": "stdout",
     "output_type": "stream",
     "text": [
      "a    15\n",
      "b    10\n",
      "c    13\n",
      "d    13\n",
      "e    17\n",
      "dtype: int32\n",
      "a    15\n",
      "c    13\n",
      "e    17\n",
      "dtype: int32\n"
     ]
    },
    {
     "data": {
      "text/plain": [
       "a    30.0\n",
       "b     NaN\n",
       "c    26.0\n",
       "d     NaN\n",
       "e    34.0\n",
       "dtype: float64"
      ]
     },
     "execution_count": 7,
     "metadata": {},
     "output_type": "execute_result"
    }
   ],
   "source": [
    "# 1. 누락데이터 존재\n",
    "print(ser1)\n",
    "print(ser1_1)\n",
    "\n",
    "result=ser1+ser1_1\n",
    "result\n",
    "# NaN = float64... 그래서 타입 변경"
   ]
  },
  {
   "cell_type": "code",
   "execution_count": 10,
   "metadata": {
    "code_folding": []
   },
   "outputs": [
    {
     "name": "stdout",
     "output_type": "stream",
     "text": [
      "a    False\n",
      "b     True\n",
      "c    False\n",
      "d     True\n",
      "e    False\n",
      "dtype: bool\n",
      "******************************\n",
      "a     True\n",
      "b    False\n",
      "c     True\n",
      "d    False\n",
      "e     True\n",
      "dtype: bool\n",
      "******************************\n",
      "2\n",
      "******************************\n",
      "b   NaN\n",
      "d   NaN\n",
      "dtype: float64\n",
      "a    30.0\n",
      "c    26.0\n",
      "e    34.0\n",
      "dtype: float64\n"
     ]
    }
   ],
   "source": [
    "# 2. isnull() notnull() 누락데이터 조회\n",
    "result\n",
    "print(result.isnull()) # 누락데이터면 True\n",
    "print('*'*30)\n",
    "print(result.notnull()) # 누락데이터면 False\n",
    "print('*'*30)\n",
    "print(result.isnull().sum()) # 누락데이터 개수 알기\n",
    "print('*'*30)\n",
    "# 조건부 슬라이싱을 활용\n",
    "# result[result.isnull()==1]=-9\n",
    "print(result[result.isnull()==1])\n",
    "print(result[result.isnull()==0])"
   ]
  },
  {
   "cell_type": "markdown",
   "metadata": {},
   "source": [
    "### Series값을 이용한 시각화"
   ]
  },
  {
   "cell_type": "code",
   "execution_count": 25,
   "metadata": {},
   "outputs": [
    {
     "data": {
      "image/png": "[encoded data removed]",
      "text/plain": [
       "<Figure size 432x288 with 1 Axes>"
      ]
     },
     "metadata": {},
     "output_type": "display_data"
    }
   ],
   "source": [
    "'''\n",
    "누락데이터를 제외한 분포 확인\n",
    "\n",
    "누락데이터는 Numeric이 아니기에 나타나지 않음\n",
    "'''\n",
    "result[result.notnull()].plot(kind='pie')\n",
    "plt.show()"
   ]
  },
  {
   "cell_type": "code",
   "execution_count": 18,
   "metadata": {},
   "outputs": [
    {
     "data": {
      "image/png": "[encoded data removed]",
      "text/plain": [
       "<Figure size 432x288 with 1 Axes>"
      ]
     },
     "metadata": {
      "needs_background": "light"
     },
     "output_type": "display_data"
    }
   ],
   "source": [
    "result[result.isnull()].plot(kind='line')\n",
    "plt.show()"
   ]
  },
  {
   "cell_type": "code",
   "execution_count": null,
   "metadata": {},
   "outputs": [],
   "source": []
  },
  {
   "cell_type": "code",
   "execution_count": null,
   "metadata": {},
   "outputs": [],
   "source": []
  },
  {
   "cell_type": "code",
   "execution_count": null,
   "metadata": {},
   "outputs": [],
   "source": []
  },
  {
   "cell_type": "code",
   "execution_count": null,
   "metadata": {},
   "outputs": [],
   "source": []
  },
  {
   "cell_type": "code",
   "execution_count": null,
   "metadata": {},
   "outputs": [],
   "source": []
  },
  {
   "cell_type": "code",
   "execution_count": null,
   "metadata": {},
   "outputs": [],
   "source": []
  }
 ],
 "metadata": {
  "kernelspec": {
   "display_name": "Python 3",
   "language": "python",
   "name": "python3"
  },
  "language_info": {
   "codemirror_mode": {
    "name": "ipython",
    "version": 3
   },
   "file_extension": ".py",
   "mimetype": "text/x-python",
   "name": "python",
   "nbconvert_exporter": "python",
   "pygments_lexer": "ipython3",
   "version": "3.7.6"
  }
 },
 "nbformat": 4,
 "nbformat_minor": 4
}
