{
 "cells": [
  {
   "cell_type": "markdown",
   "metadata": {},
   "source": [
    "## 조건문 제어문(if, elif, else)"
   ]
  },
  {
   "cell_type": "code",
   "execution_count": 2,
   "metadata": {},
   "outputs": [
    {
     "name": "stdout",
     "output_type": "stream",
     "text": [
      "a is 3\n"
     ]
    }
   ],
   "source": [
    "'''\n",
    "Python 조건문 특징\n",
    "- ident가 중요하다\n",
    "* Java에서는 {} code block\n",
    "'''\n",
    "a=3\n",
    "if(a%2==0):\n",
    "    print('even')\n",
    "else:\n",
    "    if(a==1):\n",
    "        print('a is 1')\n",
    "    elif(a==3):\n",
    "        print('a is 3')"
   ]
  },
  {
   "cell_type": "markdown",
   "metadata": {},
   "source": [
    "### 문제1 2-69\n",
    "\n",
    "#### 키보드로 성적을 입력받고 해당 성적이 몇 등급인지 판별하는 프로그램 작성"
   ]
  },
  {
   "cell_type": "code",
   "execution_count": 13,
   "metadata": {},
   "outputs": [
    {
     "name": "stdout",
     "output_type": "stream",
     "text": [
      "성적을 입력하세요 :: 80\n",
      "B grade\n"
     ]
    }
   ],
   "source": [
    "score = int(input('성적을 입력하세요 :: '))\n",
    "if(score>=90):\n",
    "    print('A grade')\n",
    "elif(score>=80):\n",
    "    print('B grade')\n",
    "elif(score>=70):\n",
    "    print('C grade')\n",
    "else:\n",
    "    print('D grade')\n"
   ]
  },
  {
   "cell_type": "markdown",
   "metadata": {},
   "source": [
    "## 반복문(for, while) --- range() 함께"
   ]
  },
  {
   "cell_type": "markdown",
   "metadata": {},
   "source": [
    "### for문"
   ]
  },
  {
   "cell_type": "code",
   "execution_count": 16,
   "metadata": {},
   "outputs": [
    {
     "name": "stdout",
     "output_type": "stream",
     "text": [
      "신비한 동물사전\n",
      "조커\n",
      "기생충\n",
      "타임패러독스\n",
      "**************************************************\n",
      "신비한 동물사전\n",
      "조커\n",
      "기생충\n",
      "타임패러독스\n"
     ]
    }
   ],
   "source": [
    "movieL = ['신비한 동물사전','조커','기생충','타임패러독스']\n",
    "\n",
    "# 1. for문 -- 특수 for문\n",
    "for m in movieL:\n",
    "    print(m)\n",
    "    \n",
    "print('*'*50)\n",
    "\n",
    "#2. range와 함께 -- 일반 for문\n",
    "for idx in range(len(movieL)) : # range(4) : 0~3 \n",
    "    print(movieL[idx])\n",
    "    "
   ]
  },
  {
   "cell_type": "markdown",
   "metadata": {},
   "source": [
    "### 문제2 \n",
    "#### 키보드로 값 입력받고 입력한 값의 전체 합을 구하세요\n",
    "#### 입력한 값들은 3,4,5,6 으로 하자\n",
    "#### 특수문, 일반문 둘 다 활용하라"
   ]
  },
  {
   "cell_type": "code",
   "execution_count": 28,
   "metadata": {},
   "outputs": [
    {
     "name": "stdout",
     "output_type": "stream",
     "text": [
      "합할 숫자들을 입력하세요 :: 3,4,5,6\n",
      "18\n",
      "총합은 18 입니다\n"
     ]
    }
   ],
   "source": [
    "numL = input('합할 숫자들을 입력하세요 :: ').split(',')\n",
    "total=0\n",
    "'''\n",
    "# 1. 특수문\n",
    "for n in numL:\n",
    "    total += int(n)\n",
    "'''\n",
    "'''\n",
    "# 2. 일반문\n",
    "for i in range(len(numL)):\n",
    "    total += int(numL[i])\n",
    "'''\n",
    "# 3. 파이썬만의 특징으로\n",
    "intData = [int(i) for i in numL]\n",
    "print(sum(intData))\n",
    "print('총합은', sum(intData), '입니다')"
   ]
  },
  {
   "cell_type": "markdown",
   "metadata": {},
   "source": [
    "### 문제3\n",
    "#### Given numlist = [5,10,11,3,2,100] \n",
    "#### numlist를 이용해서 다음과 같이 출력하세요\n",
    "#### ['홀','짝'...]"
   ]
  },
  {
   "cell_type": "code",
   "execution_count": 31,
   "metadata": {},
   "outputs": [
    {
     "name": "stdout",
     "output_type": "stream",
     "text": [
      "['홀', '짝', '홀', '홀', '짝', '짝']\n"
     ]
    }
   ],
   "source": [
    "numlist = [5,10,11,3,2,100]\n",
    "resultlist = []\n",
    "for i in numlist:\n",
    "    if(i%2==0):\n",
    "        resultlist.append('짝')\n",
    "    else:\n",
    "        resultlist.append('홀')\n",
    "print(resultlist)"
   ]
  },
  {
   "cell_type": "code",
   "execution_count": 44,
   "metadata": {},
   "outputs": [
    {
     "name": "stdout",
     "output_type": "stream",
     "text": [
      "['홀', '짝', '홀', '홀', '짝', '짝']\n"
     ]
    }
   ],
   "source": [
    "# 3 형식을 활용하여\n",
    "resultlist = ['짝' if i%2==0 else '홀' for i in numlist]\n",
    "print(resultlist)"
   ]
  },
  {
   "cell_type": "markdown",
   "metadata": {},
   "source": [
    "### 이중 for문\n",
    "#### matrix에 for문을 사용하기 위해"
   ]
  },
  {
   "cell_type": "code",
   "execution_count": 45,
   "metadata": {},
   "outputs": [
    {
     "name": "stdout",
     "output_type": "stream",
     "text": [
      "0 1 2 3 4 "
     ]
    }
   ],
   "source": [
    "for i in range(5):\n",
    "    print(i, end=' ')"
   ]
  },
  {
   "cell_type": "code",
   "execution_count": 48,
   "metadata": {},
   "outputs": [
    {
     "data": {
      "text/plain": [
       "[[1, 2, 3], [4, 5, 6], [7, 8, 9, 10]]"
      ]
     },
     "execution_count": 48,
     "metadata": {},
     "output_type": "execute_result"
    }
   ],
   "source": [
    "matrix = [[1,2,3],[4,5,6],[7,8,9,10]]\n",
    "len(matrix) # 3\n",
    "matrix # 위대로"
   ]
  },
  {
   "cell_type": "code",
   "execution_count": 66,
   "metadata": {},
   "outputs": [
    {
     "name": "stdout",
     "output_type": "stream",
     "text": [
      "[1, 2, 3]\n",
      "[4, 5, 6]\n",
      "[7, 8, 9, 10]\n",
      "****************************************************************************************************\n",
      "[1, 2, 3]\n",
      "[4, 5, 6]\n",
      "[7, 8, 9, 10]\n",
      "****************************************************************************************************\n",
      "1 2 3 \n",
      "4 5 6 \n",
      "7 8 9 10 \n",
      "****************************************************************************************************\n",
      "1 2 3 \n",
      "4 5 6 \n",
      "7 8 9 10 \n"
     ]
    }
   ],
   "source": [
    "'''\n",
    "문제1\n",
    "[1,2,3]\n",
    "[4,5,6]\n",
    "[7,8,9,10]\n",
    "이 출력되도록\n",
    "'''\n",
    "# 1\n",
    "for i in matrix:\n",
    "    print(i)\n",
    "print('*'*100)\n",
    "# 2\n",
    "for i in range(len(matrix)):\n",
    "    print(matrix[i])\n",
    "print('*'*100)\n",
    "# 3\n",
    "for i in range(len(matrix)) : \n",
    "    for j in range(len(matrix[i])):\n",
    "        print(matrix[i][j], end=' ')\n",
    "    print()\n",
    "print('*'*100)\n",
    "# 4 \n",
    "for row in matrix:\n",
    "    for col in row:\n",
    "        print(col, end=' ')\n",
    "    print()"
   ]
  },
  {
   "cell_type": "markdown",
   "metadata": {},
   "source": [
    "## While문"
   ]
  },
  {
   "cell_type": "code",
   "execution_count": 8,
   "metadata": {},
   "outputs": [
    {
     "name": "stdout",
     "output_type": "stream",
     "text": [
      "1부터 100까지 총합 : 5050\n",
      "**************************************************\n",
      "1부터 100까지 총합 : 5050\n"
     ]
    }
   ],
   "source": [
    "'''\n",
    "1부터 100까지의 합을 구한다\n",
    "조건을 2가지로 둔다\n",
    "1) i<101\n",
    "2) while true : break 필요\n",
    "'''\n",
    "# 1)\n",
    "i=1\n",
    "total1 = 0\n",
    "while (i<101) :\n",
    "    total1+=i\n",
    "    i=i+1\n",
    "print('1부터 100까지 총합 :', total1)\n",
    "\n",
    "print('*'*50)\n",
    "# 2)\n",
    "j=1\n",
    "total2=0\n",
    "while True :\n",
    "    total2+=j\n",
    "    j=j+1\n",
    "    if j==101 :\n",
    "        break\n",
    "\n",
    "print('1부터 100까지 총합 :', total2)"
   ]
  },
  {
   "cell_type": "markdown",
   "metadata": {},
   "source": [
    "## continue, break, pass\n",
    "### 조건문과 같이 쓴다"
   ]
  },
  {
   "cell_type": "code",
   "execution_count": 16,
   "metadata": {},
   "outputs": [
    {
     "name": "stdout",
     "output_type": "stream",
     "text": [
      "0\n",
      "1\n",
      "continue : 2\n",
      "3\n",
      "4\n",
      "5\n",
      "break : 6\n"
     ]
    }
   ],
   "source": [
    "for i in range(10):\n",
    "    if i==2 :\n",
    "        print('continue :', i)\n",
    "        continue\n",
    "    if i==6 :\n",
    "        print('break :', i)\n",
    "        break\n",
    "    if i==4:\n",
    "        #print('pass :', i)\n",
    "        pass\n",
    "    print(i)\n"
   ]
  },
  {
   "cell_type": "code",
   "execution_count": null,
   "metadata": {},
   "outputs": [],
   "source": [
    "# pass : 그냥 아무 일도 없어"
   ]
  },
  {
   "cell_type": "markdown",
   "metadata": {},
   "source": [
    "### 문제4 Number Guess..번호 맞추기 게임"
   ]
  },
  {
   "cell_type": "code",
   "execution_count": null,
   "metadata": {},
   "outputs": [],
   "source": [
    "'''\n",
    "랜덤 숫자 지정... random.randrange()\n",
    "키보드로 특정 숫자를 입력받아서 1) input() 2) int()\n",
    "\n",
    "- 입력된 값이 더 작으면 작습니다\n",
    "- 입력된 값이 더 크면 큽니다\n",
    "- 맞추면 정답\n",
    "- 총 n번만에 번호를 맞췄습니다\n",
    "continue, break\n",
    "'''"
   ]
  },
  {
   "cell_type": "code",
   "execution_count": 6,
   "metadata": {},
   "outputs": [
    {
     "name": "stdout",
     "output_type": "stream",
     "text": [
      "1부터 20사이의 숫자를 입력해주세요10\n",
      "UP\n",
      "1부터 20사이의 숫자를 입력해주세요15\n",
      "UP\n",
      "1부터 20사이의 숫자를 입력해주세요17\n",
      "DOWN\n",
      "1부터 20사이의 숫자를 입력해주세요16\n",
      "정답입니다. 4 회만에 맞추었습니다.\n"
     ]
    }
   ],
   "source": [
    "import random\n",
    "\n",
    "com = random.randrange(1,21) # 1~50까지 임의 정수를 리턴\n",
    "\n",
    "count=0\n",
    "while True :\n",
    "    num = int(input('1부터 20사이의 숫자를 입력해주세요'))\n",
    "    count=count+1\n",
    "    if(com>num):\n",
    "        print('UP')\n",
    "        continue\n",
    "    elif(com<num):\n",
    "        print('DOWN')\n",
    "        continue\n",
    "    else:\n",
    "        print('정답입니다.', count,'회만에 맞추었습니다.')\n",
    "        break\n",
    "\n",
    "\n"
   ]
  }
 ],
 "metadata": {
  "kernelspec": {
   "display_name": "Python 3",
   "language": "python",
   "name": "python3"
  },
  "language_info": {
   "codemirror_mode": {
    "name": "ipython",
    "version": 3
   },
   "file_extension": ".py",
   "mimetype": "text/x-python",
   "name": "python",
   "nbconvert_exporter": "python",
   "pygments_lexer": "ipython3",
   "version": "3.7.6"
  }
 },
 "nbformat": 4,
 "nbformat_minor": 4
}
