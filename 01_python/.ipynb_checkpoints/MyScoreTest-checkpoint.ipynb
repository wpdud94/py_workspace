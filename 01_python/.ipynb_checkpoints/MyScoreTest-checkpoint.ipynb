{
 "cells": [
  {
   "cell_type": "code",
   "execution_count": 6,
   "metadata": {},
   "outputs": [
    {
     "name": "stdout",
     "output_type": "stream",
     "text": [
      "data를 ,단위로 구분하여 입력해주세요1,2,3,4,5\n",
      " 합계 : 15 \n",
      " 평균 : 3.0 \n",
      " 최대값 : 5 \n",
      " 최소값 : 1\n",
      "14\n",
      "10\n",
      "14\n"
     ]
    }
   ],
   "source": [
    "from MyScore import getSum, getMean, getMax, getMin, getTwoSum\n",
    "\n",
    "# 실행하는 부분과 호출하는 부분을 별로도 작성\n",
    "# 심화되면 실행하는 모듈과 호출하는 모듈이 다를 수 있다\n",
    "# 1. 값 입력\n",
    "dataL = input('data를 ,단위로 구분하여 입력해주세요').split(',')\n",
    "intDataL=[int(i) for i in dataL]\n",
    "\n",
    "# 2. 함수 호출\n",
    "print(' 합계 :',getSum(intDataL),\n",
    "        '\\n 평균 :',getMean(intDataL),\n",
    "        '\\n 최대값 :',getMax(intDataL),\n",
    "        '\\n 최소값 :',getMin(intDataL))\n",
    "print(getTwoSum(5,2))\n",
    "print(getTwoSum(4))\n",
    "print(getTwoSum(2,5))"
   ]
  }
 ],
 "metadata": {
  "kernelspec": {
   "display_name": "Python 3",
   "language": "python",
   "name": "python3"
  },
  "language_info": {
   "codemirror_mode": {
    "name": "ipython",
    "version": 3
   },
   "file_extension": ".py",
   "mimetype": "text/x-python",
   "name": "python",
   "nbconvert_exporter": "python",
   "pygments_lexer": "ipython3",
   "version": "3.7.6"
  }
 },
 "nbformat": 4,
 "nbformat_minor": 4
}
