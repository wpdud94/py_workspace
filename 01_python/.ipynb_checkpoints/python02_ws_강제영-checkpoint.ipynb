{
 "cells": [
  {
   "cell_type": "markdown",
   "metadata": {},
   "source": [
    "# 1. 연봉 계산하기\n",
    "\n",
    "### 철수는 시급 15000원을 받으며 회사를 다니고 있습니다.<br>날마다 일하는 시간은 5일을 간격으로 반복되고, 매 달마다 일하는 날 수가 정해져 있습니다.<br>연말에 매달 월급의 10%의 합만큼 보너스를 받는다고 했을 때, 철수의 매 달의 월급과 연봉은 각각 얼마인가요?"
   ]
  },
  {
   "cell_type": "code",
   "execution_count": 2,
   "metadata": {},
   "outputs": [],
   "source": [
    "# hours - 5일을 간격으로 반복되는 근무시간, days - 달마다 일하는 일 수(1-12월)\n",
    "hours = [8,8,8,7,7]\n",
    "days = [23,18,24,23,24,22,23,22,23,22,20,10]"
   ]
  },
  {
   "cell_type": "code",
   "execution_count": 97,
   "metadata": {},
   "outputs": [
    {
     "name": "stdout",
     "output_type": "stream",
     "text": [
      "매달 월급 :  {'1월': 2640000, '2월': 2070000, '3월': 2745000, '4월': 2640000, '5월': 2745000, '6월': 2520000, '7월': 2640000, '8월': 2520000, '9월': 2640000, '10월': 2520000, '11월': 2280000, '12월': 1140000}\n",
      "연봉 : 32010000.0\n"
     ]
    }
   ],
   "source": [
    "hours = [8,8,8,7,7]\n",
    "days = [23,18,24,23,24,22,23,22,23,22,20,10]\n",
    "\n",
    "monthSalary = {}\n",
    "yearSalary = 0\n",
    "cnt=0\n",
    "# 월별 월급\n",
    "for i in range(len(days)):\n",
    "    total=0\n",
    "    for k in range(days[i]):\n",
    "        total+= hours[k%len(hours)]*15000\n",
    "        cnt=cnt+1\n",
    "        #print('month', i+1, 'day', k+1 ,'hour : ',hours[k%len(hours)],' total : ', total)\n",
    "    salary = {str(i+1)+'월':total}\n",
    "    monthSalary.update(salary)\n",
    "print('매달 월급 : ', monthSalary)\n",
    "\n",
    "# 연봉\n",
    "slist= list(monthSalary.values())\n",
    "bonus= sum(slist)*0.1\n",
    "tsal = sum(slist)\n",
    "yearSalary = bonus + tsal\n",
    "print('연봉 :', yearSalary)"
   ]
  },
  {
   "cell_type": "markdown",
   "metadata": {},
   "source": [
    "# 2. 예금, 적금 계산하기\n",
    "\n",
    "### 철수는 위에서 1년동안 벌 돈을 보너스를 제외하고 전부 저축을 하려고 합니다.<br>매달 저축하는 적금의 경우에는 월리가 0.4%이고,<br>1년동안 번 돈을 한번에 저축하는 예금의 경우에는 월 복리가 0.2% 입니다.\n",
    "### 그렇다면 적금과 예금으로 얻을 수 있는 이득은 각각 얼마이고, 둘 중 어떤게 얼마나 더 이득인가요?"
   ]
  },
  {
   "cell_type": "code",
   "execution_count": 98,
   "metadata": {},
   "outputs": [
    {
     "name": "stdout",
     "output_type": "stream",
     "text": [
      "적금 복리이자총액 : 801827 원\n",
      "예금 복리이자총액 : 706134 원\n",
      "적금이 예금보다  95693 원 이득\n"
     ]
    }
   ],
   "source": [
    "dInterestRate = 0.004\n",
    "sInterestRate = 0.002\n",
    "T=12\n",
    "dprofit=0\n",
    "drevenue=0\n",
    "\n",
    "\n",
    "# 월말 적금(복리)\n",
    "for sal in slist:\n",
    "    drevenue+=sal*pow((1+dInterestRate),T)\n",
    "    #print(sal, T, sal*pow((1+dInterestRate),T))\n",
    "    T=T-1\n",
    "dprofit = drevenue - sum(slist)\n",
    "print('적금 복리이자총액 :', round(dprofit),'원')\n",
    "'''\n",
    "T=12\n",
    "dprofit=0\n",
    "drevenue=0\n",
    "# 월말 적금(단리)\n",
    "for sal in slist:\n",
    "    drevenue+=sal*(1+dInterestRate*T)\n",
    "    print(sal, T, sal*(1+dInterestRate*T))\n",
    "    T=T-1\n",
    "dprofit = drevenue - sum(slist)\n",
    "print('적금 단리이자총액 :', round(dprofit),'원')\n",
    "'''\n",
    "T=12\n",
    "sprofit=0\n",
    "srevenue=0\n",
    "# 월말 예금(복리)\n",
    "sprofit=sum(slist)*(pow((1+sInterestRate),T))-sum(slist)\n",
    "#print(T,sprofit)\n",
    "print('예금 복리이자총액 :', round(sprofit),'원') \n",
    "\n",
    "print('적금이 예금보다 ',  round(dprofit)-round(sprofit),'원 이득')"
   ]
  }
 ],
 "metadata": {
  "kernelspec": {
   "display_name": "Python 3",
   "language": "python",
   "name": "python3"
  },
  "language_info": {
   "codemirror_mode": {
    "name": "ipython",
    "version": 3
   },
   "file_extension": ".py",
   "mimetype": "text/x-python",
   "name": "python",
   "nbconvert_exporter": "python",
   "pygments_lexer": "ipython3",
   "version": "3.7.6"
  }
 },
 "nbformat": 4,
 "nbformat_minor": 2
}
