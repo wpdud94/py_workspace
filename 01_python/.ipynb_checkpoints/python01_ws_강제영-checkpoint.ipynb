{
 "cells": [
  {
   "cell_type": "markdown",
   "metadata": {},
   "source": [
    "# 1. 자료형\n",
    "## Background\n",
    "- 데이터 타입\n",
    "- 제어문\n",
    "\n",
    "## Problem\n",
    "### 1. myList = `[[1,2,3],[4,5,6],[7,8]]`에 9를 추가하여 `[[1,2,3],[4,5,6],[7,8,9]]`가 되도록 구현해보세요\n",
    "- append와 insert 두가지 방법으로 풀어보세요"
   ]
  },
  {
   "cell_type": "code",
   "execution_count": 7,
   "metadata": {},
   "outputs": [
    {
     "name": "stdout",
     "output_type": "stream",
     "text": [
      "appned [[1, 2, 3], [4, 5, 6], [7, 8, 9]]\n",
      "insert [[1, 2, 3], [4, 5, 6], [7, 8, 9]]\n"
     ]
    }
   ],
   "source": [
    "# 1. append\n",
    "myList = [[1,2,3],[4,5,6],[7,8]]\n",
    "myList[len(myList)-1].append(9)\n",
    "print('appned',myList)\n",
    "\n",
    "# 2. insert\n",
    "myList = [[1,2,3],[4,5,6],[7,8]]\n",
    "myList[len(myList)-1].insert(len(myList[len(myList)-1]),9)\n",
    "print('insert',myList)"
   ]
  },
  {
   "cell_type": "markdown",
   "metadata": {},
   "source": [
    "### 2. Dictionary를 활용해서 학생들의 이름과 점수를 key와 value로 입력하고 추가, 삭제, 업데이트를 진행해보세요.\n",
    "1. score라는 dictionary에 하준 90점, 서윤 86점, 지아 80점을 입력하세요.\n",
    "2. score에 수지 95점을 추가하세요.\n",
    "3. score에서 지아를 삭제하세요.\n",
    "4. score에 기창 98점, 남철 60점, 기성 75점을 <u>한번에</u> 추가해보세요"
   ]
  },
  {
   "cell_type": "code",
   "execution_count": 13,
   "metadata": {},
   "outputs": [
    {
     "name": "stdout",
     "output_type": "stream",
     "text": [
      "#1 {'하준': 90, '서윤': 86, '지아': 80}\n",
      "#2 {'하준': 90, '서윤': 86, '지아': 80, '수지': 95}\n",
      "#3 {'하준': 90, '서윤': 86, '지아': 80}\n",
      "#4 {'하준': 90, '서윤': 86, '지아': 80, '기창': 98, '남철': 60, '기성': 75}\n"
     ]
    }
   ],
   "source": [
    "# 1.\n",
    "score = {'하준':90,'서윤':86,'지아':80}\n",
    "print('#1', score)\n",
    "\n",
    "# 2.\n",
    "addscore = {'수지':95}\n",
    "score.update(addscore)\n",
    "print('#2', score)\n",
    "\n",
    "# 3.\n",
    "del score['수지']\n",
    "print('#3', score)\n",
    "\n",
    "# 4.\n",
    "addscore = {'기창':98,'남철':60,'기성':75}\n",
    "score.update(addscore)\n",
    "print('#4', score)"
   ]
  },
  {
   "cell_type": "markdown",
   "metadata": {},
   "source": [
    "### 3. 다음 리스트에서 중복된 항목을 없애보세요.\n",
    "```python\n",
    "myList = [1,3,2,3,7,6,8,4,10,5,3,8,9]```"
   ]
  },
  {
   "cell_type": "code",
   "execution_count": 18,
   "metadata": {},
   "outputs": [
    {
     "name": "stdout",
     "output_type": "stream",
     "text": [
      "[1, 2, 3, 4, 5, 6, 7, 8, 9, 10]\n"
     ]
    }
   ],
   "source": [
    "myList = [1,3,2,3,7,6,8,4,10,5,3,8,9]\n",
    "print(list(set(myList)))"
   ]
  },
  {
   "cell_type": "markdown",
   "metadata": {},
   "source": [
    "### 4. 다음의 세 문장에서 중복으로 사용된 알파벳만 출력해보세요.(대소문자 구분)\n",
    "- \"Hello python\"\n",
    "- \"Funny programming\"\n",
    "- \"Happy newyear\""
   ]
  },
  {
   "cell_type": "code",
   "execution_count": 15,
   "metadata": {},
   "outputs": [
    {
     "name": "stdout",
     "output_type": "stream",
     "text": [
      "['l', 'e', 'p', 'm', 'g', 'H', 'n', 'o', 'r', 'y', 'a']\n"
     ]
    }
   ],
   "source": [
    "str1=\"Hello python\"+\" Funny programming\"+\" Happy newyear\"\n",
    "samelist = []\n",
    "for i in range(len(str1)):\n",
    "    for j in range(i+1,len(str1)):\n",
    "        if(str1[i]!=' '):\n",
    "            if(str1[i]==str1[j]):\n",
    "                samelist.append(str1[i])\n",
    "                break\n",
    "a=set(samelist)\n",
    "samelist=list(a)\n",
    "print(samelist)\n"
   ]
  },
  {
   "cell_type": "markdown",
   "metadata": {},
   "source": [
    "### 5. 다음과 같은 규칙을 가진 숫자의 합을 for문을 사용해서 구현하세요.\n",
    "- 1 + (1 + 3) + (1 + 3 + 5) + (1 + 3 + 5 + 7) + ... + (1 + 3 + ... + 19)"
   ]
  },
  {
   "cell_type": "code",
   "execution_count": 21,
   "metadata": {},
   "outputs": [
    {
     "name": "stdout",
     "output_type": "stream",
     "text": [
      "0 1 1\n",
      "1 4 5\n",
      "2 9 14\n",
      "3 16 30\n",
      "4 25 55\n",
      "5 36 91\n",
      "6 49 140\n",
      "7 64 204\n",
      "8 81 285\n",
      "9 100 385\n",
      "정답 : 385\n"
     ]
    }
   ],
   "source": [
    "a=1\n",
    "b=0\n",
    "total=0\n",
    "for i in range(10):\n",
    "    b+=a\n",
    "    total+=b\n",
    "    a=a+2\n",
    "    print(i,b,total)\n",
    "print('정답 :', total)"
   ]
  }
 ],
 "metadata": {
  "kernelspec": {
   "display_name": "Python 3",
   "language": "python",
   "name": "python3"
  },
  "language_info": {
   "codemirror_mode": {
    "name": "ipython",
    "version": 3
   },
   "file_extension": ".py",
   "mimetype": "text/x-python",
   "name": "python",
   "nbconvert_exporter": "python",
   "pygments_lexer": "ipython3",
   "version": "3.7.6"
  }
 },
 "nbformat": 4,
 "nbformat_minor": 2
}
