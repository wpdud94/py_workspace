{
 "cells": [
  {
   "cell_type": "markdown",
   "metadata": {},
   "source": [
    "## 함수"
   ]
  },
  {
   "cell_type": "code",
   "execution_count": null,
   "metadata": {},
   "outputs": [],
   "source": [
    "'''\n",
    "머시러닝, 딥러닝을 하다보면\n",
    "함수를 우리가 정의해서 사용하는 경우가 많다\n",
    "잘 알아두자\n",
    "\n",
    "1. 기본문법\n",
    "def 함수이름(매개변수) :\n",
    "    \"\"\"\n",
    "        docstring : 함수 기능에 대한 설명\n",
    "    \"\"\"\n",
    "    <\n",
    "    수행할 문장\n",
    "    >\n",
    "    return 결과값 (필요 시)\n",
    "    \n",
    "2. 함수를 만드는 4가지 방법 (중요)\n",
    "1) 위치매개변수\n",
    "2) 기본매개변수\n",
    "3) 키워드매개변수\n",
    "4) 가변매개변수 : 파이썬의 특징\n",
    "\n",
    "'''"
   ]
  },
  {
   "cell_type": "code",
   "execution_count": 1,
   "metadata": {},
   "outputs": [
    {
     "data": {
      "text/plain": [
       "3"
      ]
     },
     "execution_count": 1,
     "metadata": {},
     "output_type": "execute_result"
    }
   ],
   "source": [
    "# 1. 위치매개변수\n",
    "# 가장 기본적인 인자값을 전달하는 방식, 함수에서 정의한 위치대로 인자값이 할당\n",
    "# docstring 조차도 들여쓰기에 주의\n",
    "\n",
    "def calc(num1, num2) :\n",
    "    '''\n",
    "    인자값으로 받은 num1, num2\n",
    "    2개의 숫자값을 더해서 result에 할당\n",
    "    그 값을 리턴하는 기능\n",
    "    '''\n",
    "    result = num1 + num2\n",
    "    return result"
   ]
  },
  {
   "cell_type": "code",
   "execution_count": 13,
   "metadata": {},
   "outputs": [
    {
     "name": "stdout",
     "output_type": "stream",
     "text": [
      "8\n"
     ]
    }
   ],
   "source": [
    "print(calc(5,3))\n",
    "# ? : 함수에 대한 전반적인 설명... docstring이 나온다\n",
    "# calc? \n",
    "# ?? : 소스코드까지"
   ]
  },
  {
   "cell_type": "code",
   "execution_count": 15,
   "metadata": {},
   "outputs": [
    {
     "name": "stdout",
     "output_type": "stream",
     "text": [
      "1와 2의 합은 3입니다\n"
     ]
    }
   ],
   "source": [
    "# 1-1. 리턴값이 없는 경우\n",
    "def add(a,b):\n",
    "    '''\n",
    "    인자값 a와 b의 합을 void로 보여주는 함수\n",
    "    '''\n",
    "    print('{}와 {}의 합은 {}입니다' .format(a,b,a+b))\n",
    "\n",
    "add(1,2)"
   ]
  },
  {
   "cell_type": "code",
   "execution_count": 24,
   "metadata": {},
   "outputs": [
    {
     "name": "stdout",
     "output_type": "stream",
     "text": [
      "45\n",
      "45\n"
     ]
    }
   ],
   "source": [
    "# 2. 기본매개변수\n",
    "'''\n",
    "기본값을 지정하는 매개변수\n",
    "값을 설정하지 않으면 기본값이 들어감\n",
    "위치매개변수보다 뒤에 있어야 함\n",
    "'''\n",
    "def calc1(num1, start=0) :\n",
    "    total=0\n",
    "    for i in range(start, num1):\n",
    "        total+=i\n",
    "    return total\n",
    "\n",
    "\n",
    "print(calc1(10))\n",
    "print(calc1(10,0))\n"
   ]
  },
  {
   "cell_type": "code",
   "execution_count": 30,
   "metadata": {},
   "outputs": [],
   "source": [
    "'''\n",
    "pandas의 read_csv() 함수를 대표적으로 살펴보면\n",
    "위치매개변수보다 기본매개변수를 더 많이 쓴다\n",
    "'''\n",
    "# import pandas as pd\n",
    "# from pandas import DataFrame # 이렇게 해주면 pd.DataFrame 안 해도 됨\n",
    "# pd.read_csv?\n"
   ]
  },
  {
   "cell_type": "code",
   "execution_count": 38,
   "metadata": {},
   "outputs": [
    {
     "name": "stdout",
     "output_type": "stream",
     "text": [
      "나의 이름은 홍길동 나이는 19 입니다. 40\n",
      "나의 이름은 홍길동 나이는 19 입니다. 40\n"
     ]
    }
   ],
   "source": [
    "# 3. 키워드 매개변수 : 순서 상관없이 직접 매개변수를 지정해서 찾아감\n",
    "'''\n",
    "위치매개변수의 단점: 순서를 정학히 안 지키면 에러 없이 잘못된 값을 할당하게 됨\n",
    "like 생성자\n",
    "키워드매개변수는 순서가 상관없이 지정하기 때문에 잘못 넣을 확률이 낮다\n",
    "'''\n",
    "def calc2(name, age, weight) :\n",
    "    print('나의 이름은', name,'나이는',age,'입니다.',weight)\n",
    "calc2('홍길동',19,40) # 위치\n",
    "calc2(age=19, weight=40, name='홍길동') #키워드"
   ]
  },
  {
   "cell_type": "code",
   "execution_count": 61,
   "metadata": {},
   "outputs": [
    {
     "data": {
      "text/html": [
       "<div>\n",
       "<style scoped>\n",
       "    .dataframe tbody tr th:only-of-type {\n",
       "        vertical-align: middle;\n",
       "    }\n",
       "\n",
       "    .dataframe tbody tr th {\n",
       "        vertical-align: top;\n",
       "    }\n",
       "\n",
       "    .dataframe thead th {\n",
       "        text-align: right;\n",
       "    }\n",
       "</style>\n",
       "<table border=\"1\" class=\"dataframe\">\n",
       "  <thead>\n",
       "    <tr style=\"text-align: right;\">\n",
       "      <th></th>\n",
       "      <th>e</th>\n",
       "      <th>f</th>\n",
       "      <th>g</th>\n",
       "      <th>h</th>\n",
       "    </tr>\n",
       "  </thead>\n",
       "  <tbody>\n",
       "    <tr>\n",
       "      <th>a</th>\n",
       "      <td>-0.001222</td>\n",
       "      <td>-0.402431</td>\n",
       "      <td>-0.004965</td>\n",
       "      <td>0.466157</td>\n",
       "    </tr>\n",
       "    <tr>\n",
       "      <th>b</th>\n",
       "      <td>-0.187177</td>\n",
       "      <td>2.176591</td>\n",
       "      <td>0.575906</td>\n",
       "      <td>0.483874</td>\n",
       "    </tr>\n",
       "    <tr>\n",
       "      <th>c</th>\n",
       "      <td>-0.211292</td>\n",
       "      <td>-0.352016</td>\n",
       "      <td>-0.940703</td>\n",
       "      <td>-0.614264</td>\n",
       "    </tr>\n",
       "    <tr>\n",
       "      <th>d</th>\n",
       "      <td>-0.561376</td>\n",
       "      <td>-0.430129</td>\n",
       "      <td>0.379596</td>\n",
       "      <td>-1.062377</td>\n",
       "    </tr>\n",
       "  </tbody>\n",
       "</table>\n",
       "</div>"
      ],
      "text/plain": [
       "          e         f         g         h\n",
       "a -0.001222 -0.402431 -0.004965  0.466157\n",
       "b -0.187177  2.176591  0.575906  0.483874\n",
       "c -0.211292 -0.352016 -0.940703 -0.614264\n",
       "d -0.561376 -0.430129  0.379596 -1.062377"
      ]
     },
     "execution_count": 61,
     "metadata": {},
     "output_type": "execute_result"
    }
   ],
   "source": [
    "# 키워드 매개변수의 예\n",
    "import numpy as np\n",
    "import pandas as pd\n",
    "from pandas import DataFrame\n",
    "\n",
    "'''\n",
    "앞으로 다룰 데이터는 matrix 형태\n",
    "matrix 형태가 곧 DataFrame\n",
    "그래서 pandas가 중요\n",
    "'''\n",
    "# 행 = index, 열 = feature, 값을 안 주면 정수로 표시됨, 키워드 매개변수를 써서 표시 가능\n",
    "df1 = DataFrame(np.random.randn(4,4),\n",
    "               index=list('abcd'),\n",
    "               columns=list('efgh')) \n",
    "df1"
   ]
  },
  {
   "cell_type": "code",
   "execution_count": 82,
   "metadata": {},
   "outputs": [
    {
     "name": "stdout",
     "output_type": "stream",
     "text": [
      "(3, 4, 5)\n",
      "{'name': '홍길동', 'age': 19}\n",
      "홍길동 : 3\n"
     ]
    }
   ],
   "source": [
    "# 4. 가변매개변수 : \n",
    "'''\n",
    "인자값이 몇 개인지 모르는 상황에서 사용\n",
    "ex) print()\n",
    "위치매개변수와 달리 변수명 앞에 *가 붙음\n",
    "위치매개변수 앞에서 사용할 수 없다\n",
    "가변매개변수는 단 하나만 사용 가능\n",
    "\n",
    "튜플로 입출력\n",
    "\n",
    "** 일 때는 키워드매개변수로 입력 & 딕셔너리 타입으로 출력\n",
    "'''\n",
    "\n",
    "def calc3(*args) :\n",
    "    print(args)\n",
    "\n",
    "calc3(3,4,5)\n",
    "\n",
    "def calc4(**args2):\n",
    "    print(args2)\n",
    "# calc4(3,4) 에러 발생\n",
    "calc4(name='홍길동',age=19)\n",
    "\n",
    "def calc5(name,*args):\n",
    "    print(name, ':', args)\n",
    "calc5('홍길동',3,4)"
   ]
  },
  {
   "cell_type": "markdown",
   "metadata": {},
   "source": [
    "### 문제1 \n",
    "#### 가변매개변수와 위치매개변수"
   ]
  },
  {
   "cell_type": "code",
   "execution_count": 85,
   "metadata": {},
   "outputs": [
    {
     "name": "stdout",
     "output_type": "stream",
     "text": [
      "3\n",
      "6\n",
      "9\n"
     ]
    }
   ],
   "source": [
    "'''\n",
    "가변매개변수와 위치매개변수를 사용해서\n",
    "3,6,9 가 출력되도록 함수 정의\n",
    "이때 조건\n",
    "1) 위치매개변수에는 인자값 3을 넣어서 호출되도록 \n",
    "2) for문 사용\n",
    "'''\n",
    "def value_times(times, *values):\n",
    "    for i in values:\n",
    "        print(times*i)\n",
    "value_times(3,1,2,3)"
   ]
  },
  {
   "cell_type": "markdown",
   "metadata": {},
   "source": [
    "### 문제2\n",
    "#### 가변매개변수와 기본매개변수"
   ]
  },
  {
   "cell_type": "code",
   "execution_count": 112,
   "metadata": {},
   "outputs": [],
   "source": [
    "'''\n",
    "가변매개변수와 기본매개변수 사용\n",
    "\n",
    "'''\n",
    "def values_times(times=2,*values):\n",
    "    for value in values:\n",
    "        print(times*value)"
   ]
  },
  {
   "cell_type": "code",
   "execution_count": 123,
   "metadata": {},
   "outputs": [
    {
     "name": "stdout",
     "output_type": "stream",
     "text": [
      "2\n",
      "3\n",
      "4\n",
      "**************************************************\n",
      "2\n",
      "3\n",
      "4\n"
     ]
    }
   ],
   "source": [
    "values_times(1,2,3,4)\n",
    "print('*'*50)\n",
    "values_times(1,2,3,4)"
   ]
  },
  {
   "cell_type": "markdown",
   "metadata": {},
   "source": [
    "## Custom 함수 정의하기"
   ]
  },
  {
   "cell_type": "code",
   "execution_count": null,
   "metadata": {},
   "outputs": [],
   "source": [
    "'''\n",
    "파이썬이 제공하는 함수를 사용하지 않고\n",
    "아래와 같은 기능을 실행할 수 있는 함수 5개를 정의\n",
    "getSum(data) : 전달받은 데이터의 합을 구해서 리턴하는 기능. input으로 받기\n",
    "getMean(data) : 전달받은 데이터의 평균을 구해서 리턴하는 기능. input으로 받기\n",
    "getMax(data) :전달받은 데이터의 최대값을 구해서 리턴하는 기능. input으로 받기\n",
    "getMim(data) :\n",
    "getTwoSum(num2,num1=1) : 두 수 사이의 합을 구하는 함수\n",
    "'''"
   ]
  },
  {
   "cell_type": "code",
   "execution_count": 143,
   "metadata": {},
   "outputs": [],
   "source": [
    "def getSum(data):\n",
    "    sumD =0\n",
    "    for i in data:\n",
    "        sumD+=i\n",
    "    return sumD\n",
    "\n",
    "def getMean(data):\n",
    "    meanD=0\n",
    "    meanD = getSum(data)/len(data)\n",
    "    return meanD\n",
    "\n",
    "def getMax(data):\n",
    "    maxD = data[0]\n",
    "    for i in data[1:] :\n",
    "        if(maxD<i):\n",
    "            maxD=i\n",
    "    return maxD\n",
    "\n",
    "def getMin(data):\n",
    "    minD=data[0]\n",
    "    for i in data[1:]:\n",
    "        if(minD>i):\n",
    "            minD=i\n",
    "    return minD\n",
    "\n",
    "def getTwoSum(num2,num1=1) :\n",
    "    twosum =0\n",
    "    if num1>num2:\n",
    "        num1, num2 = num2, num1\n",
    "    for i in range(num1,num2+1):\n",
    "        twosum+=i\n",
    "    return twosum\n",
    "    "
   ]
  },
  {
   "cell_type": "code",
   "execution_count": 151,
   "metadata": {},
   "outputs": [
    {
     "name": "stdout",
     "output_type": "stream",
     "text": [
      "data를 ,단위로 구분하여 입력해주세요1,2,3,4,5\n",
      "합계 : 15 평균 : 3.0 최대값 : 5 최소값 : 1\n"
     ]
    }
   ],
   "source": [
    "# 실행하는 부분과 호출하는 부분을 별로도 작성\n",
    "# 심화되면 실행하는 모듈과 호출하는 모듈이 다를 수 있다\n",
    "# 1. 값 입력\n",
    "dataL = input('data를 ,단위로 구분하여 입력해주세요').split(',')\n",
    "intDataL=[int(i) for i in dataL]\n",
    "\n",
    "# 2. 함수 호출\n",
    "print('합계 :',getSum(intDataL),\n",
    "        '/ 평균 :',getMean(intDataL),\n",
    "        '/ 최대값 :',getMax(intDataL),\n",
    "        '/ 최소값 :',getMin(intDataL))"
   ]
  },
  {
   "cell_type": "code",
   "execution_count": null,
   "metadata": {},
   "outputs": [],
   "source": []
  },
  {
   "cell_type": "code",
   "execution_count": null,
   "metadata": {},
   "outputs": [],
   "source": []
  },
  {
   "cell_type": "code",
   "execution_count": null,
   "metadata": {},
   "outputs": [],
   "source": []
  },
  {
   "cell_type": "code",
   "execution_count": null,
   "metadata": {},
   "outputs": [],
   "source": []
  }
 ],
 "metadata": {
  "kernelspec": {
   "display_name": "Python 3",
   "language": "python",
   "name": "python3"
  },
  "language_info": {
   "codemirror_mode": {
    "name": "ipython",
    "version": 3
   },
   "file_extension": ".py",
   "mimetype": "text/x-python",
   "name": "python",
   "nbconvert_exporter": "python",
   "pygments_lexer": "ipython3",
   "version": "3.7.6"
  }
 },
 "nbformat": 4,
 "nbformat_minor": 4
}
