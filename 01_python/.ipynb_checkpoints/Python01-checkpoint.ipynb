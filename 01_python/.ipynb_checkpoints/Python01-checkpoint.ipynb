{
 "cells": [
  {
   "cell_type": "markdown",
   "metadata": {},
   "source": [
    "## 변수와 데이터 타입\n",
    "### 파이썬에서의 데이터 타입들"
   ]
  },
  {
   "cell_type": "code",
   "execution_count": 104,
   "metadata": {},
   "outputs": [
    {
     "data": {
      "text/plain": [
       "'\\n파이썬에서의 데이터 타입 들\\nint - 정수\\nfloat - 실수\\nbool - False, True // 대문자 유의\\n\\n'"
      ]
     },
     "execution_count": 104,
     "metadata": {},
     "output_type": "execute_result"
    }
   ],
   "source": [
    "'''\n",
    "파이썬에서의 데이터 타입 들\n",
    "int - 정수\n",
    "float - 실수\n",
    "bool - False, True // 대문자 유의\n",
    "str - 문자열\n",
    "list - 순서가 있는 값들의 집합\n",
    "tuple - 순서가 있는 값들의 집합... 변경 불가\n",
    "set - 순서는 없고 중복이 안 되는 값들의 집합\n",
    "dic - 키와 값으로 데이터를 저장하는 타입\n",
    "\n",
    "'''"
   ]
  },
  {
   "cell_type": "code",
   "execution_count": null,
   "metadata": {},
   "outputs": [],
   "source": [
    "testStr=\"Hello, Python\"\n",
    "print(testStr)\n",
    "str"
   ]
  },
  {
   "cell_type": "code",
   "execution_count": null,
   "metadata": {},
   "outputs": [],
   "source": [
    "# 동적으로 변수 지정... 타입이 알아서 지정\n",
    "a=3\n",
    "b=3.5\n",
    "c='Hello'\n",
    "print(a)\n",
    "print(b)\n",
    "print(c)\n",
    "print('*'*50)\n",
    "# 타입 확인하는 함수 : type()\n",
    "print(type(a))\n",
    "print(type(b))\n",
    "print(type(c))"
   ]
  },
  {
   "cell_type": "code",
   "execution_count": null,
   "metadata": {},
   "outputs": [],
   "source": [
    "'''\n",
    "input()을 통해서 값을 입력... html input 태그\n",
    "문자로만 출력\n",
    "'''\n",
    "data = input('당신의 나이를 입력하세요')\n",
    "print('나이', data)\n",
    "print(type(data))"
   ]
  },
  {
   "cell_type": "code",
   "execution_count": 1,
   "metadata": {},
   "outputs": [
    {
     "name": "stdout",
     "output_type": "stream",
     "text": [
      "True\n"
     ]
    }
   ],
   "source": [
    "# int와 float\n",
    "d= 3\n",
    "e=3.0\n",
    "print(d==e)"
   ]
  },
  {
   "cell_type": "code",
   "execution_count": 2,
   "metadata": {},
   "outputs": [
    {
     "data": {
      "text/plain": [
       "\"\\n데이터 타입 별 어떤 기호 안에 들어가는지 알기\\n리스트와 딕셔너리 알기\\n리스트 [1,2,3] // 딕셔너리 {'a':1}\\n\""
      ]
     },
     "execution_count": 2,
     "metadata": {},
     "output_type": "execute_result"
    }
   ],
   "source": [
    "'''\n",
    "데이터 타입 별 어떤 기호 안에 들어가는지 알기\n",
    "리스트와 딕셔너리 알기\n",
    "리스트 [1,2,3] // 딕셔너리 {'a':1}\n",
    "'''"
   ]
  },
  {
   "cell_type": "markdown",
   "metadata": {},
   "source": [
    "## 연산자와 포매팅"
   ]
  },
  {
   "cell_type": "code",
   "execution_count": null,
   "metadata": {},
   "outputs": [],
   "source": [
    "'''\n",
    "포매팅은 알아서 찾기\n",
    "'''"
   ]
  },
  {
   "cell_type": "code",
   "execution_count": null,
   "metadata": {},
   "outputs": [],
   "source": [
    "'''\n",
    "연산자\n",
    "'''"
   ]
  },
  {
   "cell_type": "code",
   "execution_count": 14,
   "metadata": {},
   "outputs": [
    {
     "name": "stdout",
     "output_type": "stream",
     "text": [
      "1.6666666666666667\n",
      "<class 'float'>\n",
      "1\n",
      "<class 'int'>\n",
      "2\n",
      "<class 'int'>\n"
     ]
    }
   ],
   "source": [
    "# 나누기 : / \n",
    "num1=5\n",
    "num2=3\n",
    "print(num1/num2)\n",
    "print(type(num1/num2)) # 결과가 float으로 반환\n",
    "# 몫 : //\n",
    "print(num1//num2)\n",
    "print(type(num1//num2)) # 결과가 int\n",
    "# 나머지 : %\n",
    "remain = num1%num2\n",
    "print(remain)\n",
    "print(type(remain)) # 결과가 int"
   ]
  },
  {
   "cell_type": "code",
   "execution_count": 15,
   "metadata": {},
   "outputs": [
    {
     "data": {
      "text/plain": [
       "['__abs__',\n",
       " '__add__',\n",
       " '__and__',\n",
       " '__bool__',\n",
       " '__ceil__',\n",
       " '__class__',\n",
       " '__delattr__',\n",
       " '__dir__',\n",
       " '__divmod__',\n",
       " '__doc__',\n",
       " '__eq__',\n",
       " '__float__',\n",
       " '__floor__',\n",
       " '__floordiv__',\n",
       " '__format__',\n",
       " '__ge__',\n",
       " '__getattribute__',\n",
       " '__getnewargs__',\n",
       " '__gt__',\n",
       " '__hash__',\n",
       " '__index__',\n",
       " '__init__',\n",
       " '__init_subclass__',\n",
       " '__int__',\n",
       " '__invert__',\n",
       " '__le__',\n",
       " '__lshift__',\n",
       " '__lt__',\n",
       " '__mod__',\n",
       " '__mul__',\n",
       " '__ne__',\n",
       " '__neg__',\n",
       " '__new__',\n",
       " '__or__',\n",
       " '__pos__',\n",
       " '__pow__',\n",
       " '__radd__',\n",
       " '__rand__',\n",
       " '__rdivmod__',\n",
       " '__reduce__',\n",
       " '__reduce_ex__',\n",
       " '__repr__',\n",
       " '__rfloordiv__',\n",
       " '__rlshift__',\n",
       " '__rmod__',\n",
       " '__rmul__',\n",
       " '__ror__',\n",
       " '__round__',\n",
       " '__rpow__',\n",
       " '__rrshift__',\n",
       " '__rshift__',\n",
       " '__rsub__',\n",
       " '__rtruediv__',\n",
       " '__rxor__',\n",
       " '__setattr__',\n",
       " '__sizeof__',\n",
       " '__str__',\n",
       " '__sub__',\n",
       " '__subclasshook__',\n",
       " '__truediv__',\n",
       " '__trunc__',\n",
       " '__xor__',\n",
       " 'bit_length',\n",
       " 'conjugate',\n",
       " 'denominator',\n",
       " 'from_bytes',\n",
       " 'imag',\n",
       " 'numerator',\n",
       " 'real',\n",
       " 'to_bytes']"
      ]
     },
     "execution_count": 15,
     "metadata": {},
     "output_type": "execute_result"
    }
   ],
   "source": [
    "'''\n",
    "cell 간 변수 사용 가능\n",
    "cell 실행 시, 모두 메모리에 할당된다\n",
    "'''\n",
    "'''\n",
    "파이썬의 모든 변수는 객체로 취급된다\n",
    "그렇기 때문에 당연히 속성과 메소드가 있다\n",
    "'''\n",
    "# dir() : 해당 변수가 가진 속성들을 다 뽑기\n",
    "dir(num1)"
   ]
  },
  {
   "cell_type": "code",
   "execution_count": 23,
   "metadata": {},
   "outputs": [
    {
     "data": {
      "text/plain": [
       "int"
      ]
     },
     "execution_count": 23,
     "metadata": {},
     "output_type": "execute_result"
    }
   ],
   "source": [
    "# 형 변환 함수\n",
    "'''\n",
    "int() : 정수변환\n",
    "float() : 실수변환\n",
    "str() : 문자열 변환\n",
    "list() : 리스트 변환\n",
    "tuple() : 튜플 변환\n",
    "'''\n",
    "int(True) # True는 내부적으로 1, Flase는 내부적으로 0을 가진다\n",
    "int(False)\n",
    "round(44.25)\n",
    "type(int('111'))"
   ]
  },
  {
   "cell_type": "code",
   "execution_count": 26,
   "metadata": {},
   "outputs": [
    {
     "name": "stdout",
     "output_type": "stream",
     "text": [
      "James 의 나이는  55 살입니다\n"
     ]
    }
   ],
   "source": [
    "name = 'James'\n",
    "age = 55\n",
    "print(name, '의 나이는 ', age, '살입니다')"
   ]
  },
  {
   "cell_type": "code",
   "execution_count": 1,
   "metadata": {},
   "outputs": [
    {
     "name": "stdout",
     "output_type": "stream",
     "text": [
      "정수입력2\n",
      "<class 'str'>\n",
      "<class 'int'>\n",
      "2\n"
     ]
    }
   ],
   "source": [
    "num3=input('정수입력')\n",
    "print(type(num3))\n",
    "num4=int(num3)\n",
    "print(type(num4))\n",
    "print(num4)"
   ]
  },
  {
   "cell_type": "markdown",
   "metadata": {},
   "source": [
    "### 문제1. "
   ]
  },
  {
   "cell_type": "code",
   "execution_count": 50,
   "metadata": {},
   "outputs": [
    {
     "name": "stdout",
     "output_type": "stream",
     "text": [
      "초를 입력해주세요 :: \n",
      "3700\n",
      "3700 초는 1 시간 1 분 40 초입니다\n",
      "3700초는 1시간 1분 40초입니다\n",
      "3700초는 1시간 1분 40초입니다\n"
     ]
    }
   ],
   "source": [
    "# 키보드로부터 초를 입력받아 당므과 같이 출력합니다.... ex) 3700\n",
    "# 3700초를 입력받는다 1시간 1분 40초 입니다 가 출력되도록\n",
    "'''\n",
    "inputstr = input('초를 입력해주세요 >> ')\n",
    "temp = int(inputstr)\n",
    "second = temp % 60\n",
    "rowminute = temp // 60\n",
    "minute = rowminute % 60\n",
    "hour = rowminute // 60\n",
    "'''\n",
    "second = int(input('초를 입력해주세요 :: \\n'))\n",
    "hour = second//3600\n",
    "minute = second % 3600 // 60\n",
    "sec1 = second % 60\n",
    "print(second,'초는', hour, '시간', minute, '분', sec1,'초입니다')\n",
    "# 포메팅을 사용하여 동일한 결과를 출력\n",
    "print('%d초는 %d시간 %d분 %d초입니다' %(second, hour, minute, sec1))\n",
    "print('{}초는 {}시간 {}분 {}초입니다' .format(second, hour, minute, sec1))"
   ]
  },
  {
   "cell_type": "code",
   "execution_count": 36,
   "metadata": {},
   "outputs": [
    {
     "name": "stdout",
     "output_type": "stream",
     "text": [
      "True\n",
      "False\n",
      "2262889324688\n",
      "2262889324880\n"
     ]
    }
   ],
   "source": [
    "'''\n",
    "Immutable 타입으로는 \n",
    "Tuple, 숫자(int, float), str\n",
    "\n",
    "값은 같아도 다른 객체로 인식\n",
    "'''\n",
    "a = 257\n",
    "b = 257\n",
    "\n",
    "print(a==b)\n",
    "print(a is b) # 값은 같지만 서로 다른 객체\n",
    "print(id(a)) # id는 java의 주소값\n",
    "print(id(b))"
   ]
  },
  {
   "cell_type": "code",
   "execution_count": 40,
   "metadata": {},
   "outputs": [
    {
     "name": "stdout",
     "output_type": "stream",
     "text": [
      "True\n",
      "True\n",
      "140732669409904\n",
      "140732669409904\n"
     ]
    }
   ],
   "source": [
    "'''\n",
    "-5~256\n",
    "256: 가장 많이 쓰는 값 범위 중 하나\n",
    "이 범위 안이 정수값을 가장 많이 씀\n",
    "이는 메모리를 효율적으로 다뤄야 함을 뜻함\n",
    "메모리를 효율적으로 활용하기 위해\n",
    "이 범위에 있는 값은 한 번 객체를 만들고 나서는 다시 만들지 않는다\n",
    "'''\n",
    "a = 200\n",
    "b = 200\n",
    "\n",
    "print(a==b)\n",
    "print(a is b)\n",
    "print(id(a))\n",
    "print(id(b))\n",
    "# 같게 나온다"
   ]
  },
  {
   "cell_type": "code",
   "execution_count": 42,
   "metadata": {},
   "outputs": [
    {
     "name": "stdout",
     "output_type": "stream",
     "text": [
      "Hello\n",
      "Hello\n",
      "\n",
      "            This is\n",
      "            Mystr3 Test\n",
      "                    hello\n",
      "         \n"
     ]
    }
   ],
   "source": [
    "# 문자열... literal... 작은 따옴표 또는 큰 따옴표로 둘러싸서 만들 수 있다\n",
    "# 문자열을 여러 줄로 만들 경우... ''' ''' 활용\n",
    "mystr1= 'Hello'\n",
    "mystr2= \"Hello\"\n",
    "mystr3 = '''\n",
    "            This is\n",
    "            Mystr3 Test\n",
    "                    hello\n",
    "         '''\n",
    "print(mystr1)\n",
    "print(mystr2)\n",
    "print(mystr3)"
   ]
  },
  {
   "cell_type": "markdown",
   "metadata": {},
   "source": [
    "### Formating "
   ]
  },
  {
   "cell_type": "code",
   "execution_count": 47,
   "metadata": {},
   "outputs": [
    {
     "name": "stdout",
     "output_type": "stream",
     "text": [
      "손흥민의 나이는 28세, 이번 경기 평점은 9.57입니다\n",
      "현재 날짜는 2020년 7월 6일입니다.\n"
     ]
    }
   ],
   "source": [
    "#1.\n",
    "name = '손흥민'\n",
    "age = 28\n",
    "grade = 9.567\n",
    "# s= str, d =decimal, int, f = float , 0.2 = 수소점 두 자리까지\n",
    "print('%s의 나이는 %d세, 이번 경기 평점은 %0.2f입니다' %(name, age, grade)) \n",
    "\n",
    "#2 \n",
    "import time # time 라이브러리 사용한다\n",
    "now = time.localtime() # 현재 시간 출력\n",
    "print('현재 날짜는 %d년 %d월 %d일입니다.' %(now.tm_year, now.tm_mon, now.tm_mday))"
   ]
  }
 ],
 "metadata": {
  "kernelspec": {
   "display_name": "Python 3",
   "language": "python",
   "name": "python3"
  },
  "language_info": {
   "codemirror_mode": {
    "name": "ipython",
    "version": 3
   },
   "file_extension": ".py",
   "mimetype": "text/x-python",
   "name": "python",
   "nbconvert_exporter": "python",
   "pygments_lexer": "ipython3",
   "version": "3.7.6"
  }
 },
 "nbformat": 4,
 "nbformat_minor": 4
}
