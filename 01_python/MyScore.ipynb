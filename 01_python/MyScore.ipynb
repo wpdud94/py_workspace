{
 "cells": [
  {
   "cell_type": "code",
   "execution_count": null,
   "metadata": {},
   "outputs": [],
   "source": [
    "'''\n",
    "MyScore은 5개 함수를 가지고 있는 모듈입니다.\n",
    "모듈은 반드시 확장자가 py로 끝나야 한다\n",
    "1) File>download as>py서택\n",
    "2) 매직명령어 %%\n",
    "'''"
   ]
  },
  {
   "cell_type": "code",
   "execution_count": null,
   "metadata": {},
   "outputs": [],
   "source": [
    "def getSum(data):\n",
    "    sumD =0\n",
    "    for i in data:\n",
    "        sumD+=i\n",
    "    return sumD\n",
    "\n",
    "def getMean(data):\n",
    "    meanD=0\n",
    "    meanD = getSum(data)/len(data)\n",
    "    return meanD\n",
    "\n",
    "def getMax(data):\n",
    "    maxD = data[0]\n",
    "    for i in data[1:] :\n",
    "        if(maxD<i):\n",
    "            maxD=i\n",
    "    return maxD\n",
    "\n",
    "def getMin(data):\n",
    "    minD=data[0]\n",
    "    for i in data[1:]:\n",
    "        if(minD>i):\n",
    "            minD=i\n",
    "    return minD\n",
    "\n",
    "def getTwoSum(num2,num1=1) :\n",
    "    twosum =0\n",
    "    if num1>num2:\n",
    "        num1, num2 = num2, num1\n",
    "    for i in range(num1,num2+1):\n",
    "        twosum+=i\n",
    "    return twosum\n",
    "    "
   ]
  },
  {
   "cell_type": "code",
   "execution_count": null,
   "metadata": {},
   "outputs": [],
   "source": []
  },
  {
   "cell_type": "code",
   "execution_count": null,
   "metadata": {},
   "outputs": [],
   "source": []
  },
  {
   "cell_type": "code",
   "execution_count": null,
   "metadata": {},
   "outputs": [],
   "source": []
  },
  {
   "cell_type": "code",
   "execution_count": null,
   "metadata": {},
   "outputs": [],
   "source": []
  }
 ],
 "metadata": {
  "kernelspec": {
   "display_name": "Python 3",
   "language": "python",
   "name": "python3"
  },
  "language_info": {
   "codemirror_mode": {
    "name": "ipython",
    "version": 3
   },
   "file_extension": ".py",
   "mimetype": "text/x-python",
   "name": "python",
   "nbconvert_exporter": "python",
   "pygments_lexer": "ipython3",
   "version": "3.7.6"
  }
 },
 "nbformat": 4,
 "nbformat_minor": 4
}
