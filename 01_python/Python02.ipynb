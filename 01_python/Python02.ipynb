{
 "cells": [
  {
   "cell_type": "markdown",
   "metadata": {},
   "source": [
    "# 문자열\n",
    "## 인덱싱 & 슬라이싱"
   ]
  },
  {
   "cell_type": "code",
   "execution_count": 1,
   "metadata": {},
   "outputs": [
    {
     "data": {
      "text/plain": [
       "'\\n문자열 + * 연산자\\n+ : concat\\n* : 반복\\n'"
      ]
     },
     "execution_count": 1,
     "metadata": {},
     "output_type": "execute_result"
    }
   ],
   "source": [
    "'''\n",
    "문자열 + * 연산자\n",
    "+ : concat\n",
    "* : 반복\n",
    "'''"
   ]
  },
  {
   "cell_type": "code",
   "execution_count": 2,
   "metadata": {},
   "outputs": [
    {
     "data": {
      "text/plain": [
       "'\\n인덱싱 & 슬라이싱\\n\\n인덱싱 : 자료의 위치에 해당하는 자료 추출\\n슬라이싱 : 인덱싱을 활용해 범위에 해당하는 자료를 추출하는 것\\n[idx] : idx에 해당하는 자료 추출\\n[idx:idx2] : idx~idx2 직전에 해당하는 자료 추출\\n[-idx:] : 뒤에서 idx에 해당하는 자료 추출... 맨 뒤 = -1\\n\\n- 활용지점\\n복잡한 데이터를 가져올 때 정제하여 쓰기 쉽도록 함\\n'"
      ]
     },
     "execution_count": 2,
     "metadata": {},
     "output_type": "execute_result"
    }
   ],
   "source": [
    "'''\n",
    "인덱싱 & 슬라이싱\n",
    "\n",
    "인덱싱 : 자료의 위치에 해당하는 자료 추출\n",
    "슬라이싱 : 인덱싱을 활용해 범위에 해당하는 자료를 추출하는 것\n",
    "[idx] : idx에 해당하는 자료 추출\n",
    "[idx:idx2] : idx~idx2 직전에 해당하는 자료 추출\n",
    "[-idx:] : 뒤에서 idx에 해당하는 자료 추출... 맨 뒤 = -1\n",
    "\n",
    "- 활용지점\n",
    "복잡한 데이터를 가져올 때 정제하여 쓰기 쉽도록 함\n",
    "'''"
   ]
  },
  {
   "cell_type": "markdown",
   "metadata": {},
   "source": [
    "### 연습문제_pdf 2-40 page"
   ]
  },
  {
   "cell_type": "code",
   "execution_count": 3,
   "metadata": {},
   "outputs": [
    {
     "name": "stdout",
     "output_type": "stream",
     "text": [
      "날짜는 20180522이고 날씨는 Rainy입니다\n"
     ]
    }
   ],
   "source": [
    "# 1\n",
    "temp = '20180522Rainy'\n",
    "date = temp[0:8]\n",
    "weather = temp[8:]\n",
    "print('날짜는 {}이고 날씨는 {}입니다' .format(date, weather))\n",
    "\n"
   ]
  },
  {
   "cell_type": "markdown",
   "metadata": {},
   "source": [
    "## 주요 함수"
   ]
  },
  {
   "cell_type": "code",
   "execution_count": 4,
   "metadata": {},
   "outputs": [
    {
     "data": {
      "text/plain": [
       "'\\n주요함수\\nlen() \\nsplit() : 쪼개서 리스트로 반환\\njoin() : 쪼개진 자료를 합쳐 문자열로 반환\\n'"
      ]
     },
     "execution_count": 4,
     "metadata": {},
     "output_type": "execute_result"
    }
   ],
   "source": [
    "'''\n",
    "주요함수\n",
    "len() \n",
    "split() : 쪼개서 리스트로 반환\n",
    "join() : 쪼개진 자료를 합쳐 문자열로 반환\n",
    "'''"
   ]
  },
  {
   "cell_type": "code",
   "execution_count": 5,
   "metadata": {},
   "outputs": [
    {
     "data": {
      "text/plain": [
       "'\\nspilt()와 join() 사용법\\n::\\nsplit() 를 통해서 쪼개진 문자열들은 리스트 형태로 반환\\njoin()은 특정한 구분자로 나눠져 있는 리스트 자료형을 하나의 문자열로 만들어서 반환\\n'"
      ]
     },
     "execution_count": 5,
     "metadata": {},
     "output_type": "execute_result"
    }
   ],
   "source": [
    "'''\n",
    "spilt()와 join() 사용법\n",
    "::\n",
    "split() 를 통해서 쪼개진 문자열들은 리스트 형태로 반환\n",
    "join()은 특정한 구분자로 나눠져 있는 리스트 자료형을 하나의 문자열로 만들어서 반환\n",
    "'''"
   ]
  },
  {
   "cell_type": "markdown",
   "metadata": {},
   "source": [
    "### 예제"
   ]
  },
  {
   "cell_type": "code",
   "execution_count": 6,
   "metadata": {},
   "outputs": [
    {
     "name": "stdout",
     "output_type": "stream",
     "text": [
      "['기생충', ' 1987', ' 킹덤', ' 스타워즈', ' 쥬라기공원']\n",
      "기생충 1987 킹덤 스타워즈 쥬라기공원\n"
     ]
    }
   ],
   "source": [
    "movies = '기생충, 1987, 킹덤, 스타워즈, 쥬라기공원'\n",
    "movieL=movies.split(',')\n",
    "print(movieL)\n",
    "\n",
    "movie = ''\n",
    "movie = movie.join(movieL)\n",
    "print(movie)"
   ]
  },
  {
   "cell_type": "markdown",
   "metadata": {},
   "source": [
    "# 자료구조"
   ]
  },
  {
   "cell_type": "code",
   "execution_count": 7,
   "metadata": {},
   "outputs": [
    {
     "data": {
      "text/plain": [
       "'\\n1) List\\n2) Tuple\\n3) Set\\n4) Dictionary\\n'"
      ]
     },
     "execution_count": 7,
     "metadata": {},
     "output_type": "execute_result"
    }
   ],
   "source": [
    "'''\n",
    "1) List\n",
    "2) Tuple\n",
    "3) Set\n",
    "4) Dictionary\n",
    "'''"
   ]
  },
  {
   "cell_type": "markdown",
   "metadata": {},
   "source": [
    "## 리스트 CRUD (생성, 수정, 삭제, 추가, 검색)"
   ]
  },
  {
   "cell_type": "code",
   "execution_count": 8,
   "metadata": {},
   "outputs": [
    {
     "name": "stdout",
     "output_type": "stream",
     "text": [
      "5\n",
      "0\n",
      "0\n",
      "[2, 5, 3, 10, 4]\n"
     ]
    }
   ],
   "source": [
    "# 1. 리스트 생성\n",
    "myList = [2,5,3,10,4]\n",
    "myList1 = []\n",
    "myList2 = list()\n",
    "\n",
    "print(len(myList))\n",
    "print(len(myList1))\n",
    "print(len(myList2))\n",
    "\n",
    "# 리스트 확장\n",
    "myList1.extend(myList)\n",
    "print(myList1)"
   ]
  },
  {
   "cell_type": "code",
   "execution_count": 9,
   "metadata": {},
   "outputs": [
    {
     "name": "stdout",
     "output_type": "stream",
     "text": [
      "[2, 5, 3, -10, 4]\n"
     ]
    }
   ],
   "source": [
    "# 2. 리스트 수정\n",
    "myList[3] = -10\n",
    "print(myList)"
   ]
  },
  {
   "cell_type": "code",
   "execution_count": 10,
   "metadata": {},
   "outputs": [
    {
     "data": {
      "text/plain": [
       "[2, 5, 3, -10, 4, 888]"
      ]
     },
     "execution_count": 10,
     "metadata": {},
     "output_type": "execute_result"
    }
   ],
   "source": [
    "# 3. 리스트 추가\n",
    "# append(), insert() 사용\n",
    "# myList? # 객체 구조 아는 법\n",
    "\n",
    "# appennd() : 맨 뒤에 추가\n",
    "# myList.append(100)\n",
    "# print(myList)\n",
    "\n",
    "# insert(idx, data) : 양수면 idx 앞에 넣음 \n",
    "# -1 하면 맨 뒤 앞에 들어감\n",
    "# 마지막은 len을 써라\n",
    "myList.insert(len(myList), 888)\n",
    "myList"
   ]
  },
  {
   "cell_type": "code",
   "execution_count": 11,
   "metadata": {},
   "outputs": [
    {
     "data": {
      "text/plain": [
       "[2, 5, 3, -10, 4, 888]"
      ]
     },
     "execution_count": 11,
     "metadata": {},
     "output_type": "execute_result"
    }
   ],
   "source": [
    "# 4. 리스트 삭제\n",
    "'''\n",
    "del : 인덱스로 삭제\n",
    "remove : 삭제할 값을 직접 입력\n",
    "pop : 맨 마지막 값을 삭제한 후 그 값을 리턴함\n",
    "'''\n",
    "\n",
    "# del myList[3]\n",
    "# del myList[4:6]\n",
    "# myList.remove(101)\n",
    "myList\n",
    "# myList.pop(idx) 기본값은 마지막, 아니면 해당 인덱스"
   ]
  },
  {
   "cell_type": "markdown",
   "metadata": {},
   "source": [
    "## 리스트에서 값 추출하기"
   ]
  },
  {
   "cell_type": "code",
   "execution_count": 12,
   "metadata": {},
   "outputs": [
    {
     "data": {
      "text/plain": [
       "[8, 7, 6, 5, 4, 3, 2, 1]"
      ]
     },
     "execution_count": 12,
     "metadata": {},
     "output_type": "execute_result"
    }
   ],
   "source": [
    "myList = [1,2,3,4,5,6,7,8]\n",
    "# 슬라이싱을 써서 직접 작성\n",
    "# 1. 2,3\n",
    "myList[1:3]\n",
    "\n",
    "# 2. 1,2,3\n",
    "myList[:3]\n",
    "\n",
    "# 3. 5,6,7,8\n",
    "myList[-4:]\n",
    "myList[4:]\n",
    "\n",
    "# 4. 6,7,8\n",
    "myList[-3:]\n",
    "myList[5:]\n",
    "\n",
    "# \n",
    "myList.sort(reverse=True) # reverse = True : 내림차순 // False : 오름차순\n",
    "myList"
   ]
  },
  {
   "cell_type": "markdown",
   "metadata": {},
   "source": [
    "## 매직명령어"
   ]
  },
  {
   "cell_type": "code",
   "execution_count": 13,
   "metadata": {},
   "outputs": [
    {
     "name": "stdout",
     "output_type": "stream",
     "text": [
      "date\t movie\t movieL\t movies\t myList\t myList1\t myList2\t temp\t weather\t \n",
      "\n"
     ]
    }
   ],
   "source": [
    "'''\n",
    "매직명령어\n",
    "::\n",
    "%로 시작\n",
    "%whos : 지금까지 객체 변수명과 간단한 정보를 보여주는 명령어\n",
    "%who : 지금까지 객체 변수명 보여줌\n",
    "'''\n",
    "#%whos\n",
    "%who"
   ]
  },
  {
   "cell_type": "markdown",
   "metadata": {},
   "source": [
    "## 변수저장 순서와 사용"
   ]
  },
  {
   "cell_type": "code",
   "execution_count": 14,
   "metadata": {},
   "outputs": [
    {
     "data": {
      "text/plain": [
       "'\\n동일한 이름의 변수 선언 시 메모리에서 찾는 순서가 있음\\n1) 로컬변수(함수 안의 변수)는 로컬영역에 저장 -- 1번 : 여기를 가장 먼저 찾는다\\n2) 전역변수 전역영역에 저장 -- 2번\\n3) 내장변수는 내장영역에 저장 -- 3번\\n\\n내장함수명과 같은 변수명 지양\\n전역변수를 먼저 찾고 내장변수를 실행하기에 충돌남\\n\\n--> restart를 해줘 이전 메모리 내용을 지우고 다시 올리기\\n'"
      ]
     },
     "execution_count": 14,
     "metadata": {},
     "output_type": "execute_result"
    }
   ],
   "source": [
    "'''\n",
    "동일한 이름의 변수 선언 시 메모리에서 찾는 순서가 있음\n",
    "1) 로컬변수(함수 안의 변수)는 로컬영역에 저장 -- 1번 : 여기를 가장 먼저 찾는다\n",
    "2) 전역변수 전역영역에 저장 -- 2번\n",
    "3) 내장변수는 내장영역에 저장 -- 3번\n",
    "\n",
    "내장함수명과 같은 변수명 지양\n",
    "전역변수를 먼저 찾고 내장변수를 실행하기에 충돌남\n",
    "\n",
    "--> restart를 해줘 이전 메모리 내용을 지우고 다시 올리기\n",
    "'''"
   ]
  },
  {
   "cell_type": "code",
   "execution_count": 16,
   "metadata": {},
   "outputs": [
    {
     "name": "stdout",
     "output_type": "stream",
     "text": [
      "['a', 'b', 'c', 'd']\n"
     ]
    }
   ],
   "source": [
    "'''\n",
    "\n",
    "'''\n",
    "aaL = list('abcd')\n",
    "print(aaL)\n",
    "# list=[3,4,5]\n",
    "# print(list)\n",
    "# listdata=[3,4,5]\n",
    "# print(listdata)\n"
   ]
  },
  {
   "cell_type": "markdown",
   "metadata": {},
   "source": [
    "## 문제 2 - pdf 2-52"
   ]
  },
  {
   "cell_type": "code",
   "execution_count": 17,
   "metadata": {},
   "outputs": [
    {
     "data": {
      "text/plain": [
       "'\\n두 가지 방법으로 풀기\\n'"
      ]
     },
     "execution_count": 17,
     "metadata": {},
     "output_type": "execute_result"
    }
   ],
   "source": [
    "'''\n",
    "두 가지 방법으로 풀기\n",
    "1) reverse\n",
    "2) slicing\n",
    "'''"
   ]
  },
  {
   "cell_type": "code",
   "execution_count": 59,
   "metadata": {},
   "outputs": [
    {
     "name": "stdout",
     "output_type": "stream",
     "text": [
      "[1, 3, 5, 4]\n",
      "[1, 3, 5]\n",
      "[1, 3, 5, 4, 2]\n"
     ]
    }
   ],
   "source": [
    "numList = [1,3,5,4,2]\n",
    "# 1\n",
    "# numList.reverse()\n",
    "# print(numList)\n",
    "# 2\n",
    "print(numList[:-1]) # [a:b:s] a부터 b까지 s가\n",
    "print(numList[:-2])\n",
    "\n",
    "\n",
    "\n",
    "print(numList)"
   ]
  },
  {
   "cell_type": "markdown",
   "metadata": {},
   "source": [
    "## 문제3 - pdf 2-52"
   ]
  },
  {
   "cell_type": "code",
   "execution_count": 38,
   "metadata": {},
   "outputs": [
    {
     "name": "stdout",
     "output_type": "stream",
     "text": [
      "\u001b[1mPython is too interesting\n"
     ]
    }
   ],
   "source": [
    "'''\n",
    "spilt, join\n",
    "'''\n",
    "b=['Python','is','too','interesting']\n",
    "bstr = ' '.join(b)\n",
    "bstr\n",
    "print('\\033[1m' + bstr)"
   ]
  },
  {
   "cell_type": "markdown",
   "metadata": {},
   "source": [
    "## 2차원 배열에서 데이터 추출하기"
   ]
  },
  {
   "cell_type": "code",
   "execution_count": null,
   "metadata": {},
   "outputs": [],
   "source": [
    "'''\n",
    "2차원 배열\n",
    "= 행렬 =  Matrix\n",
    "::\n",
    "데이터분석에서는 Matrix를 자주 씀\n",
    "자주 쓰는 이유 : 행은 사람, 열은 Feature\n",
    "\n",
    "**1차원 배열 = Vector\n",
    "'''"
   ]
  },
  {
   "cell_type": "code",
   "execution_count": 6,
   "metadata": {},
   "outputs": [
    {
     "name": "stdout",
     "output_type": "stream",
     "text": [
      "2차원데이터 [[1, 3], [4, 6]]\n",
      "6만 출력 :  6\n"
     ]
    }
   ],
   "source": [
    "test2D = [[1,3],[4,6]]\n",
    "print('2차원데이터', test2D)\n",
    "\n",
    "# 6만 출력 by indexing\n",
    "print('6만 출력 : ',test2D[1][1])"
   ]
  },
  {
   "cell_type": "markdown",
   "metadata": {},
   "source": [
    "### 문제 4\n",
    "#### test2DL = [[1,2,3],[4,5,6],[7,8,9]], 이차원 배열을 생성\n",
    "#### 10이라는 값이 [7,8,9] 뒤에 오도록 append(), insert()를 사용하여 작성"
   ]
  },
  {
   "cell_type": "code",
   "execution_count": 21,
   "metadata": {},
   "outputs": [
    {
     "name": "stdout",
     "output_type": "stream",
     "text": [
      "test2DL :  [[1, 2, 3], [4, 5, 6], [7, 8, 9], [10]]\n",
      "test2DL :  [[1, 2, 3], [4, 5, 6], [7, 8, 9]]\n"
     ]
    }
   ],
   "source": [
    "test2DL = [[1,2,3],[4,5,6],[7,8,9]]\n",
    "# test2DL.append(10)\n",
    "test2DL.insert(len(test2DL),10)\n",
    "print('test2DL : ',test2DL)\n",
    "#print(test2DL.pop()) # 원래대로 돌리기\n",
    "test2DL.remove(10)\n",
    "print('test2DL : ',test2DL)"
   ]
  },
  {
   "cell_type": "markdown",
   "metadata": {},
   "source": [
    "### 문제 5\n",
    "#### myLang = [['hello','python'],['good-bye','c']]\n",
    "#### good만 추출"
   ]
  },
  {
   "cell_type": "code",
   "execution_count": 28,
   "metadata": {},
   "outputs": [
    {
     "name": "stdout",
     "output_type": "stream",
     "text": [
      "split 활용 :  good\n",
      "슬라이싱 사용 :  good\n"
     ]
    }
   ],
   "source": [
    "myLang = [['hello','python'],['good-bye','c']]\n",
    "print('split 활용 : ', myLang[1][0].split('-')[0])\n",
    "print('슬라이싱 사용 : ',myLang[1][0][:4])"
   ]
  },
  {
   "cell_type": "markdown",
   "metadata": {},
   "source": [
    "## 정렬하기 - 오름차순(기본), 내림차순"
   ]
  },
  {
   "cell_type": "code",
   "execution_count": 36,
   "metadata": {},
   "outputs": [
    {
     "name": "stdout",
     "output_type": "stream",
     "text": [
      "기본 :  [3, 1, 5, 2, 10]\n",
      "오름차순 정렬 :  [1, 2, 3, 5, 10]\n",
      "내림차순 정렬 :  [10, 5, 3, 2, 1]\n",
      "True\n",
      "False\n",
      "None\n"
     ]
    }
   ],
   "source": [
    "sortL = [3,1,5,2,10]\n",
    "print('기본 : ' , sortL)\n",
    "sortL.sort()\n",
    "# 오름차순\n",
    "print('오름차순 정렬 : ',sortL)\n",
    "# 내림차순\n",
    "# sortL.sort?  이걸로 sort 특성파악하기\n",
    "sortL.sort(reverse=True)\n",
    "print('내림차순 정렬 : ', sortL)\n",
    "\n",
    "# 해당 값이 있는지 없는지 확인\n",
    "print(5 in sortL)\n",
    "print(500 in sortL)\n",
    "\n",
    "# 리턴값이 없기 때문에 'None'이 출력\n",
    "# 파이썬은 없어도 에러 안 내고 None 출력\n",
    "print(sortL.sort()) "
   ]
  }
 ],
 "metadata": {
  "kernelspec": {
   "display_name": "Python 3",
   "language": "python",
   "name": "python3"
  },
  "language_info": {
   "codemirror_mode": {
    "name": "ipython",
    "version": 3
   },
   "file_extension": ".py",
   "mimetype": "text/x-python",
   "name": "python",
   "nbconvert_exporter": "python",
   "pygments_lexer": "ipython3",
   "version": "3.7.6"
  }
 },
 "nbformat": 4,
 "nbformat_minor": 4
}
