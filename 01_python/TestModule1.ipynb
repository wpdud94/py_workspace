{
 "cells": [
  {
   "cell_type": "code",
   "execution_count": 25,
   "metadata": {},
   "outputs": [],
   "source": [
    "from myGame import makeLotto, meanGrade\n",
    "\n",
    "def whichFunction():\n",
    "    choice = int(input('어느 함수를 실행하시겠습니까?\\n1:로또 게임, 2:학점계산기\\n'))\n",
    "    if(choice==1):\n",
    "        num= int(input('게임을 몇 번 할 지 숫자로 알려주세요'))\n",
    "        makeLotto(num)\n",
    "    else:\n",
    "        grade = input('학점을 ,단위로 입력해주세요\\n')\n",
    "        print('평균 학점 :',meanGrade(grade))\n",
    "\n"
   ]
  },
  {
   "cell_type": "code",
   "execution_count": 26,
   "metadata": {},
   "outputs": [
    {
     "name": "stdout",
     "output_type": "stream",
     "text": [
      "어느 함수를 실행하시겠습니까?\n",
      "1:로또 게임, 2:학점계산기\n",
      "2\n",
      "학점을 ,단위로 입력해주세요\n",
      "A,B,A,A,B\n",
      "평균 학점 : 3.9\n"
     ]
    }
   ],
   "source": [
    "whichFunction()"
   ]
  }
 ],
 "metadata": {
  "kernelspec": {
   "display_name": "Python 3",
   "language": "python",
   "name": "python3"
  },
  "language_info": {
   "codemirror_mode": {
    "name": "ipython",
    "version": 3
   },
   "file_extension": ".py",
   "mimetype": "text/x-python",
   "name": "python",
   "nbconvert_exporter": "python",
   "pygments_lexer": "ipython3",
   "version": "3.7.6"
  }
 },
 "nbformat": 4,
 "nbformat_minor": 4
}
