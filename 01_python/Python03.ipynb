{
 "cells": [
  {
   "cell_type": "markdown",
   "metadata": {},
   "source": [
    "## 튜플"
   ]
  },
  {
   "cell_type": "code",
   "execution_count": null,
   "metadata": {},
   "outputs": [],
   "source": [
    "'''\n",
    "튜플\n",
    "::\n",
    "1) Immutable : 변경 불가\n",
    "2) 생김새 : ()\n",
    "3) 메모리 상 효율성이 띄어나다\n",
    "- 조회기능에 몰빵했을 때 튜플이 더 효율적\n",
    "4) 그외 리스틑와 동일\n",
    "'''"
   ]
  },
  {
   "cell_type": "markdown",
   "metadata": {},
   "source": [
    "### 1. 튜플 생성하기"
   ]
  },
  {
   "cell_type": "code",
   "execution_count": 10,
   "metadata": {},
   "outputs": [
    {
     "name": "stdout",
     "output_type": "stream",
     "text": [
      "(4, 5, 6)\n",
      "<class 'tuple'>\n",
      "1\n",
      "<class 'int'>\n",
      "(1,)\n",
      "<class 'tuple'>\n"
     ]
    }
   ],
   "source": [
    "t1 = (1,2,3,4)\n",
    "t2=(4,5,6)\n",
    "print(t2)\n",
    "print(type(t2))\n",
    "\n",
    "# 출력했을 때 생김새가 ()가 아니면 튜플이 아니다\n",
    "t3=(1)\n",
    "print(t3)\n",
    "print(type(t3))\n",
    "# 값이 하나일 때는 반드시 뒤에 ,을 찍어줘야 튜플로 인식한다\n",
    "t4=(1,)\n",
    "print(t4)\n",
    "print(type(t4))\n",
    "'''\n",
    "결론\n",
    "::\n",
    "프로그램이 실행되는 동안 그 값이 항상 변하지 않기를 바란다면\n",
    "값이 바뀔까봐 걱정하고 싶지 않은 경우\n",
    "주저하지 말고 튜플\n",
    "\n",
    "이와는 반대로 수시로 그 값을 변경시켜야 하는 경우라면\n",
    "리스트를 써라\n",
    "'''"
   ]
  },
  {
   "cell_type": "code",
   "execution_count": 22,
   "metadata": {},
   "outputs": [
    {
     "name": "stdout",
     "output_type": "stream",
     "text": [
      "(1, 2, 3, 4, 5, 6, 7, 8, 9, 0, 100)\n"
     ]
    }
   ],
   "source": [
    "# 튜플 생성법 2\n",
    "\n",
    "# 파이썬 다중 할당 가능\n",
    "a,b,c = 1,2,3\n",
    "\n",
    "# 튜플은 ()생략가능\n",
    "tu = 1,2,3,4,5,6,7,8,9,0,100\n",
    "print(tu)"
   ]
  },
  {
   "cell_type": "markdown",
   "metadata": {},
   "source": [
    "### 2. 튜플과 메모리 효율성"
   ]
  },
  {
   "cell_type": "code",
   "execution_count": 29,
   "metadata": {},
   "outputs": [
    {
     "data": {
      "text/plain": [
       "208"
      ]
     },
     "execution_count": 29,
     "metadata": {},
     "output_type": "execute_result"
    }
   ],
   "source": [
    "import sys\n",
    "sys.getsizeof(tu)\n",
    "sys.getsizeof(list(tu))"
   ]
  },
  {
   "cell_type": "markdown",
   "metadata": {},
   "source": [
    "## 딕셔너리 (중요)"
   ]
  },
  {
   "cell_type": "markdown",
   "metadata": {},
   "source": [
    "### 1. 생성하기"
   ]
  },
  {
   "cell_type": "code",
   "execution_count": 31,
   "metadata": {},
   "outputs": [
    {
     "name": "stdout",
     "output_type": "stream",
     "text": [
      "{'name': 'DRAM', 'capa': '2G', 'maker': 'SK-H', 'price': 320000}\n"
     ]
    }
   ],
   "source": [
    "proDic = {'name':'DRAM','capa':'2G','maker':'SK-H','price':320000}\n",
    "print(proDic)"
   ]
  },
  {
   "cell_type": "markdown",
   "metadata": {},
   "source": [
    "### 2. 조회하기"
   ]
  },
  {
   "cell_type": "code",
   "execution_count": 36,
   "metadata": {},
   "outputs": [
    {
     "name": "stdout",
     "output_type": "stream",
     "text": [
      "DRAM\n",
      "DRAM\n"
     ]
    }
   ],
   "source": [
    "'''\n",
    "리스트나 튜플은 데이터의 요소를 출력할 때 \n",
    "인덱싱 or 슬라이싱을 활용\n",
    "\n",
    "딕셔너리의 경우\n",
    "key를 이용해서 값을 구하는 방법\n",
    "'''\n",
    "print(proDic['name'])\n",
    "print(proDic.get('name'))\n"
   ]
  },
  {
   "cell_type": "markdown",
   "metadata": {},
   "source": [
    "### 3. 수정하기"
   ]
  },
  {
   "cell_type": "code",
   "execution_count": 37,
   "metadata": {},
   "outputs": [
    {
     "name": "stdout",
     "output_type": "stream",
     "text": [
      "230000\n"
     ]
    }
   ],
   "source": [
    "proDic['price'] = 230000\n",
    "print(proDic['price'])"
   ]
  },
  {
   "cell_type": "markdown",
   "metadata": {},
   "source": [
    "### 4. 데이터 추가하기"
   ]
  },
  {
   "cell_type": "code",
   "execution_count": 39,
   "metadata": {},
   "outputs": [
    {
     "name": "stdout",
     "output_type": "stream",
     "text": [
      "{'name': 'DRAM', 'capa': '2G', 'maker': 'SK-H', 'price': 230000, 'location': '이천', 'pop': '33000'}\n"
     ]
    }
   ],
   "source": [
    "# 일종의 수정하기\n",
    "# 추가 정보는 딕셔너리 형태를 따라아 한다\n",
    "addInfo = {'location':'이천','pop':'33000'}\n",
    "proDic.update(addInfo)\n",
    "print(proDic)"
   ]
  },
  {
   "cell_type": "markdown",
   "metadata": {},
   "source": [
    "### 5. 삭제하기"
   ]
  },
  {
   "cell_type": "code",
   "execution_count": 40,
   "metadata": {},
   "outputs": [
    {
     "name": "stdout",
     "output_type": "stream",
     "text": [
      "{'name': 'DRAM', 'capa': '2G', 'maker': 'SK-H', 'price': 230000, 'location': '이천'}\n"
     ]
    }
   ],
   "source": [
    "# 삭제 문법 : del dicName[keyName]\n",
    "del proDic['pop']\n",
    "print(proDic)"
   ]
  },
  {
   "cell_type": "markdown",
   "metadata": {},
   "source": [
    "### 주의사항"
   ]
  },
  {
   "cell_type": "code",
   "execution_count": null,
   "metadata": {},
   "outputs": [],
   "source": [
    "'''\n",
    "딕셔너리 다룰 때 주의사항\n",
    "::\n",
    "1) 키값 중복 시 맨 마지막 내용만 입력됨(OverWriting 개념)\n",
    "2) 키값으로 리스트가 올 수 없다\n",
    "- 키는 유니크해야 한다(키값 기준)\n",
    "- 리스트는 변경될 수 있기 때문에 불가능하다\n",
    "- 튜플은 고유한 값이기에 가능하다\n",
    "\n",
    "'''"
   ]
  },
  {
   "cell_type": "code",
   "execution_count": 47,
   "metadata": {},
   "outputs": [
    {
     "data": {
      "text/plain": [
       "{(1, 2): 'h1'}"
      ]
     },
     "execution_count": 47,
     "metadata": {},
     "output_type": "execute_result"
    }
   ],
   "source": [
    "# 1)\n",
    "a = {1:'a',1:'b'}\n",
    "a\n",
    "\n",
    "# 2)\n",
    "# bb ={[1,2]:'hi'}\n",
    "# bb\n",
    "cc={(1,2):'h1'}\n",
    "cc"
   ]
  },
  {
   "cell_type": "markdown",
   "metadata": {},
   "source": [
    "### 6. 딕셔너리에서 함수 사용하기"
   ]
  },
  {
   "cell_type": "code",
   "execution_count": 51,
   "metadata": {},
   "outputs": [],
   "source": [
    "dic={'name':'JAMES','age':33,'address':'NewYork','phone':'01022223333'}\n",
    "dic?"
   ]
  },
  {
   "cell_type": "code",
   "execution_count": 58,
   "metadata": {},
   "outputs": [
    {
     "name": "stdout",
     "output_type": "stream",
     "text": [
      "dict_keys(['name', 'age', 'address', 'phone'])\n",
      "<class 'dict_keys'>\n",
      "['name', 'age', 'address', 'phone']\n",
      "dict_values(['JAMES', 33, 'NewYork', '01022223333'])\n"
     ]
    }
   ],
   "source": [
    "# 1. keys() : key만 뽑는 함수 / 리턴 : dict_keys 객체\n",
    "# 리스트로 하려면 변환하기\n",
    "'''\n",
    "dic_keys를 리스트로 변환하는 이유\n",
    ": 향후 자료 핸들링에 용이\n",
    "- 리스트 고유의 함수가 더 좋음\n",
    "ex) append(), insert(), pop(), remove(), sort(), 인덱싱, 슬라이싱 등\n",
    "- 이후 for문과 연결\n",
    "'''\n",
    "dic_keys = dic.keys()\n",
    "print(dic_keys)\n",
    "print(type(dic_keys))\n",
    "print(list(dic_keys))\n",
    "\n",
    "# 2. values() : 값들만 뽑 함수 / 리턴 : dict_values 객체 \n",
    "dic_values = dic.values()\n",
    "print(dic_value)"
   ]
  },
  {
   "cell_type": "code",
   "execution_count": 63,
   "metadata": {},
   "outputs": [
    {
     "name": "stdout",
     "output_type": "stream",
     "text": [
      "name\n",
      "age\n",
      "address\n",
      "phone\n",
      "******************************\n",
      "JAMES\n",
      "33\n",
      "NewYork\n",
      "01022223333\n",
      "******************************\n"
     ]
    }
   ],
   "source": [
    "# for문과 활용\n",
    "for k in dic.keys():\n",
    "    print(k)\n",
    "print('*'*30)\n",
    "for v in dic.values():\n",
    "    print(v)\n",
    "print('*'*30)"
   ]
  },
  {
   "cell_type": "code",
   "execution_count": 76,
   "metadata": {},
   "outputs": [
    {
     "name": "stdout",
     "output_type": "stream",
     "text": [
      "name  age  address  phone  \n",
      "******************************\n",
      "JAMES 33 NewYork 01022223333 "
     ]
    }
   ],
   "source": [
    "# name age address phone 형태로 출력\n",
    "for k in dic.keys():\n",
    "    print(k, ' ', end='')\n",
    "\n",
    "print('\\n'+'*'*30)\n",
    "for v in dic.values():\n",
    "    print(v, end=' ')"
   ]
  },
  {
   "cell_type": "code",
   "execution_count": 77,
   "metadata": {},
   "outputs": [
    {
     "name": "stdout",
     "output_type": "stream",
     "text": [
      "dict_items([('name', 'JAMES'), ('age', 33), ('address', 'NewYork'), ('phone', '01022223333')])\n"
     ]
    }
   ],
   "source": [
    "# 3. items() key, value 모두 가져오기\n",
    "dic_item = dic.items()\n",
    "print(dic_item) #key와 value를 쌍으로 묶은 튜플를 리스트에 넣어서 dic_items 객체로 리턴"
   ]
  },
  {
   "cell_type": "code",
   "execution_count": 86,
   "metadata": {},
   "outputs": [
    {
     "name": "stdout",
     "output_type": "stream",
     "text": [
      "{'name': 'JAMES', 'age': 33, 'address': 'NewYork', 'phone': '01022223333'}\n",
      "NewYork\n",
      "None\n"
     ]
    }
   ],
   "source": [
    "# 4. get() key로 value 얻기\n",
    "print(dic)\n",
    "address = dic.get('address')\n",
    "print(address)\n",
    "\n",
    "print(dic.get('addr')) # 존재하지 않는 키를 얻으면 None 출력\n",
    "'''\n",
    "None이 출력되는 경우\n",
    "::\n",
    "1) 리턴값이 없는 함수를 print로 출력할 때... sort() / sorted()은 리턴값이 있음\n",
    "2) 딕셔너리에서 존재하지 않은 키를 받아올 때... dic.get() / dic['addr']은 에러 발생\n",
    "'''"
   ]
  },
  {
   "cell_type": "code",
   "execution_count": 89,
   "metadata": {},
   "outputs": [
    {
     "data": {
      "text/plain": [
       "True"
      ]
     },
     "execution_count": 89,
     "metadata": {},
     "output_type": "execute_result"
    }
   ],
   "source": [
    "# 4. in : 딕셔너리에 해당 키값이 있는지?\n",
    "'name' in dic"
   ]
  },
  {
   "cell_type": "markdown",
   "metadata": {},
   "source": [
    "## Set"
   ]
  },
  {
   "cell_type": "code",
   "execution_count": null,
   "metadata": {},
   "outputs": [],
   "source": [
    "'''\n",
    "Set\n",
    "::\n",
    "1) 중복 X, 순서 X\n",
    "2) 추출하기 편하기 위해 list로 변환 가능\n",
    "3) 생김새 : {}\n",
    "4) (중요) 리스트에서 중복데이터 없앨 때 자주 씀 : set 변환하면 중복데이터 사라짐\n",
    "'''"
   ]
  },
  {
   "cell_type": "code",
   "execution_count": 2,
   "metadata": {},
   "outputs": [
    {
     "name": "stdout",
     "output_type": "stream",
     "text": [
      "[1, 1, 2, 2, 3, 3, 4, 4]\n",
      "[1, 2, 3, 4]\n"
     ]
    }
   ],
   "source": [
    "mySet = {'a','b','c','a','b'}\n",
    "mySet\n",
    "mylist = [1,1,2,2,3,3,4,4]\n",
    "print(mylist)\n",
    "a=set(mylist)\n",
    "listData=list(a)\n",
    "print(listData)"
   ]
  },
  {
   "cell_type": "markdown",
   "metadata": {},
   "source": [
    "### Set 관련 함수"
   ]
  },
  {
   "cell_type": "code",
   "execution_count": 23,
   "metadata": {},
   "outputs": [],
   "source": [
    "# 1. 추가... add\n",
    "# 하나의 값만 추가 가능\n",
    "s1 = set([1,2,3])\n",
    "s1.add(4)\n",
    "s1\n",
    "\n",
    "s1.add?"
   ]
  },
  {
   "cell_type": "code",
   "execution_count": 29,
   "metadata": {},
   "outputs": [
    {
     "data": {
      "text/plain": [
       "{1, 2, 3, 4, 5, 6, 7}"
      ]
     },
     "execution_count": 29,
     "metadata": {},
     "output_type": "execute_result"
    }
   ],
   "source": [
    "# 2. 값 여러 개 추가...update\n",
    "# set 자체를 넣어야 함\n",
    "s2 = {4,5,6}\n",
    "s1.update(s2) # 중복 안 됨을 확인하기\n",
    "s2 = {7}\n",
    "s1.update(s2)\n",
    "s1"
   ]
  },
  {
   "cell_type": "code",
   "execution_count": 30,
   "metadata": {},
   "outputs": [
    {
     "data": {
      "text/plain": [
       "{1, 2, 3, 5, 6, 7}"
      ]
     },
     "execution_count": 30,
     "metadata": {},
     "output_type": "execute_result"
    }
   ],
   "source": [
    "# 3. 삭제...remove(해당 값)\n",
    "s1.remove(4)\n",
    "s1"
   ]
  },
  {
   "cell_type": "markdown",
   "metadata": {},
   "source": [
    "## sorted"
   ]
  },
  {
   "cell_type": "code",
   "execution_count": 13,
   "metadata": {},
   "outputs": [
    {
     "name": "stdout",
     "output_type": "stream",
     "text": [
      "[4, 3, 2, 1]\n",
      "**************************************************\n",
      "[4, 3, 2, 1]\n"
     ]
    }
   ],
   "source": [
    "# sort || sorted\n",
    "listData.sort(reverse=True)\n",
    "print(listData)\n",
    "print('*'*50)\n",
    "print(sorted(listData, reverse=True))"
   ]
  },
  {
   "cell_type": "code",
   "execution_count": 14,
   "metadata": {},
   "outputs": [
    {
     "name": "stdout",
     "output_type": "stream",
     "text": [
      "Variable   Type    Data/Info\n",
      "----------------------------\n",
      "a          set     {1, 2, 3, 4}\n",
      "b          list    n=4\n",
      "listData   list    n=4\n",
      "mySet      set     {'a', 'c', 'b'}\n",
      "mylist     list    n=8\n"
     ]
    }
   ],
   "source": [
    "%whos"
   ]
  }
 ],
 "metadata": {
  "kernelspec": {
   "display_name": "Python 3",
   "language": "python",
   "name": "python3"
  },
  "language_info": {
   "codemirror_mode": {
    "name": "ipython",
    "version": 3
   },
   "file_extension": ".py",
   "mimetype": "text/x-python",
   "name": "python",
   "nbconvert_exporter": "python",
   "pygments_lexer": "ipython3",
   "version": "3.7.6"
  }
 },
 "nbformat": 4,
 "nbformat_minor": 4
}
